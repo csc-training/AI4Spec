{
 "cells": [
  {
   "cell_type": "markdown",
   "metadata": {
    "id": "Fl2hw46ADkH4"
   },
   "source": [
    "# AI4Spec 1: Predicting individual energy levels with kernel methods\n",
    "\n",
    "In these tutorials exercises, we review different AI approaches to predicting ground or excited state energy levels simply based on the atomic structure of materials. Here we focus on molecules and molecular orbitals, but the same principles apply to crystal structures and electronic bands.\n",
    "\n",
    "We start by predicting individual electronic states (Tutorial 1), proceed towards predicting multiple states at once (Tutorial 2) and finish by predicting entire spectral curves (Tutorial 3). **The tutorials were prepared by Milica Todorović (University of Turku) and Kunal Ghosh (Aalto University)**.\n",
    "\n",
    "<img src=\"https://raw.githubusercontent.com/milicasan/TutorialImages/89238bfff57a38ec78ecbd08765b63bd15ff9e2c/AI4spec.png\" width=\"600px\"/>\n",
    "\n",
    "In the exercise below, **our AI objective is to train a model to predict a single electronic energy level, HOMO for example**. This is a classic example of supervised machine learning regression, where the objective (label) is a single floating-point number. Many AI models can address this task, from decision trees, via kernel-based learning to neural networks. Here, we demonstrate the use of Kernel Ridge Regression (KRR), a relatively simple regression approach that has performed well on numerous prediction tasks in physics and chemistry, [as shown in this tutorial](https://onlinelibrary.wiley.com/doi/full/10.1002/qua.24954).\n",
    "\n",
    "We use a large dataset of molecular structures and their computed HOMO energies to train the AI. Once the model is trained, it can be used as a tool: one can input a new molecule (previously unseen by the model) and instantly receive a value for its HOMO, within the expected error of the trained model."
   ]
  },
  {
   "cell_type": "markdown",
   "metadata": {
    "id": "XegnO6aTwrmX"
   },
   "source": [
    "## 1. HOMO energy prediction with kernel ridge regression\n",
    "\n",
    "Here we will machine-learn the relationship between molecular structure (represented by the Coulomb matrix, CM) and their HOMO (Highest Occupied Molecular Orbital) energy using KRR.\n",
    "\n",
    "* This tutorial shows step by step how to load the data, visualize them, select the hyperparameters, train the model and validate it.\n",
    "* We use the **QM7 dataset of 7000 small organic molecules**.\n",
    "* The HOMO energies of all molecules were pre-computed with first principles quantum mechanical methods (DFT) to obtain the target data that our model can be trained on.\n",
    "* Detailed descriptions and results for a similar dataset (QM9) can be found in [A. Stuke, et al. \"Chemical diversity in molecular orbital energy predictions with kernel ridge regression.\" J. Chem. Phys. 150. 204121 (2019)](https://aip.scitation.org/doi/10.1063/1.5086105).\n",
    "\n",
    "### 1.1 Setup"
   ]
  },
  {
   "cell_type": "code",
   "execution_count": null,
   "metadata": {
    "id": "qdphsPPRwwNF"
   },
   "outputs": [],
   "source": [
    "from sklearn.model_selection import GridSearchCV\n",
    "from sklearn.model_selection import cross_validate\n",
    "from sklearn.kernel_ridge import KernelRidge\n",
    "from sklearn.metrics import r2_score\n",
    "\n",
    "import numpy as np\n",
    "import matplotlib.pyplot as plt\n",
    "import pandas as pd\n",
    "import seaborn as sns\n",
    "import json\n",
    "import math, random\n",
    "from scipy.sparse import load_npz\n",
    "from matplotlib.colors import LinearSegmentedColormap\n",
    "import time"
   ]
  },
  {
   "cell_type": "markdown",
   "metadata": {
    "id": "hi4ISia7wrmc"
   },
   "source": [
    "### 1.2 Load and visualize data\n",
    "\n",
    "At first, we load the data.\n",
    "\n",
    "* The input data `x` is an array that contains all 7000 molecules of the QM7 dataset, represented by their Coulomb matrices, which were computed with the [Dscribe](https://www.sciencedirect.com/science/article/pii/S0010465519303042?via%3Dihub) package.\n",
    "* The output data `y` is a list that contains the corresponding (pre-computed) HOMO energies."
   ]
  },
  {
   "cell_type": "code",
   "execution_count": null,
   "metadata": {
    "colab": {
     "base_uri": "https://localhost:8080/"
    },
    "id": "jTZ_1hpqLBK5",
    "outputId": "a15f3c92-4b6c-453a-e0d6-1a9e91e72112"
   },
   "outputs": [],
   "source": [
    "!wget https://github.com/fullmetalfelix/ML-CSC-tutorial/raw/master/data/qm7/cm.npz\n",
    "!wget https://raw.githubusercontent.com/fullmetalfelix/ML-CSC-tutorial/master/data/qm7/HOMO.txt"
   ]
  },
  {
   "cell_type": "code",
   "execution_count": null,
   "metadata": {
    "colab": {
     "base_uri": "https://localhost:8080/"
    },
    "id": "6tTcc8Mtwrmd",
    "outputId": "baf6dc4d-80fb-4b36-f3ba-026677ad11ee"
   },
   "outputs": [],
   "source": [
    "x = load_npz(\"cm.npz\").toarray()\n",
    "y = np.genfromtxt(\"HOMO.txt\")\n",
    "\n",
    "print(\"Number of molecules:\", len(y))"
   ]
  },
  {
   "cell_type": "markdown",
   "metadata": {
    "id": "yWa4pRHxwrmf"
   },
   "source": [
    "Next, print the Coulomb matrix of a random molecule in the dataset."
   ]
  },
  {
   "cell_type": "code",
   "execution_count": null,
   "metadata": {
    "colab": {
     "base_uri": "https://localhost:8080/"
    },
    "id": "7CovKOElwrmg",
    "outputId": "68c822c8-6e05-431d-8223-791fc3851287"
   },
   "outputs": [],
   "source": [
    "rand_mol = random.randint(0, len(y))\n",
    "\n",
    "print(x[rand_mol])"
   ]
  },
  {
   "cell_type": "markdown",
   "metadata": {
    "id": "BKo-SoN2wrmh"
   },
   "source": [
    "Visualize the Coulomb matrix of the random molecule."
   ]
  },
  {
   "cell_type": "code",
   "execution_count": null,
   "metadata": {
    "colab": {
     "base_uri": "https://localhost:8080/",
     "height": 502
    },
    "id": "GJu2RtUhwrmh",
    "outputId": "1466b332-185d-4ad7-e2f6-c3696ceed6d5"
   },
   "outputs": [],
   "source": [
    "shape = (23, 23)\n",
    "mat = x[rand_mol].reshape(shape)\n",
    "\n",
    "plt.figure()\n",
    "plt.figure(figsize = (6,6))\n",
    "plt.imshow(mat, origin=\"upper\", cmap='rainbow', vmin=-15, vmax=75, interpolation='nearest')\n",
    "plt.colorbar(fraction=0.046, pad=0.04).ax.tick_params(labelsize=20)\n",
    "plt.axis('off')\n",
    "plt.show()"
   ]
  },
  {
   "cell_type": "markdown",
   "metadata": {
    "id": "n434DnNSwrmi"
   },
   "source": [
    "**Note that many of the outputs are zero in the Coulomb matrix.** This is because the number of non-zero outputs depends on the size of the molecule, and all smaller molecules contain zero padding (i.e. all CMs must have equal dimensions).\n",
    "\n",
    "Visualize the target data by plotting the distribution of HOMO energies in the dataset:"
   ]
  },
  {
   "cell_type": "code",
   "execution_count": null,
   "metadata": {
    "colab": {
     "base_uri": "https://localhost:8080/",
     "height": 510
    },
    "id": "YxjygJgJwrmj",
    "outputId": "c0683fc7-7a3d-490a-e012-bc6e7210c3a5"
   },
   "outputs": [],
   "source": [
    "plt.hist(y, bins=20, density=False, facecolor='blue')\n",
    "plt.xlabel(\"Energy [eV]\")\n",
    "plt.ylabel(\"Number of molecules\")\n",
    "plt.title(\"Distribution of HOMO energies\")\n",
    "plt.show()\n",
    "\n",
    "## mean value of distribution\n",
    "print(\"Mean value of HOMO energies in QM7 dataset: %0.2f eV\" %np.mean(y))"
   ]
  },
  {
   "cell_type": "markdown",
   "metadata": {
    "id": "QpgK9ky-wrmk"
   },
   "source": [
    "Before dividing the dataset into a **training set** and a **test set**, we **shuffle** the data. This is because data are often stored in a logical order (e.g., certain types of molecules grouped one after each other). Simply taking the first part for training and the second for testing might not result in a well-trained model, since the training set would not represent the test data well (and vice versa)."
   ]
  },
  {
   "cell_type": "code",
   "execution_count": null,
   "metadata": {
    "id": "6luJyqCKwrmk"
   },
   "outputs": [],
   "source": [
    "## shuffle the data\n",
    "\n",
    "c = list(zip(x, y))\n",
    "random.shuffle(c)\n",
    "\n",
    "x, y = zip(*c)\n",
    "\n",
    "x = np.array(x)\n",
    "y = np.array(y)"
   ]
  },
  {
   "cell_type": "markdown",
   "metadata": {
    "id": "XQh-MAv5wrml"
   },
   "source": [
    "Now, we divide the data into training and test set."
   ]
  },
  {
   "cell_type": "code",
   "execution_count": null,
   "metadata": {
    "id": "wmnl8ZzAwrmm"
   },
   "outputs": [],
   "source": [
    "# decide how many samples to take from the database for training and testing\n",
    "n_train = 1000\n",
    "n_test = 1000\n",
    "\n",
    "# split data in training and test\n",
    "# take first n_train molecules for training\n",
    "x_train  = x[0:n_train]\n",
    "y_train = y[0:n_train]\n",
    "\n",
    "# take the next n_test data for testing\n",
    "x_test = x[n_train:n_train + n_test]\n",
    "y_test = y[n_train:n_train + n_test]"
   ]
  },
  {
   "cell_type": "markdown",
   "metadata": {
    "id": "uEP7iSchwrmm"
   },
   "source": [
    "Check that the training data resemble the test data well by plotting the distribution of HOMO energies for both sets. **The distributions should be centered around the same mean value and have the same shape.**"
   ]
  },
  {
   "cell_type": "code",
   "execution_count": null,
   "metadata": {
    "colab": {
     "base_uri": "https://localhost:8080/",
     "height": 504
    },
    "id": "w_H7kOBTwrmn",
    "outputId": "14677f4e-42d1-4de3-8360-dbadedd01a3d"
   },
   "outputs": [],
   "source": [
    "plt.hist(y_test, bins=20, density=False, alpha=0.5, facecolor='red', label='test set')\n",
    "plt.hist(y_train, bins=20, density=False, alpha=0.5, facecolor='gray', label='training set')\n",
    "plt.xlabel(\"Energy [eV]\")\n",
    "plt.ylabel(\"Number of molecules\")\n",
    "plt.legend()\n",
    "plt.show()\n",
    "\n",
    "## mean value of distributions\n",
    "print(\"Mean value of HOMO energies in training set: %0.2f eV\" %np.mean(y_train))\n",
    "print(\"Mean value of HOMO energies in test set: %0.2f eV\" %np.mean(y_test))"
   ]
  },
  {
   "cell_type": "markdown",
   "metadata": {
    "id": "0FxS6Kazwrmo"
   },
   "source": [
    "### 1.3 Training\n",
    "\n",
    "In the training phase we use a **kernel function** to measure the distance between all pairs of molecules (represented by their Coulomb matrices) in the training set. We here employ one of two kernels, the **Gaussian kernel** or the **Laplacian kernel**. Both kernels have two **hyperparameters**:\n",
    "\n",
    "* $\\alpha$ controls the penalty term\n",
    "* $\\gamma$ controls the kernel width\n",
    "\n",
    "To find the optimal hyperparameters, we will do a **grid search**, i.e. we test the performance of a model trained with values of the hyperparameters that are spaced out on a grid in search space and choose the hyperparameters that yield the best performance.\n",
    "\n",
    "The model performance is quantified by splitting off a part of the training set as **validation set**. We validate the model by making predictions on this validation set. This check of the model performance can be further refined with **cross-validation**, where the roles of training and validation sets alternate. The ratio can be varied, for example in **5-fold cross-validation**, the training set is split in 5 equal parts. The model is trained on 80% of the data and validated on the other 20%. Then the roles of training and validation set rotate until each part has served as validation set exactly once.\n",
    "\n",
    "For our implementation, we will use the **scikit-learn** module.\n",
    "\n",
    "A more detailed optional explanation, which is not required for the solution of the exercise, can be found in the hidden cell below."
   ]
  },
  {
   "cell_type": "markdown",
   "metadata": {
    "id": "IqRlAI8983CM"
   },
   "source": [
    "<details><summary>Detailed explanation (optional)</summary>\n",
    "The Gaussian kernel is given by\n",
    "\n",
    "\\begin{equation}\n",
    "k_{Gaussian}(\\boldsymbol{x},\\boldsymbol{x}')=e^{-\\frac{||{\\boldsymbol{x}-\\boldsymbol{x}'}||_2^2}{2\\gamma^2}},\n",
    "\\end{equation}\n",
    "\n",
    "which employs the Euclidean distance as similarity measure. The parameter $\\gamma$ is defined as $\\frac{1}{2\\sigma^2}$, where $\\sigma$ is the standard deviation of the Gaussian kernel (kernel width). The Laplacian kernel is given by\n",
    "\n",
    "\\begin{equation}\n",
    "k_{Laplacian}(\\boldsymbol{x},\\boldsymbol{x}')=e^{-\\frac{||{\\boldsymbol{x}-\\boldsymbol{x}'}||_1}{\\gamma}},\n",
    "\\end{equation}\n",
    "\n",
    "which uses the 1-norm as similarity measure. Here, $\\gamma$ is defined as $\\frac{1}{\\sigma}$, where $\\sigma$ is the kernel width of the Laplacian kernel.\n",
    "\n",
    "In the KRR training phase with $N$ training molecules, the machine learns the relationship between the molecules (represented by their Coulomb matrix) and their corresponding (pre-computed) HOMO energies. It does so by employing a function $f(\\boldsymbol{x})$ that maps a training molecule $\\boldsymbol{x}$ to its reference HOMO energy:\n",
    "\n",
    "\\begin{equation}\n",
    "f(\\boldsymbol{x}) = \\sum_{i=1}^N \\omega_i k(\\boldsymbol{x}, \\boldsymbol{x}_i) = HOMO^{ref},\n",
    "\\end{equation}\n",
    "\n",
    "For a given training molecule $\\boldsymbol{x}$, the distance to each molecule in the training set is computed by employing the kernel function $k$ (either Gaussian or Laplacian). Each kernel contribution (distance) is then weighted by a regression weight $\\omega_i$. The above function is thus given by the weighted sum of kernel contributions (sum over $N$ training molecules). The purpose of training is to fit the regression weight $\\omega_i$ so that HOMO$_{ref}$ is matched for each training molecule. In practice, the machine solves the minimization problem\n",
    "\n",
    "\n",
    "\\begin{equation}\n",
    " \\underset{\\omega}{min} \\sum_{i=1}^N (f(\\boldsymbol{x}_i) - HOMO^{ref}_i)^2 + \\alpha \\boldsymbol{\\omega}^T \\mathbf{K} \\boldsymbol{\\omega}.\n",
    "\\end{equation}\n",
    "\n",
    "for a vector $\\boldsymbol{\\omega} \\in \\mathbb{R}^N = (\\omega_1, \\omega_2, ..., \\omega_N)$ of regression weights. In KRR, the penalty term $ \\alpha \\boldsymbol{\\omega}^T \\mathbf{K} \\boldsymbol{\\omega}$ is added to the minimization problem in order to avoid over- and underfitting. Overfitting occurs when the model learns the training data too well, even the noise and other unimportant details. The model is unable to generalize on unseen data and therefore yields high prediction errors on the test data. Underfitting occurs when the model is too simple and does not learn the training data at all, and therefore is not able to predict test data well either. Both behaviours can be avoided by tuning the parameter $\\alpha \\in \\left[0,1\\right]$ to a reasonable value. This has do be done separately from training. Both the regularization parameter $\\alpha$ and the kernel width $\\gamma$ are so called hyperparameters. Hyperparameters cannot be learned during training and have to be selected beforehand. However, it is not always obvious how to choose these hyperparameters and it often requires intuition or rules of thumb. We here employ a cross-validated grid search in order to find the best values for these two hyperparameters.\n",
    "\n",
    "In grid search, a part of the training set is split off as validation set. We set up a grid of pre-defined hyperparameter values and train the machine on the remaining training set, for each possible combination of $\\alpha$ and $\\gamma$ values. We validate each possible combination by making predictions on the validation set. The two hyperparameter values that yield the best performance (lowest error) are then selected for the final model to make predictions on the test set.\n",
    "\n",
    "In cross-validation, the roles of training and validation sets alternate. As described above, a part from the training set is split off as validation set. After training one combination of hyperparameters on the remaining training set and validating on the validation set, the validation set becomes the training set and vice versa, and the model is trained on the new training set and validated on the new validation set for the same combination of hyperparameters. The ratio can be varied, for example in 5-fold cross-validation, the training set is split in 5 equal parts. For each combination of hyperparameters, the model is trained on 80% of the data and validated on the other 20%. Then the roles of training and validation set rotate until each part has served as validation set exactly once. The final validation error for one particular combination of hyperparameters is computed as the mean from all 5 errors on the 5 validation sets. The combination with lowest average error is chosen for the final model.\n",
    "\n",
    "The cross-validated grid search routine is implemented in scikit-learn.\n",
    "</details>"
   ]
  },
  {
   "cell_type": "markdown",
   "metadata": {
    "id": "O5e2EytL8aDY"
   },
   "source": [
    "### 1.4 KRR Code"
   ]
  },
  {
   "cell_type": "code",
   "execution_count": null,
   "metadata": {
    "colab": {
     "base_uri": "https://localhost:8080/",
     "height": 778
    },
    "id": "hbcOapWDwrmp",
    "outputId": "1d28b29e-0eb8-4473-fa33-4ae2bd9ee3af"
   },
   "outputs": [],
   "source": [
    "# set up grids for alpha and gamma hyperparameters.\n",
    "# first value: lower bound; second value: upper bound;\n",
    "# third value: number of points to evaluate\n",
    "\n",
    "alpha = np.logspace(-4, -2, 3)\n",
    "gamma = np.logspace(-4, -2, 3)\n",
    "\n",
    "cv_number = 2 ## choose into how many parts training set is divided for cross-validation\n",
    "kernel = 'laplacian' # select kernel function here ('rbf': Gaussian kernel, 'laplacian': Laplacian kernel)\n",
    "scoring_function = 'neg_mean_absolute_error' # it is called \"negative\" because scikit-learn interprets\n",
    "                                             # highest scoring value as best, but we want small errors\n",
    "\n",
    "## define settings for grid search routine in scikit-learn with above defined grids as input\n",
    "\n",
    "grid_search = GridSearchCV(KernelRidge(),  #machine learning method (KRR here)\n",
    "                           [{'kernel':[kernel],'alpha': alpha, 'gamma': gamma}],\n",
    "                           cv = cv_number,\n",
    "                           scoring = scoring_function,\n",
    "                           n_jobs = -1)    #use all available CPU cores\n",
    "\n",
    "# call the fit function in scikit-learn which fits the Coulomb matrices in the training set\n",
    "# to their corresponding HOMO energies.\n",
    "grid_search.fit(x_train, y_train)"
   ]
  },
  {
   "cell_type": "markdown",
   "metadata": {
    "id": "mTrweQ1Mwrmr"
   },
   "source": [
    "### 1.5 Grid search results\n",
    "\n",
    "Print out the average validation errors and corresponding hyperparameter combinations"
   ]
  },
  {
   "cell_type": "code",
   "execution_count": null,
   "metadata": {
    "colab": {
     "base_uri": "https://localhost:8080/"
    },
    "id": "066IjiWawrmr",
    "outputId": "de299c89-9c65-437c-c798-72bb63bd89e0"
   },
   "outputs": [],
   "source": [
    "means = grid_search.cv_results_['mean_test_score']\n",
    "stds = grid_search.cv_results_['std_test_score']\n",
    "for mean, std, params in zip(-means, stds, grid_search.cv_results_['params']):\n",
    "    print(\"%0.3f (+/-%0.03f) for %r\" % (mean, std * 2, params))"
   ]
  },
  {
   "cell_type": "markdown",
   "metadata": {
    "id": "SrfhK2fTwrms"
   },
   "source": [
    "Next, we visualize the grid search results by plotting a heatmap."
   ]
  },
  {
   "cell_type": "code",
   "execution_count": null,
   "metadata": {
    "colab": {
     "base_uri": "https://localhost:8080/",
     "height": 488
    },
    "id": "T2swGFTLwrmt",
    "outputId": "e8b282a6-56fb-4a2e-93c0-bacf613f594e"
   },
   "outputs": [],
   "source": [
    "results = pd.DataFrame(grid_search.cv_results_)\n",
    "\n",
    "pvt = pd.pivot_table(results, values='mean_test_score',\n",
    "                     index='param_gamma', columns='param_alpha')\n",
    "heatmap = sns.heatmap(-pvt, annot=True, cmap='viridis', cbar_kws={'label': \"Mean absolute error [eV]\"})\n",
    "figure = heatmap.get_figure()\n",
    "plt.show()\n",
    "\n",
    "print(\"The best combinations of parameters are %s with a score of %0.3f eV on the validation set.\"\n",
    "      % (grid_search.best_params_, -grid_search.best_score_))"
   ]
  },
  {
   "cell_type": "markdown",
   "metadata": {
    "id": "-tv1CciKwrmu"
   },
   "source": [
    "### 1.6 Testing\n",
    "\n",
    "With the best combination of hyperparameters, the model is once again trained on the **entire training set** (this is done automatically in scikit-learn). Then, with the best combination of hyperparameters, **predictions are made on the test set** to evaluate the final model, which we will use for predictions.\n",
    "\n",
    "The **mean absolute error** of the predicted from the reference HOMO energies and $R^2$ score will be our measure for the quality of the fit.\n"
   ]
  },
  {
   "cell_type": "code",
   "execution_count": null,
   "metadata": {
    "colab": {
     "base_uri": "https://localhost:8080/",
     "height": 504
    },
    "id": "k8e9G1iNwrmv",
    "outputId": "42be6aaa-f279-436b-97d1-b4a137005585"
   },
   "outputs": [],
   "source": [
    "# predicted HOMO energies for all test molecules\n",
    "\n",
    "y_pred = grid_search.predict(x_test) # scikit-learn automatically takes the best combination\n",
    "                                     # of hyperparameters from grid search\n",
    "\n",
    "print(\"Mean absolute error on test set: %0.3f eV\" %(np.abs(y_pred-y_test)).mean())\n",
    "\n",
    "# do the regression plot\n",
    "plt.plot(y_test, y_pred, 'o')\n",
    "plt.plot([np.min(y_test),np.max(y_test)], [np.min(y_test),np.max(y_test)], '-')\n",
    "plt.xlabel('reference HOMO energy [eV]')\n",
    "plt.ylabel('predicted HOMO energy [eV]')\n",
    "plt.show()\n",
    "print(\"R^2 score on test set: %.3f\" % r2_score(y_test, y_pred))"
   ]
  },
  {
   "cell_type": "markdown",
   "metadata": {
    "id": "pYf2oHVbwrmw"
   },
   "source": [
    "The $R^2$ score indicates how close the predicted energies in the test set are to the reference energies. The closer the points in the above figure are located to the diagonal, the better the predictions. Points on the diagonal (\"predicted energy\" = \"reference energy\") correspond to $R^2=1$. Therefore, $R^2$ values close to 1 indicate good model performance."
   ]
  },
  {
   "cell_type": "markdown",
   "metadata": {
    "collapsed": true,
    "id": "zcdZdkThwrmw",
    "jupyter": {
     "outputs_hidden": true
    }
   },
   "source": [
    "### 1.7 Exercises\n",
    "\n",
    "#### 1.7.1 Grid search\n",
    "\n",
    "**Increase the number and range of grid points used for grid search.**\n",
    "\n",
    "* Which combination of $\\alpha$ and $\\gamma$ works best?\n",
    "* How does the computational time increase?\n",
    "\n",
    "Choose a reasonable number of grid points that don't take too long to evaluate."
   ]
  },
  {
   "cell_type": "code",
   "execution_count": null,
   "metadata": {
    "id": "mqN4J1xVwrmx"
   },
   "outputs": [],
   "source": [
    "# Choose alpha and gamma on a finer logarithmically spaced grid. The other parameters can be chosen as above.\n",
    "\n",
    "alpha = np.logspace(None, None, None)\n",
    "gamma = np.logspace(None, None, None)\n",
    "cv_number = 2\n",
    "kernel = 'laplacian'\n",
    "scoring_function = 'neg_mean_absolute_error'\n",
    "\n",
    "cv_number = 2 ## choose into how many parts training set is divided for cross-validation\n",
    "kernel = 'laplacian' # select kernel function here ('rbf': Gaussian kernel, 'laplacian': Laplacian kernel)\n",
    "scoring_function = 'neg_mean_absolute_error' # it is called \"negative\" because scikit-learn interprets\n",
    "                                             # highest scoring value as best, but we want small errors\n",
    "\n",
    "grid_search = GridSearchCV(KernelRidge(),  #machine learning method (KRR here)\n",
    "                           [{'kernel':[kernel],'alpha': alpha, 'gamma': gamma}],\n",
    "                           cv = cv_number,\n",
    "                           scoring = scoring_function,\n",
    "                           n_jobs=-1)\n",
    "\n",
    "grid_search.fit(x_train, y_train)\n",
    "\n",
    "results = pd.DataFrame(grid_search.cv_results_)\n",
    "\n",
    "pvt = pd.pivot_table(results, values='mean_test_score',\n",
    "                     index='param_gamma', columns='param_alpha')\n",
    "heatmap = sns.heatmap(-pvt, annot=True, cmap='viridis', cbar_kws={'label': \"Mean absolute error [eV]\"})\n",
    "figure = heatmap.get_figure()\n",
    "plt.show()\n",
    "\n",
    "print(\"The best combinations of parameters are %s with a score of %0.3f eV on the validation set.\"\n",
    "      % (grid_search.best_params_, -grid_search.best_score_))\n",
    "\n",
    "y_pred = grid_search.predict(x_test) # scikit-learn automatically takes the best combination of hyperparameters from grid search\n",
    "\n",
    "print(\"Mean absolute error on test set: %0.3f eV\" %(np.abs(y_pred-y_test)).mean())\n",
    "\n",
    "plt.plot(y_test, y_pred, 'o')\n",
    "plt.plot([np.min(y_test),np.max(y_test)], [np.min(y_test),np.max(y_test)], '-')\n",
    "plt.xlabel('reference HOMO energy [eV]')\n",
    "plt.ylabel('predicted HOMO energy [eV]')\n",
    "plt.show()\n",
    "print(\"R^2 score on test set: %.3f\" % r2_score(y_test, y_pred))"
   ]
  },
  {
   "cell_type": "markdown",
   "metadata": {
    "id": "Gsy36Rzowrmy"
   },
   "source": [
    "#### 1.7.2 Kernel function\n",
    "\n",
    "Use the **Gaussian kernel** instead of the Laplacian kernel. Which kernel leads to better model performance?"
   ]
  },
  {
   "cell_type": "code",
   "execution_count": null,
   "metadata": {
    "id": "srWUmjKapUMD"
   },
   "outputs": [],
   "source": [
    "# Repeat the above calculation with the Gaussian kernel. The Gaussian kernel is identified with the string 'rbf'.\n",
    "alpha = np.logspace(None, None, None)\n",
    "gamma = np.logspace(None, None, None)\n",
    "cv_number = 2\n",
    "kernel = None\n",
    "scoring_function = 'neg_mean_absolute_error'\n",
    "\n",
    "grid_search = GridSearchCV(KernelRidge(),  #machine learning method (KRR here)\n",
    "                           [{'kernel':[kernel],'alpha': alpha, 'gamma': gamma}],\n",
    "                           cv = cv_number,\n",
    "                           scoring = scoring_function,\n",
    "                           n_jobs=-1)\n",
    "\n",
    "grid_search.fit(x_train, y_train)\n",
    "\n",
    "results = pd.DataFrame(grid_search.cv_results_)\n",
    "\n",
    "pvt = pd.pivot_table(results, values='mean_test_score',\n",
    "                     index='param_gamma', columns='param_alpha')\n",
    "heatmap = sns.heatmap(-pvt, annot=True, cmap='viridis', cbar_kws={'label': \"Mean absolute error [eV]\"})\n",
    "figure = heatmap.get_figure()\n",
    "plt.show()\n",
    "\n",
    "print(\"The best combinations of parameters are %s with a score of %0.3f eV on the validation set.\"\n",
    "      % (grid_search.best_params_, -grid_search.best_score_))\n",
    "\n",
    "y_pred = grid_search.predict(x_test) # scikit-learn automatically takes the best combination of hyperparameters from grid search\n",
    "\n",
    "print(\"Mean absolute error on test set: %0.3f eV\" %(np.abs(y_pred-y_test)).mean())\n",
    "\n",
    "plt.plot(y_test, y_pred, 'o')\n",
    "plt.plot([np.min(y_test),np.max(y_test)], [np.min(y_test),np.max(y_test)], '-')\n",
    "plt.xlabel('reference HOMO energy [eV]')\n",
    "plt.ylabel('predicted HOMO energy [eV]')\n",
    "plt.show()\n",
    "print(\"R^2 score on test set: %.3f\" % r2_score(y_test, y_pred))"
   ]
  },
  {
   "cell_type": "markdown",
   "metadata": {
    "id": "5yJUdzhewrmx"
   },
   "source": [
    "#### 1.7.3 Cross-validation\n",
    "\n",
    "For this exercise, **choose the kernel that performed better in the previous exercise**.\n",
    "\n",
    "**Increase the number of folds used for cross-validation**. Does the quality of the model increase? Take note as well of the increasing computational time and choose a number of folds that does not require too much computational time."
   ]
  },
  {
   "cell_type": "code",
   "execution_count": null,
   "metadata": {
    "id": "Jqy3rfT9wrmy"
   },
   "outputs": [],
   "source": [
    "# Repeat the above calculation with a higher number of cross-validation folds. Use the kernel that showed better performance.\n",
    "alpha = np.logspace(None, None, None)\n",
    "gamma = np.logspace(None, None, None)\n",
    "cv_number = None\n",
    "kernel = None\n",
    "scoring_function = 'neg_mean_absolute_error'\n",
    "\n",
    "grid_search = GridSearchCV(KernelRidge(),  #machine learning method (KRR here)\n",
    "                           [{'kernel':[kernel],'alpha': alpha, 'gamma': gamma}],\n",
    "                           cv = cv_number,\n",
    "                           scoring = scoring_function,\n",
    "                           n_jobs=-1)\n",
    "\n",
    "grid_search.fit(x_train, y_train)\n",
    "\n",
    "results = pd.DataFrame(grid_search.cv_results_)\n",
    "\n",
    "pvt = pd.pivot_table(results, values='mean_test_score',\n",
    "                     index='param_gamma', columns='param_alpha')\n",
    "heatmap = sns.heatmap(-pvt, annot=True, cmap='viridis', cbar_kws={'label': \"Mean absolute error [eV]\"})\n",
    "figure = heatmap.get_figure()\n",
    "plt.show()\n",
    "\n",
    "print(\"The best combinations of parameters are %s with a score of %0.3f eV on the validation set.\"\n",
    "      % (grid_search.best_params_, -grid_search.best_score_))\n",
    "\n",
    "y_pred = grid_search.predict(x_test) # scikit-learn automatically takes the best combination of hyperparameters from grid search\n",
    "\n",
    "print(\"Mean absolute error on test set: %0.3f eV\" %(np.abs(y_pred-y_test)).mean())\n",
    "\n",
    "plt.plot(y_test, y_pred, 'o')\n",
    "plt.plot([np.min(y_test),np.max(y_test)], [np.min(y_test),np.max(y_test)], '-')\n",
    "plt.xlabel('reference HOMO energy [eV]')\n",
    "plt.ylabel('predicted HOMO energy [eV]')\n",
    "plt.show()\n",
    "print(\"R^2 score on test set: %.3f\" % r2_score(y_test, y_pred))"
   ]
  },
  {
   "cell_type": "markdown",
   "metadata": {
    "id": "jjoUSLWuwrmz"
   },
   "source": [
    "#### 1.7.4 Training set size\n",
    "\n",
    "**Increase the size of the training set and plot the mean absolute error and $R^2$ score and training time on the test set as a function of the training set size (e.g. use 1000, 2000, 3000 etc. as training set size).** For the MAE and $R^2$ values use a logarithmic x-axis. Compare with the previous exercises.\n",
    "\n",
    "The optimal hyperparameter values for $\\alpha$ and $\\gamma$ can change throughout varying training set sizes. Therefore, when increasing the training set size, it is recommended to perform a cross-validated grid search for each training set size. **For the sake of this exercise, we will limit ourselves to taking the optimal hyperparameters from the previous exercise** as an approximation and not perform a grid search. Furthermore, **we will not cross-validate our model** in this exercise in the interest of time."
   ]
  },
  {
   "cell_type": "code",
   "execution_count": null,
   "metadata": {
    "id": "0o6HAqu4bYPb"
   },
   "outputs": [],
   "source": [
    "#We keep the size of the test set constant in this exercise\n",
    "n_test = 1000\n",
    "\n",
    "#We want to iterate over different training set sizes n_train.\n",
    "#Prepare an iterator with reasonable choices of n_train, e.g.\n",
    "#1000, 1500, 2000, ..., 5000\n",
    "n_train_iterator=range(None,None,None)\n",
    "\n",
    "#These lists we want to fill during the iteration with the mean absolute error,\n",
    "#R^2 score and elapsed training time.\n",
    "mae_list=[]\n",
    "r2_list=[]\n",
    "time_list=[]\n",
    "\n",
    "#In alpha and gamma, we want to save the best choice of parameters from\n",
    "#the previous exercise. Compare with the exercise above, if you are unsure\n",
    "#how to access them from grid_search.\n",
    "alpha=None\n",
    "gamma=None\n",
    "\n",
    "#Use the kernel that has shown better performance.\n",
    "kernel=None\n",
    "\n",
    "for n_train in n_train_iterator:\n",
    "  x_train  = x[0:n_train]\n",
    "  y_train = y[0:n_train]\n",
    "\n",
    "  x_test = x[n_train:n_train + n_test]\n",
    "  y_test = y[n_train:n_train + n_test]\n",
    "\n",
    "  #Here we save the starting time of the kernel ridge training.\n",
    "  start = time.time()\n",
    "\n",
    "  #In the following we will perform the kernel ridge training without\n",
    "  #cross-validation. For this we use the Object KernelRidge, which\n",
    "  #has previously been used as the estimator in the cross-validation.\n",
    "  #We need to set alpha, gamma and the kernel. For documentation, see:\n",
    "  #https://scikit-learn.org/stable/modules/generated/sklearn.kernel_ridge.KernelRidge.html\n",
    "  kernel_ridge=KernelRidge(alpha=None, kernel=None, gamma=None)\n",
    "\n",
    "  #After settung up the kernel_ridge object, we need to train with our\n",
    "  #training data using the method fit and make predictions on the test set\n",
    "  #using the method predict in analogy to the cross-validation example.\n",
    "  kernel_ridge.fit(None, None)\n",
    "  y_pred = kernel_ridge.predict(None)\n",
    "\n",
    "  #Here we save the ending time of the kernel ridge training.\n",
    "  end = time.time()\n",
    "\n",
    "  #Compute from the starting and ending time, the elapsed training time and\n",
    "  #append it to the list\n",
    "  time_list.append(None)\n",
    "  #Append the mean absolute error to the following list. Confer with the\n",
    "  #previous exercise, if you are unsure how to compute it.\n",
    "  mae_list.append(None)\n",
    "  r2_list.append(None)"
   ]
  },
  {
   "cell_type": "markdown",
   "metadata": {},
   "source": [
    "In the following plot the size of the training set versus the elapsed time, mean absolute error and $R^2$ score in three separate plots."
   ]
  },
  {
   "cell_type": "code",
   "execution_count": null,
   "metadata": {},
   "outputs": [],
   "source": [
    "plt.plot(n_train_iterator, time_list)\n",
    "plt.xlabel('training set size')\n",
    "plt.ylabel('execution time [s]')\n",
    "plt.show()\n",
    "\n",
    "plt.plot(np.log(n_train_iterator), mae_list)\n",
    "plt.xlabel('training set size')\n",
    "plt.ylabel('mean absolute error [eV]')\n",
    "plt.show()\n",
    "\n",
    "plt.plot(np.log(n_train_iterator), r2_list)\n",
    "plt.xlabel('training set size')\n",
    "plt.ylabel('R^2 score')\n",
    "plt.show()\n",
    "\n",
    "#Here we plot the exact vs. the predicted HOMO energies for our largest training\n",
    "#set size. Can you see the reduced error from this plot in comparison with\n",
    "#the previous exercises?\n",
    "plt.plot(y_test, y_pred, 'o')\n",
    "plt.plot([np.min(y_test),np.max(y_test)], [np.min(y_test),np.max(y_test)], '-')\n",
    "plt.xlabel('reference HOMO energy [eV]')\n",
    "plt.ylabel('predicted HOMO energy [eV]')\n",
    "plt.show()"
   ]
  },
  {
   "cell_type": "markdown",
   "metadata": {
    "id": "HNAUxo7IYwkX"
   },
   "source": [
    "**If you did everything correctly, the plots should look something like the following. Note that because of the random data shuffling in the beginning, they will not look exactly the same.**\n",
    "\n",
    "![image.png](data:image/png;base64,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)\n",
    "\n",
    "![image.png](data:image/png;base64,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)\n",
    "\n",
    "![image.png](data:image/png;base64,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)\n",
    "\n",
    "![image.png](data:image/png;base64,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)"
   ]
  }
 ],
 "metadata": {
  "anaconda-cloud": {},
  "colab": {
   "collapsed_sections": [
    "0FxS6Kazwrmo"
   ],
   "provenance": [],
   "toc_visible": true
  },
  "kernelspec": {
   "display_name": "Python 3 (ipykernel)",
   "language": "python",
   "name": "python3"
  },
  "language_info": {
   "codemirror_mode": {
    "name": "ipython",
    "version": 3
   },
   "file_extension": ".py",
   "mimetype": "text/x-python",
   "name": "python",
   "nbconvert_exporter": "python",
   "pygments_lexer": "ipython3",
   "version": "3.12.8"
  }
 },
 "nbformat": 4,
 "nbformat_minor": 4
}
