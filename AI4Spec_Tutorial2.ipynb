{
 "cells": [
  {
   "cell_type": "markdown",
   "metadata": {
    "id": "Fl2hw46ADkH4"
   },
   "source": [
    "# AI4Spec 2: Predicting multiple energy levels with neural networks\n",
    "\n",
    "In these tutorials exercises, we review different AI approaches to predicting ground or excited state energy levels simply based on the atomic structure of materials. Here we focus on molecules and molecular orbitals, but the same principles apply to crystal structures and electronic bands.\n",
    "\n",
    "We start by predicting individual electronic states (Tutorial 1), proceed towards predicting multiple states at once (Tutorial 2) and finish by predicting entire spectral curves (Tutorial 3). **The tutorials were prepared by Milica Todorović (University of Turku) and Kunal Ghosh (Aalto University)**.\n",
    "\n",
    "<img src=\"https://raw.githubusercontent.com/milicasan/TutorialImages/89238bfff57a38ec78ecbd08765b63bd15ff9e2c/AI4spec.png\" width=\"600px\"/>\n",
    "\n",
    "In the exercise below, **our AI objective is to train a model to predict a multiple electronic energy levels, such as an energy band**. This is a more complex example of supervised machine learning regression, where the objective (label) is a list of single floating-point numbers. Few AI models can address this task, because most supervised learning focuses on learning only one numerical value, and here we have several. Neural network (NN) models are well-suited for this type of task. Given the flexible NN architectures, vectors can be used as both input and output.\n",
    "\n",
    "We use a large dataset of molecular structures and their computed HOMO energies to train the AI. The HOMO energies of all molecules were pre-computed with first principles quantum mechanical methods (DFT) to obtain the target data that our model can be trained on. Our label and learning objective is now a vector of energies for 16 occupied molecular orbitals, terminating in the HOMO. We start by learning the HOMO first, and then proceed to learn multiple levels at the same time.\n"
   ]
  },
  {
   "cell_type": "markdown",
   "metadata": {
    "id": "XegnO6aTwrmX"
   },
   "source": [
    "## 1. Using neural networks to predict multiple electronic levels\n",
    "\n",
    "**NN models are notoriously data-demanding**, so the QM7 dataset we used before may be too small. We switch to the QM9 dataset of 132k molecules for NN work. For the purposes of this tutorial, **we take a subset of 7000 molecules**, but in your own time you can try the entire dataset.  \n",
    "\n",
    "Detailed descriptions and results for both QM7 and QM9 datasets can be found in [K. Ghosh, et al. \"Deep Learning Spectroscopy: Neural Networks for Molecular Excitation Spectra.\" Adv. Sci. 6 1801367 (2019)](https://onlinelibrary.wiley.com/doi/full/10.1002/advs.201801367). Full datasets employed in this study are available from [Zenodo record 3386508](https://zenodo.org/records/3386508).\n",
    "\n",
    "### 1.1 Setup"
   ]
  },
  {
   "cell_type": "code",
   "execution_count": null,
   "metadata": {
    "id": "qdphsPPRwwNF"
   },
   "outputs": [],
   "source": [
    "import numpy as np\n",
    "import matplotlib.pyplot as plt\n",
    "import pandas as pd\n",
    "import seaborn as sns\n",
    "import json\n",
    "import math, random\n",
    "from scipy.sparse import load_npz\n",
    "from matplotlib.colors import LinearSegmentedColormap\n",
    "import time"
   ]
  },
  {
   "cell_type": "markdown",
   "metadata": {
    "id": "hi4ISia7wrmc"
   },
   "source": [
    "### 1.2 Load and visualize data\n",
    "\n",
    "First, we load the data.\n",
    "\n",
    "* The molecules are represented by their Coulomb matrices, which were computed with the [Dscribe](https://www.sciencedirect.com/science/article/pii/S0010465519303042?via%3Dihub) package.\n",
    "* The output data y is a matrix that contains the corresponding 16 HOMO energies for all molecules."
   ]
  },
  {
   "cell_type": "code",
   "execution_count": null,
   "metadata": {
    "colab": {
     "base_uri": "https://localhost:8080/"
    },
    "id": "jTZ_1hpqLBK5",
    "outputId": "efa921b4-fb04-4fe9-dc78-8e039f748f37"
   },
   "outputs": [],
   "source": [
    "!wget https://zenodo.org/records/10069732/files/coulomb_7000.npz\n",
    "!wget https://zenodo.org/records/10069732/files/energies_7000.npz"
   ]
  },
  {
   "cell_type": "code",
   "execution_count": 70,
   "metadata": {
    "colab": {
     "base_uri": "https://localhost:8080/"
    },
    "id": "6tTcc8Mtwrmd",
    "outputId": "e96ae7fe-8e7b-49f5-96d8-f54f9980ddb5"
   },
   "outputs": [
    {
     "name": "stdout",
     "output_type": "stream",
     "text": [
      "Number of molecules: 7000\n"
     ]
    }
   ],
   "source": [
    "# Here we load all the data\n",
    "x = np.abs(np.load(\"coulomb_7000.npz\")['arr_0'])\n",
    "energies = np.load(\"energies_7000.npz\")['arr_0']\n",
    "\n",
    "# energy labels are saved from lowest to highest value.\n",
    "# HOMO is the highest energy molecular orbital, so we pick the last column as the HOMO label.\n",
    "y = energies[:,-1]\n",
    "\n",
    "# we can also try to learn HOMO, HOMO-1 and HOMO-2 at the same time.\n",
    "y_multi = energies[:,-3:]\n",
    "\n",
    "print(\"Number of molecules:\", len(y))"
   ]
  },
  {
   "cell_type": "markdown",
   "metadata": {
    "id": "yWa4pRHxwrmf"
   },
   "source": [
    "Let us review the Coulomb matrix for a random molecule in the dataset."
   ]
  },
  {
   "cell_type": "code",
   "execution_count": 71,
   "metadata": {
    "colab": {
     "base_uri": "https://localhost:8080/"
    },
    "id": "7CovKOElwrmg",
    "outputId": "63b5843a-2a4e-4ae5-92d3-69efb8bf4ce9"
   },
   "outputs": [
    {
     "name": "stdout",
     "output_type": "stream",
     "text": [
      "(29, 29)\n",
      "[[36.858 23.61  20.228  9.818  8.632  9.874  7.376 14.304  5.465  5.467\n",
      "   5.464  2.787  1.478  1.366  1.156  1.34   1.119  1.221  1.051  2.163\n",
      "   0.     0.     0.     0.     0.     0.     0.     0.     0.   ]\n",
      " [23.61  36.858 33.53  15.178 12.317 14.336  9.214 23.893  2.771  2.773\n",
      "   2.766  5.388  2.293  1.826  1.562  1.712  1.323  1.447  1.318  2.704\n",
      "   0.     0.     0.     0.     0.     0.     0.     0.     0.   ]\n",
      " [20.228 33.53  73.517 33.703 19.703 17.073 11.157 19.657  3.001  3.094\n",
      "   2.397  3.862  3.841  3.955  2.371  2.837  1.694  1.651  1.646  2.34\n",
      "   0.     0.     0.     0.     0.     0.     0.     0.     0.   ]\n",
      " [ 9.818 15.178 33.703 36.858 23.587 14.413  9.301 13.107  1.532  1.508\n",
      "   1.329  2.184  5.414  5.465  2.774  2.762  1.397  1.291  1.446  1.568\n",
      "   0.     0.     0.     0.     0.     0.     0.     0.     0.   ]\n",
      " [ 8.632 12.317 19.703 23.587 36.858 23.859 14.007 14.606  1.442  1.252\n",
      "   1.228  1.699  2.766  2.746  5.438  5.436  2.111  1.709  2.096  1.729\n",
      "   0.     0.     0.     0.     0.     0.     0.     0.     0.   ]\n",
      " [ 9.874 14.336 17.073 14.413 23.859 36.858 23.995 26.85   1.639  1.326\n",
      "   1.473  1.905  2.095  1.738  2.79   2.787  2.784  2.774  2.78   2.839\n",
      "   0.     0.     0.     0.     0.     0.     0.     0.     0.   ]\n",
      " [ 7.376  9.214 11.157  9.301 14.007 23.995 36.858 14.409  1.257  1.024\n",
      "   1.172  1.34   1.446  1.268  2.197  2.037  5.445  5.468  5.446  2.201\n",
      "   0.     0.     0.     0.     0.     0.     0.     0.     0.   ]\n",
      " [14.304 23.893 19.657 13.107 14.606 26.85  14.409 36.858  2.171  1.732\n",
      "   2.151  2.803  2.01   1.579  1.836  1.932  1.856  2.272  1.863  5.486\n",
      "   0.     0.     0.     0.     0.     0.     0.     0.     0.   ]\n",
      " [ 5.465  2.771  3.001  1.532  1.442  1.639  1.257  2.171  0.5    0.56\n",
      "   0.561  0.325  0.22   0.22   0.191  0.238  0.199  0.207  0.175  0.329\n",
      "   0.     0.     0.     0.     0.     0.     0.     0.     0.   ]\n",
      " [ 5.467  2.773  3.094  1.508  1.252  1.326  1.024  1.732  0.56   0.5\n",
      "   0.561  0.401  0.231  0.222  0.172  0.197  0.158  0.168  0.151  0.263\n",
      "   0.     0.     0.     0.     0.     0.     0.     0.     0.   ]\n",
      " [ 5.464  2.766  2.397  1.329  1.228  1.473  1.172  2.151  0.561  0.561\n",
      "   0.5    0.403  0.211  0.187  0.171  0.189  0.176  0.203  0.168  0.383\n",
      "   0.     0.     0.     0.     0.     0.     0.     0.     0.   ]\n",
      " [ 2.787  5.388  3.862  2.184  1.699  1.905  1.34   2.803  0.325  0.401\n",
      "   0.403  0.5    0.395  0.274  0.235  0.232  0.19   0.215  0.202  0.38\n",
      "   0.     0.     0.     0.     0.     0.     0.     0.     0.   ]\n",
      " [ 1.478  2.293  3.841  5.414  2.766  2.095  1.446  2.01   0.22   0.231\n",
      "   0.211  0.395  0.5    0.561  0.413  0.325  0.209  0.206  0.237  0.253\n",
      "   0.     0.     0.     0.     0.     0.     0.     0.     0.   ]\n",
      " [ 1.366  1.826  3.955  5.465  2.746  1.738  1.268  1.579  0.22   0.222\n",
      "   0.187  0.274  0.561  0.5    0.384  0.409  0.2    0.179  0.202  0.205\n",
      "   0.     0.     0.     0.     0.     0.     0.     0.     0.   ]\n",
      " [ 1.156  1.562  2.371  2.774  5.438  2.79   2.197  1.836  0.191  0.172\n",
      "   0.171  0.235  0.413  0.384  0.5    0.567  0.333  0.265  0.387  0.24\n",
      "   0.     0.     0.     0.     0.     0.     0.     0.     0.   ]\n",
      " [ 1.34   1.712  2.837  2.762  5.436  2.787  2.037  1.932  0.238  0.197\n",
      "   0.189  0.232  0.325  0.409  0.567  0.5    0.357  0.256  0.295  0.246\n",
      "   0.     0.     0.     0.     0.     0.     0.     0.     0.   ]\n",
      " [ 1.119  1.323  1.694  1.397  2.111  2.784  5.445  1.856  0.199  0.158\n",
      "   0.176  0.19   0.209  0.2    0.333  0.357  0.5    0.562  0.567  0.284\n",
      "   0.     0.     0.     0.     0.     0.     0.     0.     0.   ]\n",
      " [ 1.221  1.447  1.651  1.291  1.709  2.774  5.468  2.272  0.207  0.168\n",
      "   0.203  0.215  0.206  0.179  0.265  0.256  0.562  0.5    0.561  0.416\n",
      "   0.     0.     0.     0.     0.     0.     0.     0.     0.   ]\n",
      " [ 1.051  1.318  1.646  1.446  2.096  2.78   5.446  1.863  0.175  0.151\n",
      "   0.168  0.202  0.237  0.202  0.387  0.295  0.567  0.561  0.5    0.287\n",
      "   0.     0.     0.     0.     0.     0.     0.     0.     0.   ]\n",
      " [ 2.163  2.704  2.34   1.568  1.729  2.839  2.201  5.486  0.329  0.263\n",
      "   0.383  0.38   0.253  0.205  0.24   0.246  0.284  0.416  0.287  0.5\n",
      "   0.     0.     0.     0.     0.     0.     0.     0.     0.   ]\n",
      " [ 0.     0.     0.     0.     0.     0.     0.     0.     0.     0.\n",
      "   0.     0.     0.     0.     0.     0.     0.     0.     0.     0.\n",
      "   0.     0.     0.     0.     0.     0.     0.     0.     0.   ]\n",
      " [ 0.     0.     0.     0.     0.     0.     0.     0.     0.     0.\n",
      "   0.     0.     0.     0.     0.     0.     0.     0.     0.     0.\n",
      "   0.     0.     0.     0.     0.     0.     0.     0.     0.   ]\n",
      " [ 0.     0.     0.     0.     0.     0.     0.     0.     0.     0.\n",
      "   0.     0.     0.     0.     0.     0.     0.     0.     0.     0.\n",
      "   0.     0.     0.     0.     0.     0.     0.     0.     0.   ]\n",
      " [ 0.     0.     0.     0.     0.     0.     0.     0.     0.     0.\n",
      "   0.     0.     0.     0.     0.     0.     0.     0.     0.     0.\n",
      "   0.     0.     0.     0.     0.     0.     0.     0.     0.   ]\n",
      " [ 0.     0.     0.     0.     0.     0.     0.     0.     0.     0.\n",
      "   0.     0.     0.     0.     0.     0.     0.     0.     0.     0.\n",
      "   0.     0.     0.     0.     0.     0.     0.     0.     0.   ]\n",
      " [ 0.     0.     0.     0.     0.     0.     0.     0.     0.     0.\n",
      "   0.     0.     0.     0.     0.     0.     0.     0.     0.     0.\n",
      "   0.     0.     0.     0.     0.     0.     0.     0.     0.   ]\n",
      " [ 0.     0.     0.     0.     0.     0.     0.     0.     0.     0.\n",
      "   0.     0.     0.     0.     0.     0.     0.     0.     0.     0.\n",
      "   0.     0.     0.     0.     0.     0.     0.     0.     0.   ]\n",
      " [ 0.     0.     0.     0.     0.     0.     0.     0.     0.     0.\n",
      "   0.     0.     0.     0.     0.     0.     0.     0.     0.     0.\n",
      "   0.     0.     0.     0.     0.     0.     0.     0.     0.   ]\n",
      " [ 0.     0.     0.     0.     0.     0.     0.     0.     0.     0.\n",
      "   0.     0.     0.     0.     0.     0.     0.     0.     0.     0.\n",
      "   0.     0.     0.     0.     0.     0.     0.     0.     0.   ]]\n"
     ]
    }
   ],
   "source": [
    "rand_mol = random.randint(0, len(y))\n",
    "\n",
    "# Consider the size of the CM - what is the size of our descriptor?\n",
    "print(x[rand_mol].shape)\n",
    "\n",
    "# Let's take a look at the matrix elements\n",
    "print(x[rand_mol])"
   ]
  },
  {
   "cell_type": "markdown",
   "metadata": {
    "id": "BKo-SoN2wrmh"
   },
   "source": [
    "**Note that QM9 molecules are slightly larger than the QM7 ones, so the descriptor is larger, and can contain more zero padding**. Below, we visualize the Coulomb matrix of the random molecule."
   ]
  },
  {
   "cell_type": "code",
   "execution_count": 72,
   "metadata": {
    "colab": {
     "base_uri": "https://localhost:8080/",
     "height": 519
    },
    "id": "GJu2RtUhwrmh",
    "outputId": "0d52abe6-0262-4ac4-d53b-4f5e4d71ef3b"
   },
   "outputs": [
    {
     "data": {
      "text/plain": [
       "<Figure size 640x480 with 0 Axes>"
      ]
     },
     "metadata": {},
     "output_type": "display_data"
    },
    {
     "data": {
      "image/png": "[encoded data removed]",
      "text/plain": [
       "<Figure size 600x600 with 2 Axes>"
      ]
     },
     "metadata": {},
     "output_type": "display_data"
    }
   ],
   "source": [
    "shape = (29, 29)\n",
    "mat = x[rand_mol].reshape(shape)\n",
    "\n",
    "plt.figure()\n",
    "plt.figure(figsize = (6,6))\n",
    "plt.imshow(mat, origin=\"upper\", cmap='rainbow', vmin=-10, vmax=55, interpolation='nearest')\n",
    "plt.colorbar(fraction=0.046, pad=0.04).ax.tick_params(labelsize=20)\n",
    "plt.axis('off')\n",
    "plt.show()"
   ]
  },
  {
   "cell_type": "markdown",
   "metadata": {
    "id": "n434DnNSwrmi"
   },
   "source": [
    "Now, we review the energy entry for the same random molecule index. What follows is a **list of 16 highest occupied molecular orbitals, ending in HOMO**. In other words, you now have access to HOMO-15, HOMO-14, HOMO-13... HOMO-2, HOMO-1, HOMO energies.\n"
   ]
  },
  {
   "cell_type": "code",
   "execution_count": 73,
   "metadata": {
    "colab": {
     "base_uri": "https://localhost:8080/"
    },
    "id": "u44zKs0_4IJv",
    "outputId": "603a67c1-86f4-4d47-a578-940126f085f4",
    "scrolled": true
   },
   "outputs": [
    {
     "name": "stdout",
     "output_type": "stream",
     "text": [
      "[-12.63997 -11.91331 -11.84505 -11.0038  -10.77864 -10.15834  -9.67366\n",
      "  -9.42195  -9.25116  -9.07804  -8.85004  -8.4232   -8.15765  -7.17239\n",
      "  -5.82419  -5.65531]\n",
      "-5.65531\n",
      "[-7.17239 -5.82419 -5.65531]\n"
     ]
    }
   ],
   "source": [
    "# Here we review the entire vector of orbital energies\n",
    "print(energies[rand_mol,:])\n",
    "\n",
    "# Here we check the HOMO only\n",
    "print(y[rand_mol])\n",
    "\n",
    "# Here we check the top 3 occupied states\n",
    "print(y_multi[rand_mol])"
   ]
  },
  {
   "cell_type": "markdown",
   "metadata": {
    "id": "lBZ_Y42BcwmL"
   },
   "source": [
    "Now, let us analyse the HOMO values. We plot a histogram to review the distribution of the labels, and compute the mean value. You can compare these QM9 HOMOs to the QM7 HOMOs in the previous dataset: is there much difference?"
   ]
  },
  {
   "cell_type": "code",
   "execution_count": 74,
   "metadata": {
    "colab": {
     "base_uri": "https://localhost:8080/",
     "height": 528
    },
    "id": "YxjygJgJwrmj",
    "outputId": "89f2f6cc-45de-4473-a771-691cfc00f932"
   },
   "outputs": [
    {
     "data": {
      "image/png": "[encoded data removed]",
      "text/plain": [
       "<Figure size 640x480 with 1 Axes>"
      ]
     },
     "metadata": {},
     "output_type": "display_data"
    },
    {
     "name": "stdout",
     "output_type": "stream",
     "text": [
      "Mean value of HOMO energies in QM9 dataset: -5.75 eV\n",
      "[-9.42518 -8.12121 -6.48731 ... -5.94942 -5.47667 -5.69919]\n"
     ]
    }
   ],
   "source": [
    "plt.hist(y, bins=20, density=False, facecolor='blue')\n",
    "plt.xlabel(\"Energy [eV]\")\n",
    "plt.ylabel(\"Number of molecules\")\n",
    "plt.title(\"Distribution of HOMO energies\")\n",
    "plt.show()\n",
    "\n",
    "## mean value of distribution\n",
    "print(\"Mean value of HOMO energies in QM9 dataset: %0.2f eV\" %np.mean(y))\n",
    "print(y)"
   ]
  },
  {
   "cell_type": "markdown",
   "metadata": {
    "id": "QpgK9ky-wrmk"
   },
   "source": [
    "As before, we **shuffle the data** before dividing the dataset into training and test set, just in case there was some ordering in the input files."
   ]
  },
  {
   "cell_type": "code",
   "execution_count": 75,
   "metadata": {
    "id": "6luJyqCKwrmk"
   },
   "outputs": [],
   "source": [
    "## shuffle the data\n",
    "\n",
    "c = list(zip(x, y))\n",
    "random.shuffle(c)\n",
    "\n",
    "x, y = zip(*c)\n",
    "\n",
    "x = np.array(x)\n",
    "y = np.array(y)"
   ]
  },
  {
   "cell_type": "markdown",
   "metadata": {
    "id": "XQh-MAv5wrml"
   },
   "source": [
    "Now, we divide the data into **training** and **test set**. Note that for neural networks **we need also a validation set**. Validation set serves to check the quality of the NN learning during training and hyperparameter optimization. After the NN is optimized, the final prediction accuracy will be evaluated on the test set."
   ]
  },
  {
   "cell_type": "code",
   "execution_count": 76,
   "metadata": {
    "id": "wmnl8ZzAwrmm"
   },
   "outputs": [],
   "source": [
    "# decide how many samples to take from the database for training, testing and validation\n",
    "n_train = 6000\n",
    "n_test = 500\n",
    "n_val = 500\n",
    "\n",
    "# split data in training and test\n",
    "# take first n_train molecules for training\n",
    "X_train  = x[0:n_train]\n",
    "Y_train = y[0:n_train]\n",
    "\n",
    "# take the next n_test data for testing\n",
    "X_test = x[n_train:n_train + n_test]\n",
    "Y_test = y[n_train:n_train + n_test]\n",
    "\n",
    "# take the next n_val data for validation\n",
    "X_val = x[n_train + n_test: n_train + n_test+ n_val]\n",
    "Y_val = y[n_train + n_test: n_train + n_test+ n_val]"
   ]
  },
  {
   "cell_type": "markdown",
   "metadata": {
    "id": "uEP7iSchwrmm"
   },
   "source": [
    "Check that the training data resemble the test data well by plotting the distribution of HOMO energies for both sets. **The distributions should be centered around the same mean value and have the same shape.**"
   ]
  },
  {
   "cell_type": "code",
   "execution_count": 77,
   "metadata": {
    "colab": {
     "base_uri": "https://localhost:8080/",
     "height": 522
    },
    "id": "w_H7kOBTwrmn",
    "outputId": "2a4683d7-30dc-4419-cf0a-e064632f88c2"
   },
   "outputs": [
    {
     "data": {
      "image/png": "[encoded data removed]",
      "text/plain": [
       "<Figure size 640x480 with 1 Axes>"
      ]
     },
     "metadata": {},
     "output_type": "display_data"
    },
    {
     "name": "stdout",
     "output_type": "stream",
     "text": [
      "Mean value of HOMO energies in training set: -5.75 eV\n",
      "Mean value of HOMO energies in validation set: -5.75 eV\n",
      "Mean value of HOMO energies in test set: -5.73 eV\n"
     ]
    }
   ],
   "source": [
    "plt.hist(Y_test, bins=20, density=False, alpha=0.5, facecolor='red', label='test set')\n",
    "plt.hist(Y_val, bins=20, density=False, alpha=0.5, facecolor='orange', label='validation set')\n",
    "plt.hist(Y_train, bins=20, density=False, alpha=0.5, facecolor='gray', label='training set')\n",
    "plt.xlabel(\"Energy [eV]\")\n",
    "plt.ylabel(\"Number of molecules\")\n",
    "plt.legend()\n",
    "plt.show()\n",
    "\n",
    "## mean value of distributions\n",
    "print(\"Mean value of HOMO energies in training set: %0.2f eV\" %np.mean(Y_train))\n",
    "print(\"Mean value of HOMO energies in validation set: %0.2f eV\" %np.mean(Y_val))\n",
    "print(\"Mean value of HOMO energies in test set: %0.2f eV\" %np.mean(Y_test))"
   ]
  },
  {
   "cell_type": "markdown",
   "metadata": {
    "id": "0FxS6Kazwrmo"
   },
   "source": [
    "### 1.3 Implementing the CNN\n",
    "\n",
    "Now we have a choice of NN architectures. The **Multi Layer Perceptron (MLP)** is the simplest deep NN architecture, but here we will review and deploy the **Convolutional Neural Network (CNN)**. CNN is well-suited to **image-like data such as the CM descriptor**, and [previous work](https://onlinelibrary.wiley.com/doi/full/10.1002/advs.201801367) has established that **CNNs predictive accuracy is better than that of MLPs in predicting electronic energy levels**.\n",
    "\n",
    "<img src=\"https://raw.githubusercontent.com/milicasan/TutorialImages/46df4d358952ce9a1ec2037a3f622388249777dd/MLP-CNN.png\" width=\"600px\"/>\n",
    "\n",
    "Below we demonstrate how to use PyTorch to build a simple CNN and apply it.\n",
    "\n",
    "**PyTorch requires the user to set up the classes for the dataset and the AI model**. Let's start with the dataset class:"
   ]
  },
  {
   "cell_type": "code",
   "execution_count": 78,
   "metadata": {
    "id": "mFuHLTSsXc_X"
   },
   "outputs": [],
   "source": [
    "from torch import nn\n",
    "from torch.optim import Adam\n",
    "from torch.utils.data import DataLoader, Dataset\n",
    "from lightning.pytorch.callbacks.early_stopping import EarlyStopping\n",
    "\n",
    "import torch\n",
    "import lightning.pytorch as pl\n",
    "import torch.nn.functional as F\n",
    "import numpy as np\n",
    "\n",
    "# Define the Dataset class\n",
    "class SimpleDataset(Dataset):\n",
    "\n",
    "    # Here we specify that the CM is a matrix with 29x29 entries.\n",
    "    # It is then necessary to flatten this into a long vector, which is input to the CNN\n",
    "    def __init__(self, features, labels):\n",
    "        self.x = torch.from_numpy(features).reshape(-1, 29, 29).unsqueeze(1).float()\n",
    "        self.y = torch.from_numpy(labels).float()\n",
    "        print(self.x.shape)\n",
    "\n",
    "    def __len__(self):\n",
    "        return len(self.y)\n",
    "\n",
    "    def __getitem__(self, idx):\n",
    "        return {\"X\" : self.x[idx], \"y\" : self.y[idx]}"
   ]
  },
  {
   "cell_type": "markdown",
   "metadata": {
    "id": "iMmViGAzpKeu"
   },
   "source": [
    "Now we set up a simple CNN model by defining all the functional components this AI model will need, such as:\n",
    "\n",
    "*  network architecture (number of hidden layers and neurons)\n",
    "*  activation function type between hidden layers\n",
    "*  functions to load training and validation data\n",
    "*  training steps on training and validation data\n",
    "*  optimizers for NN training\n",
    "\n",
    "The model is trained by adjusting hyperparameters (weights and biases) so as to minimise the errors between current predictions and reference values. This quantity is called the **loss function**, and here we use the [mean squared error (MSE)](https://en.wikipedia.org/wiki/Mean_squared_error) to quantify it."
   ]
  },
  {
   "cell_type": "code",
   "execution_count": 79,
   "metadata": {
    "id": "-Hg5y-eaoWuw"
   },
   "outputs": [],
   "source": [
    "# Parameters for NN architecture:\n",
    "# Conv2D\n",
    "output_length = 1  # this is size of output - HOMO is one number\n",
    "nConv = 20         # number of convolutional matrices\n",
    "filter = 3         # size of filter matrix (3x3)\n",
    "pad = 1            # padding for the filter scan\n",
    "\n",
    "# MaxPool2D\n",
    "maxp = 4           # size of maxpool layer\n",
    "\n",
    "# Hyperparameters for NN training:\n",
    "batch = 64            # total training set is divided into batches for training\n",
    "learning_rate = 1e-3  # the rate of updating the network weights during training\n",
    "\n",
    "\n",
    "# Define the network\n",
    "class CNN(pl.LightningModule):\n",
    "\n",
    "    # this is the main NN architecture\n",
    "    def __init__(self, output_length):\n",
    "        super(CNN, self).__init__()\n",
    "\n",
    "        # Below we define 2 hidden layers (design choice)\n",
    "        # followed by a MaxPool layer and a linear layer\n",
    "        # convolution key parameters: no. of input and output nodes\n",
    "\n",
    "        # 1st convolution, 1 = input matrix\n",
    "        self.conv1_1 = nn.Conv2d(1, nConv, filter, padding=pad)\n",
    "        # 2nd convolution\n",
    "        self.conv1_2 = nn.Conv2d(nConv, nConv, filter, padding=pad)\n",
    "        # 3rd convolution\n",
    "        self.conv1_3 = nn.Conv2d(nConv, maxp, filter, padding=pad)\n",
    "        # MaxPool - different hyperparameters apply\n",
    "        self.pool = nn.MaxPool2d(maxp,maxp)\n",
    "        # The linear layer size is approximately 4x7x7\n",
    "        self.fc1 = nn.Linear(maxp*7*7, output_length)\n",
    "\n",
    "    # this describes how the NN is propagated forward\n",
    "    def forward(self, x, labels=None):\n",
    "\n",
    "        # relu is used after the 1st layer\n",
    "        x = F.relu(self.conv1_1(x))\n",
    "        # relu is used after the 2nd layer\n",
    "        x = F.relu(self.conv1_2(x))\n",
    "        # relu is used after the 3rd layer\n",
    "        x = F.relu(self.conv1_3(x))\n",
    "        x = self.pool(x)\n",
    "        x = x.view(-1, 4*7*7)\n",
    "        outputs = self.fc1(x)\n",
    "\n",
    "        # Here we set the MSE as the metric for the loss function\n",
    "        loss = 0\n",
    "        if labels is not None:\n",
    "            loss = nn.functional.mse_loss(outputs.squeeze(), labels.squeeze())\n",
    "        return loss, outputs\n",
    "\n",
    "    # note batch size below\n",
    "    def train_dataloader(self):\n",
    "        dataset = SimpleDataset(X_train, Y_train)\n",
    "        return DataLoader(dataset, batch_size=batch)\n",
    "\n",
    "    # note batch size below\n",
    "    def val_dataloader(self):\n",
    "        dataset = SimpleDataset(X_val, Y_val)\n",
    "        return DataLoader(dataset, batch_size=batch, num_workers=1)\n",
    "\n",
    "    def training_step(self, batch, batch_idx):\n",
    "        coloumb_matrices = batch[\"X\"]\n",
    "        energies = batch[\"y\"]\n",
    "        loss, outputs = self(coloumb_matrices, labels=energies)\n",
    "        self.log(\"train_loss\", loss, prog_bar=True, on_step=False, on_epoch=True)\n",
    "        return loss\n",
    "\n",
    "    def validation_step(self, batch, batch_idx):\n",
    "        coloumb_matrices = batch[\"X\"]\n",
    "        energies = batch[\"y\"]\n",
    "        loss, outputs = self(coloumb_matrices, labels=energies)\n",
    "        self.log(\"val_loss\", loss, prog_bar=True, on_step=False, on_epoch=True)\n",
    "        return loss\n",
    "\n",
    "    # We chose the adam algorithm for backpropagation training.\n",
    "    def configure_optimizers(self):\n",
    "        optimizer = Adam(self.parameters(), lr=learning_rate)\n",
    "        return optimizer\n"
   ]
  },
  {
   "cell_type": "markdown",
   "metadata": {
    "id": "LOf64za-7Dog"
   },
   "source": [
    "This is how our network looks like:\n",
    "\n",
    "<img src=\"https://raw.githubusercontent.com/milicasan/TutorialImages/51cdde9d1a6daaed0e752440855fba51cf68afd9/CNNarch.png\" width=\"800px\"/>\n",
    "\n",
    "\n",
    "In this instance, we have the following layers.\n",
    "\n",
    "\n",
    "* Input layer: Coloumb matrix (29x29)\n",
    "* Hidden layer 1: 20 matrices of 29x29 (convolution before/after)\n",
    "* Hidden layer 2: 20 matrices of 29x29 (convolution before/after)\n",
    "* MaxPool layer: 4 matrices of 29x29 (convolution before/ pooling after)\n",
    "* Linear layer: 4x7x7\n",
    "* Output layer: 1\n",
    "\n",
    "The hidden layers are connected by convolution operations: there are 2 hidden layers and 3 convolutional operations. Find out more about how CNNs operate in [this useful guide](https://poloclub.github.io/cnn-explainer/)."
   ]
  },
  {
   "cell_type": "markdown",
   "metadata": {
    "id": "6CiTOxy1ZjQ1"
   },
   "source": [
    "### 1.4 Training the CNN\n",
    "\n",
    "Now, let's create our CNN model using the class we defined above. We set `output_length` to 1 to learn the HOMO only. Next, we define the NN training function, which is then applied to the CNN. The key parameter is the **number of epochs**, i.e. `max_epochs`.\n",
    "\n",
    "Ideally our model should generalise well and thus make good predictions on data that it was not training on. For this reason we monitor the loss on both the training set and validation set (data not used in training). **We want to stop the training as soon as the validation loss does not decrease anymore and starts to depart from the training loss**.\n",
    "\n",
    "This can be automated with the `EarlyStopping` callback. In the following we will continue training the above model until the validation loss does not decrease anymore and do not start from scratch. If no lower value of the validation loss is found in 10 consecutive steps (`patience=10`), the training will stop."
   ]
  },
  {
   "cell_type": "code",
   "execution_count": 80,
   "metadata": {
    "colab": {
     "base_uri": "https://localhost:8080/",
     "height": 815,
     "referenced_widgets": [
      "7c49c5c606304f20aaaaa10ffd4b15de",
      "d3eb64b4110d408b8335e84a65bf8213",
      "597c772be8b3427abfcd83bcbfc0ce20",
      "5752a61d74474dd09c8311dc58fbef89",
      "dbd0b13e6d9f4b219d381db61cc1830a",
      "dfcd6e17e63d4ffa9fbc6da32149f119",
      "62acb0de4dc84a85aece03fcd4c60085",
      "7ac62ebce09c434b88ccb36f432b005c",
      "e18e1f2089874b62b52ecde47ac2694f",
      "da9094b51c674ca0ad74b5ea5c73dbed",
      "231bec6101c6413eb07b49bcfdb3dd2e",
      "7f7859e247e1415e8f38e1802f380672",
      "5f6f23c8ab9c48798a88de84258952a6",
      "eb81bda48af94abbba6659c06001fbfa",
      "1aab6a9472484f639445775299050bf5",
      "214712b765b648238f6f41822a7b8904",
      "8f60bb11aa87452e84e815ebe6fbf45b",
      "53c52b90ecf84293b7ab456fd4125546",
      "90a07cc4aab04b64b11e3029d72cd325",
      "03ebc8a0006e402dad631dda51cc274e",
      "485523b5eafb4a0f9125d42ae43bed4c",
      "61055d9ae4a84e3fb95a0ea38c5c55bb",
      "652e286be59f48418851e49f4ab193dd",
      "197953b173f848eebf0018c283ee670e",
      "7f28c79cd41844b5afbf4e0aa0bd8165",
      "42beff0e6e724a2ea0a2c967fa178a92",
      "fd5fa00522e44d5e9fe00813658d957c",
      "54fd7fec530a4cce9ac1d7501b537a21",
      "c799fa77ad5943fead003dd0e254b3af",
      "793d844467674e7dab1e16f31a74e2f8",
      "470be0e2612d4729a174e84369697e89",
      "70597a77e1624e8cb63fccfa6c8fd322",
      "5028aeb0a0e84b12a31092ff5908c297",
      "f20c8011eccb47e284aae7a8fc9bbaa6",
      "5c6eb390527743c8971fa9eab46c2740",
      "0c6a2c50d87a42baa235ed313605dd3d",
      "6abe88317ac34650bf7641d5bc3b06ea",
      "c96a0950754f4390b6aa4ab34984df26",
      "2103d0f3105a40318b21c13ba5d30350",
      "956fe4894c234410a96b610e447007f1",
      "b5b8a264354c40409eaec8e7fd2ccd92",
      "d01e0c8a69a14578a2842c3949c721a3",
      "1f2af87e3c4e40468059745c3447e6d6",
      "2f2b6e4878f54328817d92c60927028f"
     ]
    },
    "id": "rQNzguz0oFUM",
    "outputId": "9f10889f-3123-4c4d-f9d6-9ec5c19c18c0"
   },
   "outputs": [
    {
     "name": "stderr",
     "output_type": "stream",
     "text": [
      "You are using the plain ModelCheckpoint callback. Consider using LitModelCheckpoint which with seamless uploading to Model registry.\n",
      "GPU available: True (cuda), used: True\n",
      "TPU available: False, using: 0 TPU cores\n",
      "HPU available: False, using: 0 HPUs\n",
      "LOCAL_RANK: 0 - CUDA_VISIBLE_DEVICES: [MIG-c4028e73-6a3b-5b22-945d-10a1dea408b7]\n",
      "\n",
      "  | Name    | Type      | Params | Mode \n",
      "----------------------------------------------\n",
      "0 | conv1_1 | Conv2d    | 200    | train\n",
      "1 | conv1_2 | Conv2d    | 3.6 K  | train\n",
      "2 | conv1_3 | Conv2d    | 724    | train\n",
      "3 | pool    | MaxPool2d | 0      | train\n",
      "4 | fc1     | Linear    | 197    | train\n",
      "----------------------------------------------\n",
      "4.7 K     Trainable params\n",
      "0         Non-trainable params\n",
      "4.7 K     Total params\n",
      "0.019     Total estimated model params size (MB)\n",
      "5         Modules in train mode\n",
      "0         Modules in eval mode\n"
     ]
    },
    {
     "data": {
      "application/vnd.jupyter.widget-view+json": {
       "model_id": "c3fd0d32a5714c9d95121132144a0fb0",
       "version_major": 2,
       "version_minor": 0
      },
      "text/plain": [
       "Sanity Checking: |          | 0/? [00:00<?, ?it/s]"
      ]
     },
     "metadata": {},
     "output_type": "display_data"
    },
    {
     "name": "stdout",
     "output_type": "stream",
     "text": [
      "torch.Size([500, 1, 29, 29])\n",
      "torch.Size([6000, 1, 29, 29])\n"
     ]
    },
    {
     "data": {
      "application/vnd.jupyter.widget-view+json": {
       "model_id": "aa476a6ab3114cb5945f402a0d1ff67f",
       "version_major": 2,
       "version_minor": 0
      },
      "text/plain": [
       "Training: |          | 0/? [00:00<?, ?it/s]"
      ]
     },
     "metadata": {},
     "output_type": "display_data"
    },
    {
     "data": {
      "application/vnd.jupyter.widget-view+json": {
       "model_id": "8498d056cd9b41ef88d3b5b6806a5683",
       "version_major": 2,
       "version_minor": 0
      },
      "text/plain": [
       "Validation: |          | 0/? [00:00<?, ?it/s]"
      ]
     },
     "metadata": {},
     "output_type": "display_data"
    },
    {
     "data": {
      "application/vnd.jupyter.widget-view+json": {
       "model_id": "d57b3b3501c744f0b0e461f0ec130f52",
       "version_major": 2,
       "version_minor": 0
      },
      "text/plain": [
       "Validation: |          | 0/? [00:00<?, ?it/s]"
      ]
     },
     "metadata": {},
     "output_type": "display_data"
    },
    {
     "data": {
      "application/vnd.jupyter.widget-view+json": {
       "model_id": "83394172bffc403880c887eb5bfacd51",
       "version_major": 2,
       "version_minor": 0
      },
      "text/plain": [
       "Validation: |          | 0/? [00:00<?, ?it/s]"
      ]
     },
     "metadata": {},
     "output_type": "display_data"
    },
    {
     "data": {
      "application/vnd.jupyter.widget-view+json": {
       "model_id": "493d4b3d2f0e48a98216464aeab66258",
       "version_major": 2,
       "version_minor": 0
      },
      "text/plain": [
       "Validation: |          | 0/? [00:00<?, ?it/s]"
      ]
     },
     "metadata": {},
     "output_type": "display_data"
    },
    {
     "data": {
      "application/vnd.jupyter.widget-view+json": {
       "model_id": "03ffcc49813d4cba94097971a6710eef",
       "version_major": 2,
       "version_minor": 0
      },
      "text/plain": [
       "Validation: |          | 0/? [00:00<?, ?it/s]"
      ]
     },
     "metadata": {},
     "output_type": "display_data"
    },
    {
     "data": {
      "application/vnd.jupyter.widget-view+json": {
       "model_id": "36555f08da2048f38f84cb79864fe598",
       "version_major": 2,
       "version_minor": 0
      },
      "text/plain": [
       "Validation: |          | 0/? [00:00<?, ?it/s]"
      ]
     },
     "metadata": {},
     "output_type": "display_data"
    },
    {
     "data": {
      "application/vnd.jupyter.widget-view+json": {
       "model_id": "dd39e1eb0bdb40b086e47b3b6d9799c9",
       "version_major": 2,
       "version_minor": 0
      },
      "text/plain": [
       "Validation: |          | 0/? [00:00<?, ?it/s]"
      ]
     },
     "metadata": {},
     "output_type": "display_data"
    },
    {
     "data": {
      "application/vnd.jupyter.widget-view+json": {
       "model_id": "08eb38d0f6024f50af5f2de03d4f1fa5",
       "version_major": 2,
       "version_minor": 0
      },
      "text/plain": [
       "Validation: |          | 0/? [00:00<?, ?it/s]"
      ]
     },
     "metadata": {},
     "output_type": "display_data"
    },
    {
     "data": {
      "application/vnd.jupyter.widget-view+json": {
       "model_id": "f6730f757d244288b335cc9a9ed686c8",
       "version_major": 2,
       "version_minor": 0
      },
      "text/plain": [
       "Validation: |          | 0/? [00:00<?, ?it/s]"
      ]
     },
     "metadata": {},
     "output_type": "display_data"
    },
    {
     "data": {
      "application/vnd.jupyter.widget-view+json": {
       "model_id": "429bf5a7c8514200aa85cd601da8d9f9",
       "version_major": 2,
       "version_minor": 0
      },
      "text/plain": [
       "Validation: |          | 0/? [00:00<?, ?it/s]"
      ]
     },
     "metadata": {},
     "output_type": "display_data"
    },
    {
     "data": {
      "application/vnd.jupyter.widget-view+json": {
       "model_id": "7b1d515169184d79b2939aae950b0ec5",
       "version_major": 2,
       "version_minor": 0
      },
      "text/plain": [
       "Validation: |          | 0/? [00:00<?, ?it/s]"
      ]
     },
     "metadata": {},
     "output_type": "display_data"
    },
    {
     "data": {
      "application/vnd.jupyter.widget-view+json": {
       "model_id": "5f586cda9e1441adb0285c2d26baf086",
       "version_major": 2,
       "version_minor": 0
      },
      "text/plain": [
       "Validation: |          | 0/? [00:00<?, ?it/s]"
      ]
     },
     "metadata": {},
     "output_type": "display_data"
    },
    {
     "data": {
      "application/vnd.jupyter.widget-view+json": {
       "model_id": "b82069510374436fb15bce18e762c02b",
       "version_major": 2,
       "version_minor": 0
      },
      "text/plain": [
       "Validation: |          | 0/? [00:00<?, ?it/s]"
      ]
     },
     "metadata": {},
     "output_type": "display_data"
    },
    {
     "data": {
      "application/vnd.jupyter.widget-view+json": {
       "model_id": "5eaba5ff464749c48a1695d5caf8f55d",
       "version_major": 2,
       "version_minor": 0
      },
      "text/plain": [
       "Validation: |          | 0/? [00:00<?, ?it/s]"
      ]
     },
     "metadata": {},
     "output_type": "display_data"
    },
    {
     "data": {
      "application/vnd.jupyter.widget-view+json": {
       "model_id": "cb298ee6fcb14f06ba21b05a9de89a6e",
       "version_major": 2,
       "version_minor": 0
      },
      "text/plain": [
       "Validation: |          | 0/? [00:00<?, ?it/s]"
      ]
     },
     "metadata": {},
     "output_type": "display_data"
    },
    {
     "data": {
      "application/vnd.jupyter.widget-view+json": {
       "model_id": "5aca3a4d2adc418eb9b104a895396595",
       "version_major": 2,
       "version_minor": 0
      },
      "text/plain": [
       "Validation: |          | 0/? [00:00<?, ?it/s]"
      ]
     },
     "metadata": {},
     "output_type": "display_data"
    },
    {
     "data": {
      "application/vnd.jupyter.widget-view+json": {
       "model_id": "b05abb0b7e0b4799ab14a4d46608854c",
       "version_major": 2,
       "version_minor": 0
      },
      "text/plain": [
       "Validation: |          | 0/? [00:00<?, ?it/s]"
      ]
     },
     "metadata": {},
     "output_type": "display_data"
    },
    {
     "data": {
      "application/vnd.jupyter.widget-view+json": {
       "model_id": "3bedda06531a4f48af4bc77a052d1540",
       "version_major": 2,
       "version_minor": 0
      },
      "text/plain": [
       "Validation: |          | 0/? [00:00<?, ?it/s]"
      ]
     },
     "metadata": {},
     "output_type": "display_data"
    },
    {
     "data": {
      "application/vnd.jupyter.widget-view+json": {
       "model_id": "ceafbd163c224338ba1cf48e91da22f7",
       "version_major": 2,
       "version_minor": 0
      },
      "text/plain": [
       "Validation: |          | 0/? [00:00<?, ?it/s]"
      ]
     },
     "metadata": {},
     "output_type": "display_data"
    },
    {
     "data": {
      "application/vnd.jupyter.widget-view+json": {
       "model_id": "de6e272d521a45aaaeb2461d023f29b4",
       "version_major": 2,
       "version_minor": 0
      },
      "text/plain": [
       "Validation: |          | 0/? [00:00<?, ?it/s]"
      ]
     },
     "metadata": {},
     "output_type": "display_data"
    },
    {
     "data": {
      "application/vnd.jupyter.widget-view+json": {
       "model_id": "665403bab69c459289d40e30a64d526e",
       "version_major": 2,
       "version_minor": 0
      },
      "text/plain": [
       "Validation: |          | 0/? [00:00<?, ?it/s]"
      ]
     },
     "metadata": {},
     "output_type": "display_data"
    },
    {
     "data": {
      "application/vnd.jupyter.widget-view+json": {
       "model_id": "744006346d0e499188f37bf26d9aedbc",
       "version_major": 2,
       "version_minor": 0
      },
      "text/plain": [
       "Validation: |          | 0/? [00:00<?, ?it/s]"
      ]
     },
     "metadata": {},
     "output_type": "display_data"
    },
    {
     "data": {
      "application/vnd.jupyter.widget-view+json": {
       "model_id": "74a5dd1c76db4ab78b105a6045ed33e1",
       "version_major": 2,
       "version_minor": 0
      },
      "text/plain": [
       "Validation: |          | 0/? [00:00<?, ?it/s]"
      ]
     },
     "metadata": {},
     "output_type": "display_data"
    },
    {
     "data": {
      "application/vnd.jupyter.widget-view+json": {
       "model_id": "a13a0142f2164644860fcd6a9f09bb66",
       "version_major": 2,
       "version_minor": 0
      },
      "text/plain": [
       "Validation: |          | 0/? [00:00<?, ?it/s]"
      ]
     },
     "metadata": {},
     "output_type": "display_data"
    },
    {
     "data": {
      "application/vnd.jupyter.widget-view+json": {
       "model_id": "3615843f70c440b9b7ce8ab839f5353b",
       "version_major": 2,
       "version_minor": 0
      },
      "text/plain": [
       "Validation: |          | 0/? [00:00<?, ?it/s]"
      ]
     },
     "metadata": {},
     "output_type": "display_data"
    },
    {
     "data": {
      "application/vnd.jupyter.widget-view+json": {
       "model_id": "1a512b30673b4333b50c07248d9da8cd",
       "version_major": 2,
       "version_minor": 0
      },
      "text/plain": [
       "Validation: |          | 0/? [00:00<?, ?it/s]"
      ]
     },
     "metadata": {},
     "output_type": "display_data"
    },
    {
     "data": {
      "application/vnd.jupyter.widget-view+json": {
       "model_id": "1100ee7eac184548b6cdb49277c68ffb",
       "version_major": 2,
       "version_minor": 0
      },
      "text/plain": [
       "Validation: |          | 0/? [00:00<?, ?it/s]"
      ]
     },
     "metadata": {},
     "output_type": "display_data"
    },
    {
     "data": {
      "application/vnd.jupyter.widget-view+json": {
       "model_id": "d7835bb6f4274fc1a9bd8faacbd1d331",
       "version_major": 2,
       "version_minor": 0
      },
      "text/plain": [
       "Validation: |          | 0/? [00:00<?, ?it/s]"
      ]
     },
     "metadata": {},
     "output_type": "display_data"
    },
    {
     "data": {
      "application/vnd.jupyter.widget-view+json": {
       "model_id": "4bd193320f0c4981bcabc3d2f5582cd6",
       "version_major": 2,
       "version_minor": 0
      },
      "text/plain": [
       "Validation: |          | 0/? [00:00<?, ?it/s]"
      ]
     },
     "metadata": {},
     "output_type": "display_data"
    },
    {
     "data": {
      "application/vnd.jupyter.widget-view+json": {
       "model_id": "61da2edffdbe46a9910bc1f232c902e3",
       "version_major": 2,
       "version_minor": 0
      },
      "text/plain": [
       "Validation: |          | 0/? [00:00<?, ?it/s]"
      ]
     },
     "metadata": {},
     "output_type": "display_data"
    },
    {
     "data": {
      "application/vnd.jupyter.widget-view+json": {
       "model_id": "07030ad42d4f4a1a914385e69e970319",
       "version_major": 2,
       "version_minor": 0
      },
      "text/plain": [
       "Validation: |          | 0/? [00:00<?, ?it/s]"
      ]
     },
     "metadata": {},
     "output_type": "display_data"
    },
    {
     "data": {
      "application/vnd.jupyter.widget-view+json": {
       "model_id": "401dba511dff478bb8c0cc4a2d5a92a8",
       "version_major": 2,
       "version_minor": 0
      },
      "text/plain": [
       "Validation: |          | 0/? [00:00<?, ?it/s]"
      ]
     },
     "metadata": {},
     "output_type": "display_data"
    },
    {
     "data": {
      "application/vnd.jupyter.widget-view+json": {
       "model_id": "2281545efda1491cac63bcfe4059862c",
       "version_major": 2,
       "version_minor": 0
      },
      "text/plain": [
       "Validation: |          | 0/? [00:00<?, ?it/s]"
      ]
     },
     "metadata": {},
     "output_type": "display_data"
    },
    {
     "data": {
      "application/vnd.jupyter.widget-view+json": {
       "model_id": "c2f7478b635f475aa2970b64ec0e0784",
       "version_major": 2,
       "version_minor": 0
      },
      "text/plain": [
       "Validation: |          | 0/? [00:00<?, ?it/s]"
      ]
     },
     "metadata": {},
     "output_type": "display_data"
    },
    {
     "data": {
      "application/vnd.jupyter.widget-view+json": {
       "model_id": "0ebcef64813544e884475158ddae6d46",
       "version_major": 2,
       "version_minor": 0
      },
      "text/plain": [
       "Validation: |          | 0/? [00:00<?, ?it/s]"
      ]
     },
     "metadata": {},
     "output_type": "display_data"
    },
    {
     "data": {
      "application/vnd.jupyter.widget-view+json": {
       "model_id": "a9cd4ae398b340d3995a56e495efe947",
       "version_major": 2,
       "version_minor": 0
      },
      "text/plain": [
       "Validation: |          | 0/? [00:00<?, ?it/s]"
      ]
     },
     "metadata": {},
     "output_type": "display_data"
    },
    {
     "data": {
      "application/vnd.jupyter.widget-view+json": {
       "model_id": "c4e7388f014446a0821b4d7739ab3f43",
       "version_major": 2,
       "version_minor": 0
      },
      "text/plain": [
       "Validation: |          | 0/? [00:00<?, ?it/s]"
      ]
     },
     "metadata": {},
     "output_type": "display_data"
    },
    {
     "data": {
      "application/vnd.jupyter.widget-view+json": {
       "model_id": "3e5cdc79b48b44d693f03724c7ab11a5",
       "version_major": 2,
       "version_minor": 0
      },
      "text/plain": [
       "Validation: |          | 0/? [00:00<?, ?it/s]"
      ]
     },
     "metadata": {},
     "output_type": "display_data"
    },
    {
     "data": {
      "application/vnd.jupyter.widget-view+json": {
       "model_id": "220bc262545b400c99e164dd735500be",
       "version_major": 2,
       "version_minor": 0
      },
      "text/plain": [
       "Validation: |          | 0/? [00:00<?, ?it/s]"
      ]
     },
     "metadata": {},
     "output_type": "display_data"
    },
    {
     "data": {
      "application/vnd.jupyter.widget-view+json": {
       "model_id": "8e2a1db5ad894239abfbc2fbbbf961aa",
       "version_major": 2,
       "version_minor": 0
      },
      "text/plain": [
       "Validation: |          | 0/? [00:00<?, ?it/s]"
      ]
     },
     "metadata": {},
     "output_type": "display_data"
    },
    {
     "data": {
      "application/vnd.jupyter.widget-view+json": {
       "model_id": "98e0048b325d4563bff53bf382822968",
       "version_major": 2,
       "version_minor": 0
      },
      "text/plain": [
       "Validation: |          | 0/? [00:00<?, ?it/s]"
      ]
     },
     "metadata": {},
     "output_type": "display_data"
    },
    {
     "data": {
      "application/vnd.jupyter.widget-view+json": {
       "model_id": "84774aab99e54038a7c31368c85315a6",
       "version_major": 2,
       "version_minor": 0
      },
      "text/plain": [
       "Validation: |          | 0/? [00:00<?, ?it/s]"
      ]
     },
     "metadata": {},
     "output_type": "display_data"
    },
    {
     "data": {
      "application/vnd.jupyter.widget-view+json": {
       "model_id": "ef49b597272c41d699ce3ba821e59ec5",
       "version_major": 2,
       "version_minor": 0
      },
      "text/plain": [
       "Validation: |          | 0/? [00:00<?, ?it/s]"
      ]
     },
     "metadata": {},
     "output_type": "display_data"
    },
    {
     "data": {
      "application/vnd.jupyter.widget-view+json": {
       "model_id": "ee303ca156a049868c0f48ba622384ae",
       "version_major": 2,
       "version_minor": 0
      },
      "text/plain": [
       "Validation: |          | 0/? [00:00<?, ?it/s]"
      ]
     },
     "metadata": {},
     "output_type": "display_data"
    },
    {
     "data": {
      "application/vnd.jupyter.widget-view+json": {
       "model_id": "1057b5a45f2347b895f6bcb2b8a1144f",
       "version_major": 2,
       "version_minor": 0
      },
      "text/plain": [
       "Validation: |          | 0/? [00:00<?, ?it/s]"
      ]
     },
     "metadata": {},
     "output_type": "display_data"
    },
    {
     "data": {
      "application/vnd.jupyter.widget-view+json": {
       "model_id": "442552a40e574fff95c6794adc4dbb86",
       "version_major": 2,
       "version_minor": 0
      },
      "text/plain": [
       "Validation: |          | 0/? [00:00<?, ?it/s]"
      ]
     },
     "metadata": {},
     "output_type": "display_data"
    },
    {
     "data": {
      "application/vnd.jupyter.widget-view+json": {
       "model_id": "03182139d4614e4fbd0a5f7840799688",
       "version_major": 2,
       "version_minor": 0
      },
      "text/plain": [
       "Validation: |          | 0/? [00:00<?, ?it/s]"
      ]
     },
     "metadata": {},
     "output_type": "display_data"
    },
    {
     "data": {
      "application/vnd.jupyter.widget-view+json": {
       "model_id": "637b37f87c8441849c3f48a931a2e06b",
       "version_major": 2,
       "version_minor": 0
      },
      "text/plain": [
       "Validation: |          | 0/? [00:00<?, ?it/s]"
      ]
     },
     "metadata": {},
     "output_type": "display_data"
    },
    {
     "data": {
      "application/vnd.jupyter.widget-view+json": {
       "model_id": "765392e1e21240b4b4e1a39807380585",
       "version_major": 2,
       "version_minor": 0
      },
      "text/plain": [
       "Validation: |          | 0/? [00:00<?, ?it/s]"
      ]
     },
     "metadata": {},
     "output_type": "display_data"
    },
    {
     "data": {
      "application/vnd.jupyter.widget-view+json": {
       "model_id": "4fa02352009d4aaaab38d1bcbf311bdd",
       "version_major": 2,
       "version_minor": 0
      },
      "text/plain": [
       "Validation: |          | 0/? [00:00<?, ?it/s]"
      ]
     },
     "metadata": {},
     "output_type": "display_data"
    },
    {
     "data": {
      "application/vnd.jupyter.widget-view+json": {
       "model_id": "8cf8de02d68f4333b830558876c11af2",
       "version_major": 2,
       "version_minor": 0
      },
      "text/plain": [
       "Validation: |          | 0/? [00:00<?, ?it/s]"
      ]
     },
     "metadata": {},
     "output_type": "display_data"
    },
    {
     "data": {
      "application/vnd.jupyter.widget-view+json": {
       "model_id": "480e722cfd5441989b2c4a0b158eef18",
       "version_major": 2,
       "version_minor": 0
      },
      "text/plain": [
       "Validation: |          | 0/? [00:00<?, ?it/s]"
      ]
     },
     "metadata": {},
     "output_type": "display_data"
    },
    {
     "data": {
      "application/vnd.jupyter.widget-view+json": {
       "model_id": "e3fd4f74fa8148058a17a6789f894b59",
       "version_major": 2,
       "version_minor": 0
      },
      "text/plain": [
       "Validation: |          | 0/? [00:00<?, ?it/s]"
      ]
     },
     "metadata": {},
     "output_type": "display_data"
    },
    {
     "data": {
      "application/vnd.jupyter.widget-view+json": {
       "model_id": "47dc14986c304603a14d8e36aa163260",
       "version_major": 2,
       "version_minor": 0
      },
      "text/plain": [
       "Validation: |          | 0/? [00:00<?, ?it/s]"
      ]
     },
     "metadata": {},
     "output_type": "display_data"
    },
    {
     "data": {
      "application/vnd.jupyter.widget-view+json": {
       "model_id": "3ee95e761a984da28072ce4d9e45a51a",
       "version_major": 2,
       "version_minor": 0
      },
      "text/plain": [
       "Validation: |          | 0/? [00:00<?, ?it/s]"
      ]
     },
     "metadata": {},
     "output_type": "display_data"
    },
    {
     "data": {
      "application/vnd.jupyter.widget-view+json": {
       "model_id": "e8d62d44c2a546d4940a9d0861a8103d",
       "version_major": 2,
       "version_minor": 0
      },
      "text/plain": [
       "Validation: |          | 0/? [00:00<?, ?it/s]"
      ]
     },
     "metadata": {},
     "output_type": "display_data"
    },
    {
     "data": {
      "application/vnd.jupyter.widget-view+json": {
       "model_id": "fe2c6e2f890743999e63e9d2f54df79a",
       "version_major": 2,
       "version_minor": 0
      },
      "text/plain": [
       "Validation: |          | 0/? [00:00<?, ?it/s]"
      ]
     },
     "metadata": {},
     "output_type": "display_data"
    },
    {
     "data": {
      "application/vnd.jupyter.widget-view+json": {
       "model_id": "f57e4faeb9fc4307bd6bd112dd41aee2",
       "version_major": 2,
       "version_minor": 0
      },
      "text/plain": [
       "Validation: |          | 0/? [00:00<?, ?it/s]"
      ]
     },
     "metadata": {},
     "output_type": "display_data"
    },
    {
     "data": {
      "application/vnd.jupyter.widget-view+json": {
       "model_id": "b5a5a448ec504265b91d71fcad3b3f82",
       "version_major": 2,
       "version_minor": 0
      },
      "text/plain": [
       "Validation: |          | 0/? [00:00<?, ?it/s]"
      ]
     },
     "metadata": {},
     "output_type": "display_data"
    },
    {
     "data": {
      "application/vnd.jupyter.widget-view+json": {
       "model_id": "aaab91b0940e47a2bdafca36fa39a60a",
       "version_major": 2,
       "version_minor": 0
      },
      "text/plain": [
       "Validation: |          | 0/? [00:00<?, ?it/s]"
      ]
     },
     "metadata": {},
     "output_type": "display_data"
    },
    {
     "data": {
      "application/vnd.jupyter.widget-view+json": {
       "model_id": "4fa58d535b6b40c28ab90e8e28467786",
       "version_major": 2,
       "version_minor": 0
      },
      "text/plain": [
       "Validation: |          | 0/? [00:00<?, ?it/s]"
      ]
     },
     "metadata": {},
     "output_type": "display_data"
    },
    {
     "data": {
      "application/vnd.jupyter.widget-view+json": {
       "model_id": "cd3e205c05f040479170dcde4000c899",
       "version_major": 2,
       "version_minor": 0
      },
      "text/plain": [
       "Validation: |          | 0/? [00:00<?, ?it/s]"
      ]
     },
     "metadata": {},
     "output_type": "display_data"
    },
    {
     "data": {
      "application/vnd.jupyter.widget-view+json": {
       "model_id": "d01d9f71fab54c37b50fea9bf3faaa84",
       "version_major": 2,
       "version_minor": 0
      },
      "text/plain": [
       "Validation: |          | 0/? [00:00<?, ?it/s]"
      ]
     },
     "metadata": {},
     "output_type": "display_data"
    },
    {
     "data": {
      "application/vnd.jupyter.widget-view+json": {
       "model_id": "cf1e74fa8a5f44d39b457804253b0c65",
       "version_major": 2,
       "version_minor": 0
      },
      "text/plain": [
       "Validation: |          | 0/? [00:00<?, ?it/s]"
      ]
     },
     "metadata": {},
     "output_type": "display_data"
    },
    {
     "data": {
      "application/vnd.jupyter.widget-view+json": {
       "model_id": "9d2ebf3fa0b641aab43ab687c919e919",
       "version_major": 2,
       "version_minor": 0
      },
      "text/plain": [
       "Validation: |          | 0/? [00:00<?, ?it/s]"
      ]
     },
     "metadata": {},
     "output_type": "display_data"
    },
    {
     "data": {
      "application/vnd.jupyter.widget-view+json": {
       "model_id": "f79390328f1546169bb227edb2686351",
       "version_major": 2,
       "version_minor": 0
      },
      "text/plain": [
       "Validation: |          | 0/? [00:00<?, ?it/s]"
      ]
     },
     "metadata": {},
     "output_type": "display_data"
    },
    {
     "data": {
      "application/vnd.jupyter.widget-view+json": {
       "model_id": "98297b980b484f4e9e0306ca8c4e65b6",
       "version_major": 2,
       "version_minor": 0
      },
      "text/plain": [
       "Validation: |          | 0/? [00:00<?, ?it/s]"
      ]
     },
     "metadata": {},
     "output_type": "display_data"
    },
    {
     "data": {
      "application/vnd.jupyter.widget-view+json": {
       "model_id": "f6452dea27b2457292f470d8cfbe328c",
       "version_major": 2,
       "version_minor": 0
      },
      "text/plain": [
       "Validation: |          | 0/? [00:00<?, ?it/s]"
      ]
     },
     "metadata": {},
     "output_type": "display_data"
    },
    {
     "data": {
      "application/vnd.jupyter.widget-view+json": {
       "model_id": "1f9f85becc15428582b967143ce09d10",
       "version_major": 2,
       "version_minor": 0
      },
      "text/plain": [
       "Validation: |          | 0/? [00:00<?, ?it/s]"
      ]
     },
     "metadata": {},
     "output_type": "display_data"
    },
    {
     "data": {
      "application/vnd.jupyter.widget-view+json": {
       "model_id": "bc624e059bd54a679f4db9c0da242538",
       "version_major": 2,
       "version_minor": 0
      },
      "text/plain": [
       "Validation: |          | 0/? [00:00<?, ?it/s]"
      ]
     },
     "metadata": {},
     "output_type": "display_data"
    },
    {
     "data": {
      "application/vnd.jupyter.widget-view+json": {
       "model_id": "00193ae9e55f407d9d8fa399832e1499",
       "version_major": 2,
       "version_minor": 0
      },
      "text/plain": [
       "Validation: |          | 0/? [00:00<?, ?it/s]"
      ]
     },
     "metadata": {},
     "output_type": "display_data"
    },
    {
     "data": {
      "application/vnd.jupyter.widget-view+json": {
       "model_id": "910c456917344022bba21fc8250d9f89",
       "version_major": 2,
       "version_minor": 0
      },
      "text/plain": [
       "Validation: |          | 0/? [00:00<?, ?it/s]"
      ]
     },
     "metadata": {},
     "output_type": "display_data"
    },
    {
     "data": {
      "application/vnd.jupyter.widget-view+json": {
       "model_id": "a85678ac1b434c23831744d1a4e48b74",
       "version_major": 2,
       "version_minor": 0
      },
      "text/plain": [
       "Validation: |          | 0/? [00:00<?, ?it/s]"
      ]
     },
     "metadata": {},
     "output_type": "display_data"
    },
    {
     "data": {
      "application/vnd.jupyter.widget-view+json": {
       "model_id": "c31a2d2078684670a8f1d9eba17dc5ab",
       "version_major": 2,
       "version_minor": 0
      },
      "text/plain": [
       "Validation: |          | 0/? [00:00<?, ?it/s]"
      ]
     },
     "metadata": {},
     "output_type": "display_data"
    },
    {
     "data": {
      "application/vnd.jupyter.widget-view+json": {
       "model_id": "ee95b3f9f6a045cfabf474e4386d9231",
       "version_major": 2,
       "version_minor": 0
      },
      "text/plain": [
       "Validation: |          | 0/? [00:00<?, ?it/s]"
      ]
     },
     "metadata": {},
     "output_type": "display_data"
    },
    {
     "data": {
      "application/vnd.jupyter.widget-view+json": {
       "model_id": "6ec6bce96840487bab2206b8010e6372",
       "version_major": 2,
       "version_minor": 0
      },
      "text/plain": [
       "Validation: |          | 0/? [00:00<?, ?it/s]"
      ]
     },
     "metadata": {},
     "output_type": "display_data"
    },
    {
     "data": {
      "application/vnd.jupyter.widget-view+json": {
       "model_id": "2e864783aaa74f5e87d58c7d9e5ee1f9",
       "version_major": 2,
       "version_minor": 0
      },
      "text/plain": [
       "Validation: |          | 0/? [00:00<?, ?it/s]"
      ]
     },
     "metadata": {},
     "output_type": "display_data"
    },
    {
     "data": {
      "application/vnd.jupyter.widget-view+json": {
       "model_id": "7a68430965954d8081abfa2c4692ffda",
       "version_major": 2,
       "version_minor": 0
      },
      "text/plain": [
       "Validation: |          | 0/? [00:00<?, ?it/s]"
      ]
     },
     "metadata": {},
     "output_type": "display_data"
    },
    {
     "data": {
      "application/vnd.jupyter.widget-view+json": {
       "model_id": "323288e72dc54cea8137259a00e3b221",
       "version_major": 2,
       "version_minor": 0
      },
      "text/plain": [
       "Validation: |          | 0/? [00:00<?, ?it/s]"
      ]
     },
     "metadata": {},
     "output_type": "display_data"
    },
    {
     "data": {
      "application/vnd.jupyter.widget-view+json": {
       "model_id": "a31afe27623c42e08c36c2118548f721",
       "version_major": 2,
       "version_minor": 0
      },
      "text/plain": [
       "Validation: |          | 0/? [00:00<?, ?it/s]"
      ]
     },
     "metadata": {},
     "output_type": "display_data"
    },
    {
     "data": {
      "application/vnd.jupyter.widget-view+json": {
       "model_id": "5c4ec4c4581f4172867b00a3adf823c4",
       "version_major": 2,
       "version_minor": 0
      },
      "text/plain": [
       "Validation: |          | 0/? [00:00<?, ?it/s]"
      ]
     },
     "metadata": {},
     "output_type": "display_data"
    },
    {
     "data": {
      "application/vnd.jupyter.widget-view+json": {
       "model_id": "6ed4bd561c794c89b6eca97546484c88",
       "version_major": 2,
       "version_minor": 0
      },
      "text/plain": [
       "Validation: |          | 0/? [00:00<?, ?it/s]"
      ]
     },
     "metadata": {},
     "output_type": "display_data"
    },
    {
     "data": {
      "application/vnd.jupyter.widget-view+json": {
       "model_id": "3222bb809ca84b3f8a29191ee2418c32",
       "version_major": 2,
       "version_minor": 0
      },
      "text/plain": [
       "Validation: |          | 0/? [00:00<?, ?it/s]"
      ]
     },
     "metadata": {},
     "output_type": "display_data"
    },
    {
     "data": {
      "application/vnd.jupyter.widget-view+json": {
       "model_id": "9ed1e6a192be48bcaa8a80af9e897011",
       "version_major": 2,
       "version_minor": 0
      },
      "text/plain": [
       "Validation: |          | 0/? [00:00<?, ?it/s]"
      ]
     },
     "metadata": {},
     "output_type": "display_data"
    },
    {
     "data": {
      "application/vnd.jupyter.widget-view+json": {
       "model_id": "2684c62b76be485c933fa29f193d8d4c",
       "version_major": 2,
       "version_minor": 0
      },
      "text/plain": [
       "Validation: |          | 0/? [00:00<?, ?it/s]"
      ]
     },
     "metadata": {},
     "output_type": "display_data"
    },
    {
     "data": {
      "application/vnd.jupyter.widget-view+json": {
       "model_id": "43f7ab84c7594e66b970619274bc9b76",
       "version_major": 2,
       "version_minor": 0
      },
      "text/plain": [
       "Validation: |          | 0/? [00:00<?, ?it/s]"
      ]
     },
     "metadata": {},
     "output_type": "display_data"
    },
    {
     "data": {
      "application/vnd.jupyter.widget-view+json": {
       "model_id": "8dc7ee161e7b438aa6668511c1e72a1d",
       "version_major": 2,
       "version_minor": 0
      },
      "text/plain": [
       "Validation: |          | 0/? [00:00<?, ?it/s]"
      ]
     },
     "metadata": {},
     "output_type": "display_data"
    },
    {
     "data": {
      "application/vnd.jupyter.widget-view+json": {
       "model_id": "723c031d3bb24f78a23f50abbb3188b0",
       "version_major": 2,
       "version_minor": 0
      },
      "text/plain": [
       "Validation: |          | 0/? [00:00<?, ?it/s]"
      ]
     },
     "metadata": {},
     "output_type": "display_data"
    },
    {
     "data": {
      "application/vnd.jupyter.widget-view+json": {
       "model_id": "a3afa34afe884ab3928092deaebc682b",
       "version_major": 2,
       "version_minor": 0
      },
      "text/plain": [
       "Validation: |          | 0/? [00:00<?, ?it/s]"
      ]
     },
     "metadata": {},
     "output_type": "display_data"
    },
    {
     "data": {
      "application/vnd.jupyter.widget-view+json": {
       "model_id": "1f9a84271bad4d559eb3d177ebcc276d",
       "version_major": 2,
       "version_minor": 0
      },
      "text/plain": [
       "Validation: |          | 0/? [00:00<?, ?it/s]"
      ]
     },
     "metadata": {},
     "output_type": "display_data"
    },
    {
     "data": {
      "application/vnd.jupyter.widget-view+json": {
       "model_id": "6a2acbd3f56d406d9a39ecc5bdc6645c",
       "version_major": 2,
       "version_minor": 0
      },
      "text/plain": [
       "Validation: |          | 0/? [00:00<?, ?it/s]"
      ]
     },
     "metadata": {},
     "output_type": "display_data"
    },
    {
     "data": {
      "application/vnd.jupyter.widget-view+json": {
       "model_id": "405e11bb499646f0994db7121d1524e4",
       "version_major": 2,
       "version_minor": 0
      },
      "text/plain": [
       "Validation: |          | 0/? [00:00<?, ?it/s]"
      ]
     },
     "metadata": {},
     "output_type": "display_data"
    },
    {
     "data": {
      "application/vnd.jupyter.widget-view+json": {
       "model_id": "416c84cd4ab94eb39900a473d989a535",
       "version_major": 2,
       "version_minor": 0
      },
      "text/plain": [
       "Validation: |          | 0/? [00:00<?, ?it/s]"
      ]
     },
     "metadata": {},
     "output_type": "display_data"
    },
    {
     "data": {
      "application/vnd.jupyter.widget-view+json": {
       "model_id": "95f0ab8eb1c34fab89443703df4d6a8c",
       "version_major": 2,
       "version_minor": 0
      },
      "text/plain": [
       "Validation: |          | 0/? [00:00<?, ?it/s]"
      ]
     },
     "metadata": {},
     "output_type": "display_data"
    },
    {
     "data": {
      "application/vnd.jupyter.widget-view+json": {
       "model_id": "6b0e4a47380d4716810ee02165cef600",
       "version_major": 2,
       "version_minor": 0
      },
      "text/plain": [
       "Validation: |          | 0/? [00:00<?, ?it/s]"
      ]
     },
     "metadata": {},
     "output_type": "display_data"
    },
    {
     "data": {
      "application/vnd.jupyter.widget-view+json": {
       "model_id": "989a88ab9d0741f6a84c4e602bf6d023",
       "version_major": 2,
       "version_minor": 0
      },
      "text/plain": [
       "Validation: |          | 0/? [00:00<?, ?it/s]"
      ]
     },
     "metadata": {},
     "output_type": "display_data"
    },
    {
     "data": {
      "application/vnd.jupyter.widget-view+json": {
       "model_id": "1191125da2444f2fa92e572da6cd1d40",
       "version_major": 2,
       "version_minor": 0
      },
      "text/plain": [
       "Validation: |          | 0/? [00:00<?, ?it/s]"
      ]
     },
     "metadata": {},
     "output_type": "display_data"
    },
    {
     "data": {
      "application/vnd.jupyter.widget-view+json": {
       "model_id": "a28a7bb23970497e85c8327aaa0084d7",
       "version_major": 2,
       "version_minor": 0
      },
      "text/plain": [
       "Validation: |          | 0/? [00:00<?, ?it/s]"
      ]
     },
     "metadata": {},
     "output_type": "display_data"
    },
    {
     "data": {
      "application/vnd.jupyter.widget-view+json": {
       "model_id": "a634cf4c07fb4f19b525ac1434e1f7bb",
       "version_major": 2,
       "version_minor": 0
      },
      "text/plain": [
       "Validation: |          | 0/? [00:00<?, ?it/s]"
      ]
     },
     "metadata": {},
     "output_type": "display_data"
    },
    {
     "data": {
      "application/vnd.jupyter.widget-view+json": {
       "model_id": "656e7949d4154514906485ee31f5a80a",
       "version_major": 2,
       "version_minor": 0
      },
      "text/plain": [
       "Validation: |          | 0/? [00:00<?, ?it/s]"
      ]
     },
     "metadata": {},
     "output_type": "display_data"
    },
    {
     "data": {
      "application/vnd.jupyter.widget-view+json": {
       "model_id": "15b75ac3084d4bffb48dc0269741044e",
       "version_major": 2,
       "version_minor": 0
      },
      "text/plain": [
       "Validation: |          | 0/? [00:00<?, ?it/s]"
      ]
     },
     "metadata": {},
     "output_type": "display_data"
    },
    {
     "data": {
      "application/vnd.jupyter.widget-view+json": {
       "model_id": "e6ca761f2cba4a9b97cf800221f0f04c",
       "version_major": 2,
       "version_minor": 0
      },
      "text/plain": [
       "Validation: |          | 0/? [00:00<?, ?it/s]"
      ]
     },
     "metadata": {},
     "output_type": "display_data"
    },
    {
     "data": {
      "application/vnd.jupyter.widget-view+json": {
       "model_id": "1cd226a710a34fc2ae78c65ddf73452b",
       "version_major": 2,
       "version_minor": 0
      },
      "text/plain": [
       "Validation: |          | 0/? [00:00<?, ?it/s]"
      ]
     },
     "metadata": {},
     "output_type": "display_data"
    },
    {
     "data": {
      "application/vnd.jupyter.widget-view+json": {
       "model_id": "25ee5502ab014d0d8c93c2271b480202",
       "version_major": 2,
       "version_minor": 0
      },
      "text/plain": [
       "Validation: |          | 0/? [00:00<?, ?it/s]"
      ]
     },
     "metadata": {},
     "output_type": "display_data"
    },
    {
     "data": {
      "application/vnd.jupyter.widget-view+json": {
       "model_id": "946a053b0e12450d92c0f2e905854e25",
       "version_major": 2,
       "version_minor": 0
      },
      "text/plain": [
       "Validation: |          | 0/? [00:00<?, ?it/s]"
      ]
     },
     "metadata": {},
     "output_type": "display_data"
    },
    {
     "data": {
      "application/vnd.jupyter.widget-view+json": {
       "model_id": "184b5c62945e4adfb92e8996b21e954e",
       "version_major": 2,
       "version_minor": 0
      },
      "text/plain": [
       "Validation: |          | 0/? [00:00<?, ?it/s]"
      ]
     },
     "metadata": {},
     "output_type": "display_data"
    },
    {
     "data": {
      "application/vnd.jupyter.widget-view+json": {
       "model_id": "16c7418a0aa7465b8ab3736eda9032c9",
       "version_major": 2,
       "version_minor": 0
      },
      "text/plain": [
       "Validation: |          | 0/? [00:00<?, ?it/s]"
      ]
     },
     "metadata": {},
     "output_type": "display_data"
    },
    {
     "data": {
      "application/vnd.jupyter.widget-view+json": {
       "model_id": "5238b913d064458696606ca4d28b8c91",
       "version_major": 2,
       "version_minor": 0
      },
      "text/plain": [
       "Validation: |          | 0/? [00:00<?, ?it/s]"
      ]
     },
     "metadata": {},
     "output_type": "display_data"
    },
    {
     "data": {
      "application/vnd.jupyter.widget-view+json": {
       "model_id": "c2bc831d51074f28bea573021bcd1ae0",
       "version_major": 2,
       "version_minor": 0
      },
      "text/plain": [
       "Validation: |          | 0/? [00:00<?, ?it/s]"
      ]
     },
     "metadata": {},
     "output_type": "display_data"
    },
    {
     "data": {
      "application/vnd.jupyter.widget-view+json": {
       "model_id": "9227ae184edd4c7a9808f50a62a77ff6",
       "version_major": 2,
       "version_minor": 0
      },
      "text/plain": [
       "Validation: |          | 0/? [00:00<?, ?it/s]"
      ]
     },
     "metadata": {},
     "output_type": "display_data"
    },
    {
     "data": {
      "application/vnd.jupyter.widget-view+json": {
       "model_id": "e8431df8b16242578502c59596a7ef2d",
       "version_major": 2,
       "version_minor": 0
      },
      "text/plain": [
       "Validation: |          | 0/? [00:00<?, ?it/s]"
      ]
     },
     "metadata": {},
     "output_type": "display_data"
    },
    {
     "data": {
      "application/vnd.jupyter.widget-view+json": {
       "model_id": "a60d9fa0bd654eb0b056132ae9b7fed6",
       "version_major": 2,
       "version_minor": 0
      },
      "text/plain": [
       "Validation: |          | 0/? [00:00<?, ?it/s]"
      ]
     },
     "metadata": {},
     "output_type": "display_data"
    },
    {
     "data": {
      "application/vnd.jupyter.widget-view+json": {
       "model_id": "0999e47462824e1b949e0c7c0a6f6269",
       "version_major": 2,
       "version_minor": 0
      },
      "text/plain": [
       "Validation: |          | 0/? [00:00<?, ?it/s]"
      ]
     },
     "metadata": {},
     "output_type": "display_data"
    },
    {
     "data": {
      "application/vnd.jupyter.widget-view+json": {
       "model_id": "55d4f7618488470b9de15ce8f05e1f57",
       "version_major": 2,
       "version_minor": 0
      },
      "text/plain": [
       "Validation: |          | 0/? [00:00<?, ?it/s]"
      ]
     },
     "metadata": {},
     "output_type": "display_data"
    },
    {
     "data": {
      "application/vnd.jupyter.widget-view+json": {
       "model_id": "6920a3f7f2db48e48e20e91c43062927",
       "version_major": 2,
       "version_minor": 0
      },
      "text/plain": [
       "Validation: |          | 0/? [00:00<?, ?it/s]"
      ]
     },
     "metadata": {},
     "output_type": "display_data"
    },
    {
     "data": {
      "application/vnd.jupyter.widget-view+json": {
       "model_id": "8de31e4531f54a40b86bb01d8520296d",
       "version_major": 2,
       "version_minor": 0
      },
      "text/plain": [
       "Validation: |          | 0/? [00:00<?, ?it/s]"
      ]
     },
     "metadata": {},
     "output_type": "display_data"
    },
    {
     "data": {
      "application/vnd.jupyter.widget-view+json": {
       "model_id": "f839648d09c44031b28ecbfe2da67b0e",
       "version_major": 2,
       "version_minor": 0
      },
      "text/plain": [
       "Validation: |          | 0/? [00:00<?, ?it/s]"
      ]
     },
     "metadata": {},
     "output_type": "display_data"
    },
    {
     "data": {
      "application/vnd.jupyter.widget-view+json": {
       "model_id": "87b55dfbc3834a25ab45ceca40dcb83f",
       "version_major": 2,
       "version_minor": 0
      },
      "text/plain": [
       "Validation: |          | 0/? [00:00<?, ?it/s]"
      ]
     },
     "metadata": {},
     "output_type": "display_data"
    },
    {
     "data": {
      "application/vnd.jupyter.widget-view+json": {
       "model_id": "a13a1a0d9b134e579190c010a5dab85b",
       "version_major": 2,
       "version_minor": 0
      },
      "text/plain": [
       "Validation: |          | 0/? [00:00<?, ?it/s]"
      ]
     },
     "metadata": {},
     "output_type": "display_data"
    },
    {
     "data": {
      "application/vnd.jupyter.widget-view+json": {
       "model_id": "c66f0dbaccaa4b628e36a60e59592e34",
       "version_major": 2,
       "version_minor": 0
      },
      "text/plain": [
       "Validation: |          | 0/? [00:00<?, ?it/s]"
      ]
     },
     "metadata": {},
     "output_type": "display_data"
    },
    {
     "data": {
      "application/vnd.jupyter.widget-view+json": {
       "model_id": "c76242054e874a749e4ea2693b5e24a6",
       "version_major": 2,
       "version_minor": 0
      },
      "text/plain": [
       "Validation: |          | 0/? [00:00<?, ?it/s]"
      ]
     },
     "metadata": {},
     "output_type": "display_data"
    },
    {
     "data": {
      "application/vnd.jupyter.widget-view+json": {
       "model_id": "02e21c3953004c9b93343c2a3f0c95d4",
       "version_major": 2,
       "version_minor": 0
      },
      "text/plain": [
       "Validation: |          | 0/? [00:00<?, ?it/s]"
      ]
     },
     "metadata": {},
     "output_type": "display_data"
    },
    {
     "data": {
      "application/vnd.jupyter.widget-view+json": {
       "model_id": "b86ae54f44e9405a8590b12d1b8a395d",
       "version_major": 2,
       "version_minor": 0
      },
      "text/plain": [
       "Validation: |          | 0/? [00:00<?, ?it/s]"
      ]
     },
     "metadata": {},
     "output_type": "display_data"
    },
    {
     "data": {
      "application/vnd.jupyter.widget-view+json": {
       "model_id": "37bb4c34c933440198278774e503346b",
       "version_major": 2,
       "version_minor": 0
      },
      "text/plain": [
       "Validation: |          | 0/? [00:00<?, ?it/s]"
      ]
     },
     "metadata": {},
     "output_type": "display_data"
    },
    {
     "data": {
      "application/vnd.jupyter.widget-view+json": {
       "model_id": "e7be3b55d44549c4821c80bf779abf86",
       "version_major": 2,
       "version_minor": 0
      },
      "text/plain": [
       "Validation: |          | 0/? [00:00<?, ?it/s]"
      ]
     },
     "metadata": {},
     "output_type": "display_data"
    },
    {
     "data": {
      "application/vnd.jupyter.widget-view+json": {
       "model_id": "ba35b7be65774bdcacb60a5f2207dcdd",
       "version_major": 2,
       "version_minor": 0
      },
      "text/plain": [
       "Validation: |          | 0/? [00:00<?, ?it/s]"
      ]
     },
     "metadata": {},
     "output_type": "display_data"
    },
    {
     "data": {
      "application/vnd.jupyter.widget-view+json": {
       "model_id": "bd044cef3f544c48a0680f812e3c8fb6",
       "version_major": 2,
       "version_minor": 0
      },
      "text/plain": [
       "Validation: |          | 0/? [00:00<?, ?it/s]"
      ]
     },
     "metadata": {},
     "output_type": "display_data"
    },
    {
     "data": {
      "application/vnd.jupyter.widget-view+json": {
       "model_id": "2726dd51bfbe41a6994e007a97ef8c9e",
       "version_major": 2,
       "version_minor": 0
      },
      "text/plain": [
       "Validation: |          | 0/? [00:00<?, ?it/s]"
      ]
     },
     "metadata": {},
     "output_type": "display_data"
    },
    {
     "data": {
      "application/vnd.jupyter.widget-view+json": {
       "model_id": "165b34a8d5934d74a31e8fcd9c4b68c1",
       "version_major": 2,
       "version_minor": 0
      },
      "text/plain": [
       "Validation: |          | 0/? [00:00<?, ?it/s]"
      ]
     },
     "metadata": {},
     "output_type": "display_data"
    },
    {
     "data": {
      "application/vnd.jupyter.widget-view+json": {
       "model_id": "abdfcc540358434aa33992cdc6ed96ec",
       "version_major": 2,
       "version_minor": 0
      },
      "text/plain": [
       "Validation: |          | 0/? [00:00<?, ?it/s]"
      ]
     },
     "metadata": {},
     "output_type": "display_data"
    },
    {
     "data": {
      "application/vnd.jupyter.widget-view+json": {
       "model_id": "cd7b0666c81743ec9ccd896d3588ae5f",
       "version_major": 2,
       "version_minor": 0
      },
      "text/plain": [
       "Validation: |          | 0/? [00:00<?, ?it/s]"
      ]
     },
     "metadata": {},
     "output_type": "display_data"
    },
    {
     "data": {
      "application/vnd.jupyter.widget-view+json": {
       "model_id": "8f99e28d722a49f998a2cf1f3ec0e066",
       "version_major": 2,
       "version_minor": 0
      },
      "text/plain": [
       "Validation: |          | 0/? [00:00<?, ?it/s]"
      ]
     },
     "metadata": {},
     "output_type": "display_data"
    },
    {
     "data": {
      "application/vnd.jupyter.widget-view+json": {
       "model_id": "e2575ac0f1dd42cb84927f58a838455e",
       "version_major": 2,
       "version_minor": 0
      },
      "text/plain": [
       "Validation: |          | 0/? [00:00<?, ?it/s]"
      ]
     },
     "metadata": {},
     "output_type": "display_data"
    },
    {
     "data": {
      "application/vnd.jupyter.widget-view+json": {
       "model_id": "1df2a8a7d36249828383c33968e35e9d",
       "version_major": 2,
       "version_minor": 0
      },
      "text/plain": [
       "Validation: |          | 0/? [00:00<?, ?it/s]"
      ]
     },
     "metadata": {},
     "output_type": "display_data"
    },
    {
     "data": {
      "application/vnd.jupyter.widget-view+json": {
       "model_id": "27f70c4305ab4a9bb9a9e32200b7ef8b",
       "version_major": 2,
       "version_minor": 0
      },
      "text/plain": [
       "Validation: |          | 0/? [00:00<?, ?it/s]"
      ]
     },
     "metadata": {},
     "output_type": "display_data"
    },
    {
     "data": {
      "application/vnd.jupyter.widget-view+json": {
       "model_id": "2507729f6c0447188823d043de063537",
       "version_major": 2,
       "version_minor": 0
      },
      "text/plain": [
       "Validation: |          | 0/? [00:00<?, ?it/s]"
      ]
     },
     "metadata": {},
     "output_type": "display_data"
    },
    {
     "data": {
      "application/vnd.jupyter.widget-view+json": {
       "model_id": "e6fffed169d344dea24a425043b9e3c3",
       "version_major": 2,
       "version_minor": 0
      },
      "text/plain": [
       "Validation: |          | 0/? [00:00<?, ?it/s]"
      ]
     },
     "metadata": {},
     "output_type": "display_data"
    },
    {
     "data": {
      "application/vnd.jupyter.widget-view+json": {
       "model_id": "ad50a84338a34776a4909435ea6d3a57",
       "version_major": 2,
       "version_minor": 0
      },
      "text/plain": [
       "Validation: |          | 0/? [00:00<?, ?it/s]"
      ]
     },
     "metadata": {},
     "output_type": "display_data"
    },
    {
     "data": {
      "application/vnd.jupyter.widget-view+json": {
       "model_id": "71878882033c4838bab9b866a457edf4",
       "version_major": 2,
       "version_minor": 0
      },
      "text/plain": [
       "Validation: |          | 0/? [00:00<?, ?it/s]"
      ]
     },
     "metadata": {},
     "output_type": "display_data"
    },
    {
     "data": {
      "application/vnd.jupyter.widget-view+json": {
       "model_id": "605530b7544f4dc7938d209d297a748e",
       "version_major": 2,
       "version_minor": 0
      },
      "text/plain": [
       "Validation: |          | 0/? [00:00<?, ?it/s]"
      ]
     },
     "metadata": {},
     "output_type": "display_data"
    },
    {
     "data": {
      "application/vnd.jupyter.widget-view+json": {
       "model_id": "1c36cbcdb9cc4928b0c8af2c3b9f64c2",
       "version_major": 2,
       "version_minor": 0
      },
      "text/plain": [
       "Validation: |          | 0/? [00:00<?, ?it/s]"
      ]
     },
     "metadata": {},
     "output_type": "display_data"
    },
    {
     "data": {
      "application/vnd.jupyter.widget-view+json": {
       "model_id": "3c33623912e64122a6117dc1d7203b74",
       "version_major": 2,
       "version_minor": 0
      },
      "text/plain": [
       "Validation: |          | 0/? [00:00<?, ?it/s]"
      ]
     },
     "metadata": {},
     "output_type": "display_data"
    },
    {
     "data": {
      "application/vnd.jupyter.widget-view+json": {
       "model_id": "732171176f414f1285aecb95a3e2fd7b",
       "version_major": 2,
       "version_minor": 0
      },
      "text/plain": [
       "Validation: |          | 0/? [00:00<?, ?it/s]"
      ]
     },
     "metadata": {},
     "output_type": "display_data"
    },
    {
     "data": {
      "application/vnd.jupyter.widget-view+json": {
       "model_id": "ba2a89df440640b480931a215db53032",
       "version_major": 2,
       "version_minor": 0
      },
      "text/plain": [
       "Validation: |          | 0/? [00:00<?, ?it/s]"
      ]
     },
     "metadata": {},
     "output_type": "display_data"
    },
    {
     "data": {
      "application/vnd.jupyter.widget-view+json": {
       "model_id": "2af8e5ec3a504480bd3e99b8e16806fc",
       "version_major": 2,
       "version_minor": 0
      },
      "text/plain": [
       "Validation: |          | 0/? [00:00<?, ?it/s]"
      ]
     },
     "metadata": {},
     "output_type": "display_data"
    },
    {
     "data": {
      "application/vnd.jupyter.widget-view+json": {
       "model_id": "2d207a1afb61437a9aef845e752819d2",
       "version_major": 2,
       "version_minor": 0
      },
      "text/plain": [
       "Validation: |          | 0/? [00:00<?, ?it/s]"
      ]
     },
     "metadata": {},
     "output_type": "display_data"
    },
    {
     "data": {
      "application/vnd.jupyter.widget-view+json": {
       "model_id": "a7a30a18bb1d46c28e13dcb77e131392",
       "version_major": 2,
       "version_minor": 0
      },
      "text/plain": [
       "Validation: |          | 0/? [00:00<?, ?it/s]"
      ]
     },
     "metadata": {},
     "output_type": "display_data"
    },
    {
     "data": {
      "application/vnd.jupyter.widget-view+json": {
       "model_id": "8ba43c182fc74c99b007abe398cdcd99",
       "version_major": 2,
       "version_minor": 0
      },
      "text/plain": [
       "Validation: |          | 0/? [00:00<?, ?it/s]"
      ]
     },
     "metadata": {},
     "output_type": "display_data"
    },
    {
     "data": {
      "application/vnd.jupyter.widget-view+json": {
       "model_id": "52d80a5b8b4844c8bea00b794925d5d1",
       "version_major": 2,
       "version_minor": 0
      },
      "text/plain": [
       "Validation: |          | 0/? [00:00<?, ?it/s]"
      ]
     },
     "metadata": {},
     "output_type": "display_data"
    },
    {
     "data": {
      "application/vnd.jupyter.widget-view+json": {
       "model_id": "4ebe2bdd999647bb892ce0d8fb607866",
       "version_major": 2,
       "version_minor": 0
      },
      "text/plain": [
       "Validation: |          | 0/? [00:00<?, ?it/s]"
      ]
     },
     "metadata": {},
     "output_type": "display_data"
    },
    {
     "data": {
      "application/vnd.jupyter.widget-view+json": {
       "model_id": "d8459c0a6b394e9083752dcbb35f9d53",
       "version_major": 2,
       "version_minor": 0
      },
      "text/plain": [
       "Validation: |          | 0/? [00:00<?, ?it/s]"
      ]
     },
     "metadata": {},
     "output_type": "display_data"
    },
    {
     "data": {
      "application/vnd.jupyter.widget-view+json": {
       "model_id": "4ab7fe8d335f4a8cbc3fe7231857b02e",
       "version_major": 2,
       "version_minor": 0
      },
      "text/plain": [
       "Validation: |          | 0/? [00:00<?, ?it/s]"
      ]
     },
     "metadata": {},
     "output_type": "display_data"
    },
    {
     "data": {
      "application/vnd.jupyter.widget-view+json": {
       "model_id": "0b2fc95f24d64da6ba68d009a4ef7a5b",
       "version_major": 2,
       "version_minor": 0
      },
      "text/plain": [
       "Validation: |          | 0/? [00:00<?, ?it/s]"
      ]
     },
     "metadata": {},
     "output_type": "display_data"
    },
    {
     "data": {
      "application/vnd.jupyter.widget-view+json": {
       "model_id": "0b643eff633e473484c4f0f4038f6d21",
       "version_major": 2,
       "version_minor": 0
      },
      "text/plain": [
       "Validation: |          | 0/? [00:00<?, ?it/s]"
      ]
     },
     "metadata": {},
     "output_type": "display_data"
    },
    {
     "data": {
      "application/vnd.jupyter.widget-view+json": {
       "model_id": "bedc41b68d6942a2be4a5e9ae6e101ab",
       "version_major": 2,
       "version_minor": 0
      },
      "text/plain": [
       "Validation: |          | 0/? [00:00<?, ?it/s]"
      ]
     },
     "metadata": {},
     "output_type": "display_data"
    },
    {
     "data": {
      "application/vnd.jupyter.widget-view+json": {
       "model_id": "cccf3b8bd8eb4300b20583166eb26de5",
       "version_major": 2,
       "version_minor": 0
      },
      "text/plain": [
       "Validation: |          | 0/? [00:00<?, ?it/s]"
      ]
     },
     "metadata": {},
     "output_type": "display_data"
    },
    {
     "data": {
      "application/vnd.jupyter.widget-view+json": {
       "model_id": "c1d8e608b24442268335a792ef7da78a",
       "version_major": 2,
       "version_minor": 0
      },
      "text/plain": [
       "Validation: |          | 0/? [00:00<?, ?it/s]"
      ]
     },
     "metadata": {},
     "output_type": "display_data"
    },
    {
     "data": {
      "application/vnd.jupyter.widget-view+json": {
       "model_id": "65645073bf2b40ac9c0344a317c1d5f4",
       "version_major": 2,
       "version_minor": 0
      },
      "text/plain": [
       "Validation: |          | 0/? [00:00<?, ?it/s]"
      ]
     },
     "metadata": {},
     "output_type": "display_data"
    },
    {
     "data": {
      "application/vnd.jupyter.widget-view+json": {
       "model_id": "649cc394fd014abbb0298c696ccf6a3d",
       "version_major": 2,
       "version_minor": 0
      },
      "text/plain": [
       "Validation: |          | 0/? [00:00<?, ?it/s]"
      ]
     },
     "metadata": {},
     "output_type": "display_data"
    },
    {
     "data": {
      "application/vnd.jupyter.widget-view+json": {
       "model_id": "98f909ee350048268ca0b72e7bedf5c1",
       "version_major": 2,
       "version_minor": 0
      },
      "text/plain": [
       "Validation: |          | 0/? [00:00<?, ?it/s]"
      ]
     },
     "metadata": {},
     "output_type": "display_data"
    },
    {
     "data": {
      "application/vnd.jupyter.widget-view+json": {
       "model_id": "1fd83101f4f54188a02b0d3ef7d94809",
       "version_major": 2,
       "version_minor": 0
      },
      "text/plain": [
       "Validation: |          | 0/? [00:00<?, ?it/s]"
      ]
     },
     "metadata": {},
     "output_type": "display_data"
    },
    {
     "data": {
      "application/vnd.jupyter.widget-view+json": {
       "model_id": "0a45430229654967a6b9b93cdadb331a",
       "version_major": 2,
       "version_minor": 0
      },
      "text/plain": [
       "Validation: |          | 0/? [00:00<?, ?it/s]"
      ]
     },
     "metadata": {},
     "output_type": "display_data"
    },
    {
     "data": {
      "application/vnd.jupyter.widget-view+json": {
       "model_id": "0efd61281e2642de9d4248eede848b46",
       "version_major": 2,
       "version_minor": 0
      },
      "text/plain": [
       "Validation: |          | 0/? [00:00<?, ?it/s]"
      ]
     },
     "metadata": {},
     "output_type": "display_data"
    },
    {
     "data": {
      "application/vnd.jupyter.widget-view+json": {
       "model_id": "0786a9ea46c744b7bd8e1c8c888591c1",
       "version_major": 2,
       "version_minor": 0
      },
      "text/plain": [
       "Validation: |          | 0/? [00:00<?, ?it/s]"
      ]
     },
     "metadata": {},
     "output_type": "display_data"
    },
    {
     "data": {
      "application/vnd.jupyter.widget-view+json": {
       "model_id": "977447408e1345968f7555ed8ec01b86",
       "version_major": 2,
       "version_minor": 0
      },
      "text/plain": [
       "Validation: |          | 0/? [00:00<?, ?it/s]"
      ]
     },
     "metadata": {},
     "output_type": "display_data"
    },
    {
     "data": {
      "application/vnd.jupyter.widget-view+json": {
       "model_id": "8a0688a2a1c149b5a199b93e50db07ef",
       "version_major": 2,
       "version_minor": 0
      },
      "text/plain": [
       "Validation: |          | 0/? [00:00<?, ?it/s]"
      ]
     },
     "metadata": {},
     "output_type": "display_data"
    },
    {
     "data": {
      "application/vnd.jupyter.widget-view+json": {
       "model_id": "e6542b4d6eef42f0a1402dc7caf1a9a8",
       "version_major": 2,
       "version_minor": 0
      },
      "text/plain": [
       "Validation: |          | 0/? [00:00<?, ?it/s]"
      ]
     },
     "metadata": {},
     "output_type": "display_data"
    },
    {
     "data": {
      "application/vnd.jupyter.widget-view+json": {
       "model_id": "09d95df6a8544fc794ad715ce0284fa3",
       "version_major": 2,
       "version_minor": 0
      },
      "text/plain": [
       "Validation: |          | 0/? [00:00<?, ?it/s]"
      ]
     },
     "metadata": {},
     "output_type": "display_data"
    },
    {
     "data": {
      "application/vnd.jupyter.widget-view+json": {
       "model_id": "bffec041dc344c20af0adb44978c7cec",
       "version_major": 2,
       "version_minor": 0
      },
      "text/plain": [
       "Validation: |          | 0/? [00:00<?, ?it/s]"
      ]
     },
     "metadata": {},
     "output_type": "display_data"
    },
    {
     "data": {
      "application/vnd.jupyter.widget-view+json": {
       "model_id": "a1a91a3cc3eb40bdab0894ab0326dd6f",
       "version_major": 2,
       "version_minor": 0
      },
      "text/plain": [
       "Validation: |          | 0/? [00:00<?, ?it/s]"
      ]
     },
     "metadata": {},
     "output_type": "display_data"
    },
    {
     "data": {
      "application/vnd.jupyter.widget-view+json": {
       "model_id": "ba36a36ae4bf4918ade7b318e5b0ce02",
       "version_major": 2,
       "version_minor": 0
      },
      "text/plain": [
       "Validation: |          | 0/? [00:00<?, ?it/s]"
      ]
     },
     "metadata": {},
     "output_type": "display_data"
    },
    {
     "data": {
      "application/vnd.jupyter.widget-view+json": {
       "model_id": "dc84e1c9ba19415b811de42dcefa9ec9",
       "version_major": 2,
       "version_minor": 0
      },
      "text/plain": [
       "Validation: |          | 0/? [00:00<?, ?it/s]"
      ]
     },
     "metadata": {},
     "output_type": "display_data"
    }
   ],
   "source": [
    "# This is the CNN AI model. It's created blank.\n",
    "cnn = CNN(output_length = output_length)\n",
    "\n",
    "# Here, we define the NN training function, which is then applied to the CNN.\n",
    "# The fit function returns a trained CNN.\n",
    "trainer = pl.Trainer(max_epochs=1000, callbacks=[EarlyStopping(monitor=\"train_loss\", mode=\"min\", patience=10)])\n",
    "trainer.fit(cnn)"
   ]
  },
  {
   "cell_type": "markdown",
   "metadata": {
    "id": "YLqHS-rNDIk0"
   },
   "source": [
    "**CNN training is now complete and it's time to review prediction accuracy**.\n",
    "\n",
    "* We use the trained CNN model and input training and test data to compare these two results.\n",
    "* You can follow the same syntax to check the MSE on the validation set."
   ]
  },
  {
   "cell_type": "code",
   "execution_count": 81,
   "metadata": {
    "colab": {
     "base_uri": "https://localhost:8080/"
    },
    "id": "2BaLjWZXcNSx",
    "outputId": "37096447-a0ab-4650-aef7-222661b3503f"
   },
   "outputs": [
    {
     "name": "stdout",
     "output_type": "stream",
     "text": [
      "Training loss: 0.08029989898204803\n"
     ]
    }
   ],
   "source": [
    "# Here we compute the MSE accuracy on the training set\n",
    "X_train = X_train.reshape(-1, 1, 29, 29)\n",
    "\n",
    "# Below we insert training set X and Y to obtained the MSE (loss).\n",
    "loss, _ = cnn(torch.Tensor(X_train), torch.Tensor(Y_train))\n",
    "print(f\"Training loss: {loss}\")"
   ]
  },
  {
   "cell_type": "code",
   "execution_count": 82,
   "metadata": {
    "colab": {
     "base_uri": "https://localhost:8080/"
    },
    "id": "ZT1r50yIwCUc",
    "outputId": "48559bde-dedc-4922-aa74-404e014a2dcc"
   },
   "outputs": [
    {
     "name": "stdout",
     "output_type": "stream",
     "text": [
      "Test loss 0.12792371213436127\n"
     ]
    }
   ],
   "source": [
    "# Here we compute the MSE accuracy on the test set\n",
    "X_test = torch.Tensor(X_test).reshape(-1, 29, 29).unsqueeze(1).float()\n",
    "Y_test = torch.Tensor(Y_test).float()\n",
    "\n",
    "# Below we insert test set X and Y to obtained the MSE (loss).\n",
    "loss, Y_pred = cnn(X_test, Y_test)\n",
    "print(f\"Test loss {loss}\")"
   ]
  },
  {
   "cell_type": "markdown",
   "metadata": {
    "id": "Er-GpqSrEG1K"
   },
   "source": [
    "* How does the test set MSE compare to the training set MSE?\n",
    "* Is this what you expect to find?\n",
    "\n",
    "Now, let's review the quality of HOMO predictions in a scatter plot. What do you observe?"
   ]
  },
  {
   "cell_type": "code",
   "execution_count": 83,
   "metadata": {
    "colab": {
     "base_uri": "https://localhost:8080/",
     "height": 470
    },
    "id": "DrTsiyuDBjap",
    "outputId": "5e1d3c6e-cb53-439d-aa12-72d8c6175fd5"
   },
   "outputs": [
    {
     "data": {
      "image/png": "[encoded data removed]",
      "text/plain": [
       "<Figure size 640x480 with 1 Axes>"
      ]
     },
     "metadata": {},
     "output_type": "display_data"
    }
   ],
   "source": [
    "import matplotlib.pyplot as plt\n",
    "%matplotlib inline\n",
    "\n",
    "y_pred = Y_pred.detach().numpy().flatten()\n",
    "y_test = Y_test.detach().numpy().flatten()\n",
    "\n",
    "plt.plot(y_test, y_pred, 'o')\n",
    "plt.plot([np.min(y_test),np.max(y_test)], [np.min(y_test),np.max(y_test)], '-')\n",
    "plt.xlabel(\"reference HOMO energy [eV]\")\n",
    "plt.ylabel(\"predicted HOMO energy [eV]\")\n",
    "plt.show()"
   ]
  },
  {
   "cell_type": "markdown",
   "metadata": {
    "id": "nhvA-0gp_G83"
   },
   "source": [
    "### 1.5 Predicting multiple HOMO energies\n",
    "\n",
    "Now that we have successfully trained a CNN to predict single energy levels, **let's repeat the process for several energy levels**. Here, `X` vector is the same, but we will define a new `Ym` (multi) label that predicts **3 levels at the same time (HOMO, HOMO-1, and HOMO-2)**."
   ]
  },
  {
   "cell_type": "code",
   "execution_count": 84,
   "metadata": {
    "id": "K_uEzDv8_PX7"
   },
   "outputs": [],
   "source": [
    "# Generate test/training/validation sets for y_multi\n",
    "Ym_train = y_multi[:n_train]\n",
    "Ym_test = y_multi[n_train:n_train + n_test]\n",
    "Ym_val = y_multi[n_train + n_test: n_train + n_test + n_val]"
   ]
  },
  {
   "cell_type": "markdown",
   "metadata": {
    "id": "lefGQh3oF8qM"
   },
   "source": [
    "Next, we define a new network called `CNN_multi`. We keep almost all the model exactly the same, but we insert `Ym` training and test data where `Y` used to be. The comments below indicate the changes."
   ]
  },
  {
   "cell_type": "code",
   "execution_count": 85,
   "metadata": {
    "id": "ORCTIpx8_Tzw"
   },
   "outputs": [],
   "source": [
    "class CNN_multi(pl.LightningModule):\n",
    "\n",
    "    # note the change in name\n",
    "    def __init__(self, output_length):\n",
    "        super(CNN_multi, self).__init__()\n",
    "\n",
    "        self.conv1_1 = nn.Conv2d(1, nConv, filter, padding=pad)\n",
    "        self.conv1_2 = nn.Conv2d(nConv, nConv, filter, padding=pad)\n",
    "        self.conv1_3 = nn.Conv2d(nConv, maxp, filter, padding=pad)\n",
    "        self.pool = nn.MaxPool2d(maxp,maxp)\n",
    "        self.fc1 = nn.Linear(maxp*7*7, output_length)\n",
    "\n",
    "    def forward(self, x, labels=None):\n",
    "\n",
    "        x = F.relu(self.conv1_1(x))\n",
    "        x = F.relu(self.conv1_2(x))\n",
    "        x = F.relu(self.conv1_3(x))\n",
    "        print(x.shape)\n",
    "        x = self.pool(x )\n",
    "        x = x.view(-1, 4*7*7)\n",
    "        outputs = self.fc1(x)\n",
    "\n",
    "        loss = 0\n",
    "        if labels is not None:\n",
    "            loss = nn.functional.mse_loss(outputs.squeeze(), labels.squeeze())\n",
    "        return loss, outputs\n",
    "\n",
    "    # Here we insert Ym training data\n",
    "    def train_dataloader(self):\n",
    "        dataset = SimpleDataset(X_train, Ym_train)\n",
    "        return DataLoader(dataset, batch_size=batch)\n",
    "\n",
    "    # Here we insert Ym validation data\n",
    "    def val_dataloader(self):\n",
    "        dataset = SimpleDataset(X_val, Ym_val)\n",
    "        return DataLoader(dataset, batch_size=batch, num_workers=1)\n",
    "\n",
    "    def training_step(self, batch, batch_idx):\n",
    "        coloumb_matrices = batch[\"X\"]\n",
    "        energies = batch[\"y\"]\n",
    "        loss, outputs = self(coloumb_matrices, labels=energies)\n",
    "        self.log(\"train_loss\", loss, prog_bar=True, on_step=False, on_epoch=True)\n",
    "        return loss\n",
    "\n",
    "    def validation_step(self, batch, batch_idx):\n",
    "        coloumb_matrices = batch[\"X\"]\n",
    "        energies = batch[\"y\"]\n",
    "        loss, outputs = self(coloumb_matrices, labels=energies)\n",
    "        self.log(\"val_loss\", loss, prog_bar=True, on_step=False, on_epoch=True)\n",
    "        return loss\n",
    "\n",
    "    def configure_optimizers(self):\n",
    "        optimizer = Adam(self.parameters(), lr=learning_rate)\n",
    "        return optimizer"
   ]
  },
  {
   "cell_type": "markdown",
   "metadata": {
    "id": "hlVisYSAGTWE"
   },
   "source": [
    "That was easy! Now it's time to use our new `CNN_multi`. We proceed in the same way as before, but now remember that the **length of the output vector is 3, for 3 energy levels**."
   ]
  },
  {
   "cell_type": "code",
   "execution_count": null,
   "metadata": {
    "colab": {
     "base_uri": "https://localhost:8080/",
     "height": 1000,
     "referenced_widgets": [
      "da19202d546040338698cd8021ad3d20",
      "1c3dfaa8b98843d497af9784791265d8",
      "42b6fae4b8014185b88755e6f96033cc",
      "d8a0ffdb4b924cf9a3c891ad79884c00",
      "026211534885481e84f15e964b50b721",
      "f9a4bc9e929e43c0b72483728b5fd580",
      "6474fef2f28e42f79b969f6da1c19325",
      "763dc665c5f649ce987aa6e32d0cb67f",
      "e9c592e268014cb48e718dd86ec85c92",
      "03d3aaf041934a3a909d95e52bf60470",
      "c8e459e020044afe92775692022c0f75",
      "fd98f467b9e54cb5a17857c8407e8ed5",
      "10a566efd6fa45728eff83ae2829e19d",
      "fbaaf71f2b0940299a8ac7ef09c1339b",
      "7a64bcb673124948914e268bd6f1e97a",
      "f592da6864df4478bf323d8b94a63478",
      "c744451ee27642e8a5808092a0984a00",
      "e4a9b6d66e9d4d289ff4170276f4ac0e",
      "4b85731ab57c4f42a33f9ecaa1194d29",
      "7399ba6d4eaf42efa924520a28732219",
      "72514c8dafb54895af899904d6790fe5",
      "12e8aa6cbf0e4abd85670658211fd210",
      "92216aaf90aa4dde9bd3f1719c7f447b",
      "f417a94d02e44ad383dfde329202c783",
      "fe7f7ea2f2d9406d921509e2242ea9a4",
      "f506b35860bb46798b7b9ff298b6d1ea",
      "1a9e25f901944aca80a760412be1805e",
      "e43c788feaf641ca9299d10c70529b00",
      "0a61be0d43794a48a69bcc2029e3a133",
      "0a5c69b869304a53b8f3d86a7afceedf",
      "cc20e816ea464f4d8f6683fc4709c306",
      "0c22a056569740548eb94f11d2003872",
      "bf81c3dd0445454788170bb117c44a2c",
      "0b96038bd21f406eae39bace3b3c4f64",
      "5d9432ac3ce14761ba208d8b98484d01",
      "0ae3535277634b56917f7903e67e8427",
      "4a82a102189c48b2989867f67e21ae86",
      "ab0edc8cb22b4209b7aa40ac948ef72d",
      "e01bb82a7c634c4b9d521138d9320130",
      "003a8948667b432c9628af7dbf496f9a",
      "a80599e4d05f4b728084ea8e737fb033",
      "427c6612d3c3406e901679db86c1a54e",
      "45ffb4066c054a629fd92b5a47204fea",
      "3886a0016f4443729db27055144e20b7",
      "7c30a5d2d64a404095e7a1472075c010",
      "88d74cd94ecd4f8f88361b838f7b1ea4",
      "834dca8f67b14866af51e564b033d870",
      "ede575ae6a6842a0a74010a13d1f1744",
      "bb9940b6a9204382a35df3eb0f2009fc",
      "66d65a1ea6b44abdaaef84fbadd9621e",
      "10fbfd9bb2f04e2385b7749a5b8dce6d",
      "ccba8ed94f46421a847ecf492fda9bf6",
      "c72e6f4291144c02ae19f9f514619576",
      "dcef895547634494aa43c289222047aa",
      "73639011529f46e9aadd3909f0969162",
      "a7c82b545ea941cf89e5d73a394634b3",
      "2042bc6d5099477f8cedf3e2aed3ffb5",
      "18985a6728ee408f9697635a149ac1d1",
      "5ae6232f22404d9db4b903f21365a737",
      "c1d5d603065546f38013d9dcb18509fa",
      "6bed05e93d6846f8aa08fe6aed63cebe",
      "e7bcfcdfde0741748237a3f462e707cb",
      "a33f9442b8924314a94814c1a092fc7a",
      "166732600df449b1846819c07b0083df",
      "d8a74f349dbe4f49bf98602029edc293",
      "dce673f369364b8c8ff156fbcae3256d",
      "e81f09fb5f4944a1acf2351282593794",
      "2ff92648053941678bb1735adae9fcbd",
      "3d9e07aa3a8a4ae4906686965b6c2f62",
      "a1d1f94f3c934e70b8d022ddff2125e2",
      "633b5e6b12a7463a9f26e60a62279d69",
      "6a0fb3c0a4504bb5a5a40d38e2ee1d87",
      "ba098a25c6484ff68794f42dfc5986de",
      "cc0eece1320b4abab71281da175114ee",
      "465ff3c5de1a4764914c05abe985baca",
      "75bc98e28417474d9c830bece56274b2",
      "ed1ea11f016648b2bdfea5de3502072d",
      "78fb634a86ce42799d1947d1476d3f37",
      "bc33054441024180afd3a7962b552cf6",
      "27bf7d08b8d24aa291adfb25e209164a",
      "19e87e7532d946dd8607ce2b67c49e56",
      "56b6084139144319822795a1b7dad34f",
      "10dccb827e084abfb6542de89fbd96d2",
      "4c57638349734cf29ce055df655fff7a",
      "8aaf784c7e1d4f159610468dafb94e3c",
      "39e6413f1731470797eb8f38fda3397b",
      "0788e664cdf0410195d7c21be903e50b",
      "35404cb39f354f27b10975729ce263a5"
     ]
    },
    "id": "m7AEMR2M_cMi",
    "outputId": "2b4a0512-ede6-42c3-9a79-ad89aa673483",
    "scrolled": true
   },
   "outputs": [
    {
     "name": "stderr",
     "output_type": "stream",
     "text": [
      "You are using the plain ModelCheckpoint callback. Consider using LitModelCheckpoint which with seamless uploading to Model registry.\n",
      "GPU available: True (cuda), used: True\n",
      "TPU available: False, using: 0 TPU cores\n",
      "HPU available: False, using: 0 HPUs\n",
      "LOCAL_RANK: 0 - CUDA_VISIBLE_DEVICES: [MIG-c4028e73-6a3b-5b22-945d-10a1dea408b7]\n",
      "\n",
      "  | Name    | Type      | Params | Mode \n",
      "----------------------------------------------\n",
      "0 | conv1_1 | Conv2d    | 200    | train\n",
      "1 | conv1_2 | Conv2d    | 3.6 K  | train\n",
      "2 | conv1_3 | Conv2d    | 724    | train\n",
      "3 | pool    | MaxPool2d | 0      | train\n",
      "4 | fc1     | Linear    | 591    | train\n",
      "----------------------------------------------\n",
      "5.1 K     Trainable params\n",
      "0         Non-trainable params\n",
      "5.1 K     Total params\n",
      "0.021     Total estimated model params size (MB)\n",
      "5         Modules in train mode\n",
      "0         Modules in eval mode\n"
     ]
    },
    {
     "data": {
      "application/vnd.jupyter.widget-view+json": {
       "model_id": "0ae3d6d2acbe4199b1f5e10bdd18c2fa",
       "version_major": 2,
       "version_minor": 0
      },
      "text/plain": [
       "Sanity Checking: |          | 0/? [00:00<?, ?it/s]"
      ]
     },
     "metadata": {},
     "output_type": "display_data"
    },
    {
     "name": "stdout",
     "output_type": "stream",
     "text": [
      "torch.Size([500, 1, 29, 29])\n",
      "torch.Size([64, 4, 29, 29])\n",
      "torch.Size([64, 4, 29, 29])\n",
      "torch.Size([6000, 1, 29, 29])\n"
     ]
    },
    {
     "data": {
      "application/vnd.jupyter.widget-view+json": {
       "model_id": "55cf2f0cd21f4f2385d0e9cb432d78bc",
       "version_major": 2,
       "version_minor": 0
      },
      "text/plain": [
       "Training: |          | 0/? [00:00<?, ?it/s]"
      ]
     },
     "metadata": {},
     "output_type": "display_data"
    },
    {
     "name": "stdout",
     "output_type": "stream",
     "text": [
      "torch.Size([64, 4, 29, 29])\n",
      "torch.Size([64, 4, 29, 29])\n",
      "torch.Size([64, 4, 29, 29])\n",
      "torch.Size([64, 4, 29, 29])\n",
      "torch.Size([64, 4, 29, 29])\n",
      "torch.Size([64, 4, 29, 29])\n",
      "torch.Size([64, 4, 29, 29])\n",
      "torch.Size([64, 4, 29, 29])\n",
      "torch.Size([64, 4, 29, 29])\n",
      "torch.Size([64, 4, 29, 29])\n",
      "torch.Size([64, 4, 29, 29])\n",
      "torch.Size([64, 4, 29, 29])\n",
      "torch.Size([64, 4, 29, 29])\n",
      "torch.Size([64, 4, 29, 29])\n",
      "torch.Size([64, 4, 29, 29])\n",
      "torch.Size([64, 4, 29, 29])\n",
      "torch.Size([64, 4, 29, 29])\n",
      "torch.Size([64, 4, 29, 29])\n",
      "torch.Size([64, 4, 29, 29])\n",
      "torch.Size([64, 4, 29, 29])\n",
      "torch.Size([64, 4, 29, 29])\n",
      "torch.Size([64, 4, 29, 29])\n",
      "torch.Size([64, 4, 29, 29])\n",
      "torch.Size([64, 4, 29, 29])\n",
      "torch.Size([64, 4, 29, 29])\n",
      "torch.Size([64, 4, 29, 29])\n",
      "torch.Size([64, 4, 29, 29])\n",
      "torch.Size([64, 4, 29, 29])\n",
      "torch.Size([64, 4, 29, 29])\n",
      "torch.Size([64, 4, 29, 29])\n",
      "torch.Size([64, 4, 29, 29])\n",
      "torch.Size([64, 4, 29, 29])\n",
      "torch.Size([64, 4, 29, 29])\n",
      "torch.Size([64, 4, 29, 29])\n",
      "torch.Size([64, 4, 29, 29])\n",
      "torch.Size([64, 4, 29, 29])\n",
      "torch.Size([64, 4, 29, 29])\n",
      "torch.Size([64, 4, 29, 29])\n",
      "torch.Size([64, 4, 29, 29])\n",
      "torch.Size([64, 4, 29, 29])\n",
      "torch.Size([64, 4, 29, 29])\n",
      "torch.Size([64, 4, 29, 29])\n",
      "torch.Size([64, 4, 29, 29])\n",
      "torch.Size([64, 4, 29, 29])\n",
      "torch.Size([64, 4, 29, 29])\n",
      "torch.Size([64, 4, 29, 29])\n",
      "torch.Size([64, 4, 29, 29])\n",
      "torch.Size([64, 4, 29, 29])\n",
      "torch.Size([64, 4, 29, 29])\n",
      "torch.Size([64, 4, 29, 29])\n",
      "torch.Size([64, 4, 29, 29])\n",
      "torch.Size([64, 4, 29, 29])\n",
      "torch.Size([64, 4, 29, 29])\n",
      "torch.Size([64, 4, 29, 29])\n",
      "torch.Size([64, 4, 29, 29])\n",
      "torch.Size([64, 4, 29, 29])\n",
      "torch.Size([64, 4, 29, 29])\n",
      "torch.Size([64, 4, 29, 29])\n",
      "torch.Size([64, 4, 29, 29])\n",
      "torch.Size([64, 4, 29, 29])\n",
      "torch.Size([64, 4, 29, 29])\n",
      "torch.Size([64, 4, 29, 29])\n",
      "torch.Size([64, 4, 29, 29])\n",
      "torch.Size([64, 4, 29, 29])\n",
      "torch.Size([64, 4, 29, 29])\n",
      "torch.Size([64, 4, 29, 29])\n",
      "torch.Size([64, 4, 29, 29])\n",
      "torch.Size([64, 4, 29, 29])\n",
      "torch.Size([64, 4, 29, 29])\n",
      "torch.Size([64, 4, 29, 29])\n",
      "torch.Size([64, 4, 29, 29])\n",
      "torch.Size([64, 4, 29, 29])\n",
      "torch.Size([64, 4, 29, 29])\n",
      "torch.Size([64, 4, 29, 29])\n",
      "torch.Size([64, 4, 29, 29])\n",
      "torch.Size([64, 4, 29, 29])\n",
      "torch.Size([64, 4, 29, 29])\n",
      "torch.Size([64, 4, 29, 29])\n",
      "torch.Size([64, 4, 29, 29])\n",
      "torch.Size([64, 4, 29, 29])\n",
      "torch.Size([64, 4, 29, 29])\n",
      "torch.Size([64, 4, 29, 29])\n",
      "torch.Size([64, 4, 29, 29])\n",
      "torch.Size([64, 4, 29, 29])\n",
      "torch.Size([64, 4, 29, 29])\n",
      "torch.Size([64, 4, 29, 29])\n",
      "torch.Size([64, 4, 29, 29])\n",
      "torch.Size([64, 4, 29, 29])\n",
      "torch.Size([64, 4, 29, 29])\n",
      "torch.Size([64, 4, 29, 29])\n",
      "torch.Size([64, 4, 29, 29])\n",
      "torch.Size([64, 4, 29, 29])\n",
      "torch.Size([64, 4, 29, 29])\n",
      "torch.Size([48, 4, 29, 29])\n"
     ]
    },
    {
     "data": {
      "application/vnd.jupyter.widget-view+json": {
       "model_id": "45b22a98670f4f57a84f9ed66afa8ef9",
       "version_major": 2,
       "version_minor": 0
      },
      "text/plain": [
       "Validation: |          | 0/? [00:00<?, ?it/s]"
      ]
     },
     "metadata": {},
     "output_type": "display_data"
    },
    {
     "name": "stdout",
     "output_type": "stream",
     "text": [
      "torch.Size([64, 4, 29, 29])\n",
      "torch.Size([64, 4, 29, 29])\n",
      "torch.Size([64, 4, 29, 29])\n",
      "torch.Size([64, 4, 29, 29])\n",
      "torch.Size([64, 4, 29, 29])\n",
      "torch.Size([64, 4, 29, 29])\n",
      "torch.Size([64, 4, 29, 29])\n",
      "torch.Size([52, 4, 29, 29])\n",
      "torch.Size([64, 4, 29, 29])\n",
      "torch.Size([64, 4, 29, 29])\n",
      "torch.Size([64, 4, 29, 29])\n",
      "torch.Size([64, 4, 29, 29])\n",
      "torch.Size([64, 4, 29, 29])\n",
      "torch.Size([64, 4, 29, 29])\n",
      "torch.Size([64, 4, 29, 29])\n",
      "torch.Size([64, 4, 29, 29])\n",
      "torch.Size([64, 4, 29, 29])\n",
      "torch.Size([64, 4, 29, 29])\n",
      "torch.Size([64, 4, 29, 29])\n",
      "torch.Size([64, 4, 29, 29])\n",
      "torch.Size([64, 4, 29, 29])\n",
      "torch.Size([64, 4, 29, 29])\n",
      "torch.Size([64, 4, 29, 29])\n",
      "torch.Size([64, 4, 29, 29])\n",
      "torch.Size([64, 4, 29, 29])\n",
      "torch.Size([64, 4, 29, 29])\n",
      "torch.Size([64, 4, 29, 29])\n",
      "torch.Size([64, 4, 29, 29])\n",
      "torch.Size([64, 4, 29, 29])\n",
      "torch.Size([64, 4, 29, 29])\n",
      "torch.Size([64, 4, 29, 29])\n",
      "torch.Size([64, 4, 29, 29])\n",
      "torch.Size([64, 4, 29, 29])\n",
      "torch.Size([64, 4, 29, 29])\n",
      "torch.Size([64, 4, 29, 29])\n",
      "torch.Size([64, 4, 29, 29])\n",
      "torch.Size([64, 4, 29, 29])\n",
      "torch.Size([64, 4, 29, 29])\n",
      "torch.Size([64, 4, 29, 29])\n",
      "torch.Size([64, 4, 29, 29])\n",
      "torch.Size([64, 4, 29, 29])\n",
      "torch.Size([64, 4, 29, 29])\n",
      "torch.Size([64, 4, 29, 29])\n",
      "torch.Size([64, 4, 29, 29])\n",
      "torch.Size([64, 4, 29, 29])\n",
      "torch.Size([64, 4, 29, 29])\n",
      "torch.Size([64, 4, 29, 29])\n",
      "torch.Size([64, 4, 29, 29])\n",
      "torch.Size([64, 4, 29, 29])\n",
      "torch.Size([64, 4, 29, 29])\n",
      "torch.Size([64, 4, 29, 29])\n",
      "torch.Size([64, 4, 29, 29])\n",
      "torch.Size([64, 4, 29, 29])\n",
      "torch.Size([64, 4, 29, 29])\n",
      "torch.Size([64, 4, 29, 29])\n",
      "torch.Size([64, 4, 29, 29])\n",
      "torch.Size([64, 4, 29, 29])\n",
      "torch.Size([64, 4, 29, 29])\n",
      "torch.Size([64, 4, 29, 29])\n",
      "torch.Size([64, 4, 29, 29])\n",
      "torch.Size([64, 4, 29, 29])\n",
      "torch.Size([64, 4, 29, 29])\n",
      "torch.Size([64, 4, 29, 29])\n",
      "torch.Size([64, 4, 29, 29])\n",
      "torch.Size([64, 4, 29, 29])\n",
      "torch.Size([64, 4, 29, 29])\n",
      "torch.Size([64, 4, 29, 29])\n",
      "torch.Size([64, 4, 29, 29])\n",
      "torch.Size([64, 4, 29, 29])\n",
      "torch.Size([64, 4, 29, 29])\n",
      "torch.Size([64, 4, 29, 29])\n",
      "torch.Size([64, 4, 29, 29])\n",
      "torch.Size([64, 4, 29, 29])\n",
      "torch.Size([64, 4, 29, 29])\n",
      "torch.Size([64, 4, 29, 29])\n",
      "torch.Size([64, 4, 29, 29])\n",
      "torch.Size([64, 4, 29, 29])\n",
      "torch.Size([64, 4, 29, 29])\n",
      "torch.Size([64, 4, 29, 29])\n",
      "torch.Size([64, 4, 29, 29])\n",
      "torch.Size([64, 4, 29, 29])\n",
      "torch.Size([64, 4, 29, 29])\n",
      "torch.Size([64, 4, 29, 29])\n",
      "torch.Size([64, 4, 29, 29])\n",
      "torch.Size([64, 4, 29, 29])\n",
      "torch.Size([64, 4, 29, 29])\n",
      "torch.Size([64, 4, 29, 29])\n",
      "torch.Size([64, 4, 29, 29])\n",
      "torch.Size([64, 4, 29, 29])\n",
      "torch.Size([64, 4, 29, 29])\n",
      "torch.Size([64, 4, 29, 29])\n",
      "torch.Size([64, 4, 29, 29])\n",
      "torch.Size([64, 4, 29, 29])\n",
      "torch.Size([64, 4, 29, 29])\n",
      "torch.Size([64, 4, 29, 29])\n",
      "torch.Size([64, 4, 29, 29])\n",
      "torch.Size([64, 4, 29, 29])\n",
      "torch.Size([64, 4, 29, 29])\n",
      "torch.Size([64, 4, 29, 29])\n",
      "torch.Size([64, 4, 29, 29])\n",
      "torch.Size([64, 4, 29, 29])\n",
      "torch.Size([48, 4, 29, 29])\n"
     ]
    },
    {
     "data": {
      "application/vnd.jupyter.widget-view+json": {
       "model_id": "3027008eecec4fa0a0df28961e48da63",
       "version_major": 2,
       "version_minor": 0
      },
      "text/plain": [
       "Validation: |          | 0/? [00:00<?, ?it/s]"
      ]
     },
     "metadata": {},
     "output_type": "display_data"
    },
    {
     "name": "stdout",
     "output_type": "stream",
     "text": [
      "torch.Size([64, 4, 29, 29])\n",
      "torch.Size([64, 4, 29, 29])\n",
      "torch.Size([64, 4, 29, 29])\n",
      "torch.Size([64, 4, 29, 29])\n",
      "torch.Size([64, 4, 29, 29])\n",
      "torch.Size([64, 4, 29, 29])\n",
      "torch.Size([64, 4, 29, 29])\n",
      "torch.Size([52, 4, 29, 29])\n",
      "torch.Size([64, 4, 29, 29])\n",
      "torch.Size([64, 4, 29, 29])\n",
      "torch.Size([64, 4, 29, 29])\n",
      "torch.Size([64, 4, 29, 29])\n",
      "torch.Size([64, 4, 29, 29])\n",
      "torch.Size([64, 4, 29, 29])\n",
      "torch.Size([64, 4, 29, 29])\n",
      "torch.Size([64, 4, 29, 29])\n",
      "torch.Size([64, 4, 29, 29])\n",
      "torch.Size([64, 4, 29, 29])\n",
      "torch.Size([64, 4, 29, 29])\n",
      "torch.Size([64, 4, 29, 29])\n",
      "torch.Size([64, 4, 29, 29])\n",
      "torch.Size([64, 4, 29, 29])\n",
      "torch.Size([64, 4, 29, 29])\n",
      "torch.Size([64, 4, 29, 29])\n",
      "torch.Size([64, 4, 29, 29])\n",
      "torch.Size([64, 4, 29, 29])\n",
      "torch.Size([64, 4, 29, 29])\n",
      "torch.Size([64, 4, 29, 29])\n",
      "torch.Size([64, 4, 29, 29])\n",
      "torch.Size([64, 4, 29, 29])\n",
      "torch.Size([64, 4, 29, 29])\n",
      "torch.Size([64, 4, 29, 29])\n",
      "torch.Size([64, 4, 29, 29])\n",
      "torch.Size([64, 4, 29, 29])\n",
      "torch.Size([64, 4, 29, 29])\n",
      "torch.Size([64, 4, 29, 29])\n",
      "torch.Size([64, 4, 29, 29])\n",
      "torch.Size([64, 4, 29, 29])\n",
      "torch.Size([64, 4, 29, 29])\n",
      "torch.Size([64, 4, 29, 29])\n",
      "torch.Size([64, 4, 29, 29])\n",
      "torch.Size([64, 4, 29, 29])\n",
      "torch.Size([64, 4, 29, 29])\n",
      "torch.Size([64, 4, 29, 29])\n",
      "torch.Size([64, 4, 29, 29])\n",
      "torch.Size([64, 4, 29, 29])\n",
      "torch.Size([64, 4, 29, 29])\n",
      "torch.Size([64, 4, 29, 29])\n",
      "torch.Size([64, 4, 29, 29])\n",
      "torch.Size([64, 4, 29, 29])\n",
      "torch.Size([64, 4, 29, 29])\n",
      "torch.Size([64, 4, 29, 29])\n",
      "torch.Size([64, 4, 29, 29])\n",
      "torch.Size([64, 4, 29, 29])\n",
      "torch.Size([64, 4, 29, 29])\n",
      "torch.Size([64, 4, 29, 29])\n",
      "torch.Size([64, 4, 29, 29])\n",
      "torch.Size([64, 4, 29, 29])\n",
      "torch.Size([64, 4, 29, 29])\n",
      "torch.Size([64, 4, 29, 29])\n",
      "torch.Size([64, 4, 29, 29])\n",
      "torch.Size([64, 4, 29, 29])\n",
      "torch.Size([64, 4, 29, 29])\n",
      "torch.Size([64, 4, 29, 29])\n",
      "torch.Size([64, 4, 29, 29])\n",
      "torch.Size([64, 4, 29, 29])\n",
      "torch.Size([64, 4, 29, 29])\n",
      "torch.Size([64, 4, 29, 29])\n",
      "torch.Size([64, 4, 29, 29])\n",
      "torch.Size([64, 4, 29, 29])\n",
      "torch.Size([64, 4, 29, 29])\n",
      "torch.Size([64, 4, 29, 29])\n",
      "torch.Size([64, 4, 29, 29])\n",
      "torch.Size([64, 4, 29, 29])\n",
      "torch.Size([64, 4, 29, 29])\n",
      "torch.Size([64, 4, 29, 29])\n",
      "torch.Size([64, 4, 29, 29])\n",
      "torch.Size([64, 4, 29, 29])\n",
      "torch.Size([64, 4, 29, 29])\n",
      "torch.Size([64, 4, 29, 29])\n",
      "torch.Size([64, 4, 29, 29])\n",
      "torch.Size([64, 4, 29, 29])\n",
      "torch.Size([64, 4, 29, 29])\n",
      "torch.Size([64, 4, 29, 29])\n",
      "torch.Size([64, 4, 29, 29])\n",
      "torch.Size([64, 4, 29, 29])\n",
      "torch.Size([64, 4, 29, 29])\n",
      "torch.Size([64, 4, 29, 29])\n",
      "torch.Size([64, 4, 29, 29])\n",
      "torch.Size([64, 4, 29, 29])\n",
      "torch.Size([64, 4, 29, 29])\n",
      "torch.Size([64, 4, 29, 29])\n",
      "torch.Size([64, 4, 29, 29])\n",
      "torch.Size([64, 4, 29, 29])\n",
      "torch.Size([64, 4, 29, 29])\n",
      "torch.Size([64, 4, 29, 29])\n",
      "torch.Size([64, 4, 29, 29])\n",
      "torch.Size([64, 4, 29, 29])\n",
      "torch.Size([64, 4, 29, 29])\n",
      "torch.Size([64, 4, 29, 29])\n",
      "torch.Size([64, 4, 29, 29])\n",
      "torch.Size([48, 4, 29, 29])\n"
     ]
    },
    {
     "data": {
      "application/vnd.jupyter.widget-view+json": {
       "model_id": "402fea6148ac4b6fbd2e9a1a8d7eeaff",
       "version_major": 2,
       "version_minor": 0
      },
      "text/plain": [
       "Validation: |          | 0/? [00:00<?, ?it/s]"
      ]
     },
     "metadata": {},
     "output_type": "display_data"
    },
    {
     "name": "stdout",
     "output_type": "stream",
     "text": [
      "torch.Size([64, 4, 29, 29])\n",
      "torch.Size([64, 4, 29, 29])\n",
      "torch.Size([64, 4, 29, 29])\n",
      "torch.Size([64, 4, 29, 29])\n",
      "torch.Size([64, 4, 29, 29])\n",
      "torch.Size([64, 4, 29, 29])\n",
      "torch.Size([64, 4, 29, 29])\n",
      "torch.Size([52, 4, 29, 29])\n",
      "torch.Size([64, 4, 29, 29])\n",
      "torch.Size([64, 4, 29, 29])\n",
      "torch.Size([64, 4, 29, 29])\n",
      "torch.Size([64, 4, 29, 29])\n",
      "torch.Size([64, 4, 29, 29])\n",
      "torch.Size([64, 4, 29, 29])\n",
      "torch.Size([64, 4, 29, 29])\n",
      "torch.Size([64, 4, 29, 29])\n",
      "torch.Size([64, 4, 29, 29])\n",
      "torch.Size([64, 4, 29, 29])\n",
      "torch.Size([64, 4, 29, 29])\n",
      "torch.Size([64, 4, 29, 29])\n",
      "torch.Size([64, 4, 29, 29])\n",
      "torch.Size([64, 4, 29, 29])\n",
      "torch.Size([64, 4, 29, 29])\n",
      "torch.Size([64, 4, 29, 29])\n",
      "torch.Size([64, 4, 29, 29])\n",
      "torch.Size([64, 4, 29, 29])\n",
      "torch.Size([64, 4, 29, 29])\n",
      "torch.Size([64, 4, 29, 29])\n",
      "torch.Size([64, 4, 29, 29])\n",
      "torch.Size([64, 4, 29, 29])\n",
      "torch.Size([64, 4, 29, 29])\n",
      "torch.Size([64, 4, 29, 29])\n",
      "torch.Size([64, 4, 29, 29])\n",
      "torch.Size([64, 4, 29, 29])\n",
      "torch.Size([64, 4, 29, 29])\n",
      "torch.Size([64, 4, 29, 29])\n",
      "torch.Size([64, 4, 29, 29])\n",
      "torch.Size([64, 4, 29, 29])\n",
      "torch.Size([64, 4, 29, 29])\n",
      "torch.Size([64, 4, 29, 29])\n",
      "torch.Size([64, 4, 29, 29])\n",
      "torch.Size([64, 4, 29, 29])\n",
      "torch.Size([64, 4, 29, 29])\n",
      "torch.Size([64, 4, 29, 29])\n",
      "torch.Size([64, 4, 29, 29])\n",
      "torch.Size([64, 4, 29, 29])\n",
      "torch.Size([64, 4, 29, 29])\n",
      "torch.Size([64, 4, 29, 29])\n",
      "torch.Size([64, 4, 29, 29])\n",
      "torch.Size([64, 4, 29, 29])\n",
      "torch.Size([64, 4, 29, 29])\n",
      "torch.Size([64, 4, 29, 29])\n",
      "torch.Size([64, 4, 29, 29])\n",
      "torch.Size([64, 4, 29, 29])\n",
      "torch.Size([64, 4, 29, 29])\n",
      "torch.Size([64, 4, 29, 29])\n",
      "torch.Size([64, 4, 29, 29])\n",
      "torch.Size([64, 4, 29, 29])\n",
      "torch.Size([64, 4, 29, 29])\n",
      "torch.Size([64, 4, 29, 29])\n",
      "torch.Size([64, 4, 29, 29])\n",
      "torch.Size([64, 4, 29, 29])\n",
      "torch.Size([64, 4, 29, 29])\n",
      "torch.Size([64, 4, 29, 29])\n",
      "torch.Size([64, 4, 29, 29])\n",
      "torch.Size([64, 4, 29, 29])\n",
      "torch.Size([64, 4, 29, 29])\n",
      "torch.Size([64, 4, 29, 29])\n",
      "torch.Size([64, 4, 29, 29])\n",
      "torch.Size([64, 4, 29, 29])\n",
      "torch.Size([64, 4, 29, 29])\n",
      "torch.Size([64, 4, 29, 29])\n",
      "torch.Size([64, 4, 29, 29])\n",
      "torch.Size([64, 4, 29, 29])\n",
      "torch.Size([64, 4, 29, 29])\n",
      "torch.Size([64, 4, 29, 29])\n",
      "torch.Size([64, 4, 29, 29])\n",
      "torch.Size([64, 4, 29, 29])\n",
      "torch.Size([64, 4, 29, 29])\n",
      "torch.Size([64, 4, 29, 29])\n",
      "torch.Size([64, 4, 29, 29])\n",
      "torch.Size([64, 4, 29, 29])\n",
      "torch.Size([64, 4, 29, 29])\n",
      "torch.Size([64, 4, 29, 29])\n",
      "torch.Size([64, 4, 29, 29])\n",
      "torch.Size([64, 4, 29, 29])\n",
      "torch.Size([64, 4, 29, 29])\n",
      "torch.Size([64, 4, 29, 29])\n",
      "torch.Size([64, 4, 29, 29])\n",
      "torch.Size([64, 4, 29, 29])\n",
      "torch.Size([64, 4, 29, 29])\n",
      "torch.Size([64, 4, 29, 29])\n",
      "torch.Size([64, 4, 29, 29])\n",
      "torch.Size([64, 4, 29, 29])\n",
      "torch.Size([64, 4, 29, 29])\n",
      "torch.Size([64, 4, 29, 29])\n",
      "torch.Size([64, 4, 29, 29])\n",
      "torch.Size([64, 4, 29, 29])\n",
      "torch.Size([64, 4, 29, 29])\n",
      "torch.Size([64, 4, 29, 29])\n",
      "torch.Size([64, 4, 29, 29])\n",
      "torch.Size([48, 4, 29, 29])\n"
     ]
    },
    {
     "data": {
      "application/vnd.jupyter.widget-view+json": {
       "model_id": "0c2160c5f8be42329e67ff0a10a84626",
       "version_major": 2,
       "version_minor": 0
      },
      "text/plain": [
       "Validation: |          | 0/? [00:00<?, ?it/s]"
      ]
     },
     "metadata": {},
     "output_type": "display_data"
    },
    {
     "name": "stdout",
     "output_type": "stream",
     "text": [
      "torch.Size([64, 4, 29, 29])\n",
      "torch.Size([64, 4, 29, 29])\n",
      "torch.Size([64, 4, 29, 29])\n",
      "torch.Size([64, 4, 29, 29])\n",
      "torch.Size([64, 4, 29, 29])\n",
      "torch.Size([64, 4, 29, 29])\n",
      "torch.Size([64, 4, 29, 29])\n",
      "torch.Size([52, 4, 29, 29])\n",
      "torch.Size([64, 4, 29, 29])\n",
      "torch.Size([64, 4, 29, 29])\n",
      "torch.Size([64, 4, 29, 29])\n",
      "torch.Size([64, 4, 29, 29])\n",
      "torch.Size([64, 4, 29, 29])\n",
      "torch.Size([64, 4, 29, 29])\n",
      "torch.Size([64, 4, 29, 29])\n",
      "torch.Size([64, 4, 29, 29])\n",
      "torch.Size([64, 4, 29, 29])\n",
      "torch.Size([64, 4, 29, 29])\n",
      "torch.Size([64, 4, 29, 29])\n",
      "torch.Size([64, 4, 29, 29])\n",
      "torch.Size([64, 4, 29, 29])\n",
      "torch.Size([64, 4, 29, 29])\n",
      "torch.Size([64, 4, 29, 29])\n",
      "torch.Size([64, 4, 29, 29])\n",
      "torch.Size([64, 4, 29, 29])\n",
      "torch.Size([64, 4, 29, 29])\n",
      "torch.Size([64, 4, 29, 29])\n",
      "torch.Size([64, 4, 29, 29])\n",
      "torch.Size([64, 4, 29, 29])\n",
      "torch.Size([64, 4, 29, 29])\n",
      "torch.Size([64, 4, 29, 29])\n",
      "torch.Size([64, 4, 29, 29])\n",
      "torch.Size([64, 4, 29, 29])\n",
      "torch.Size([64, 4, 29, 29])\n",
      "torch.Size([64, 4, 29, 29])\n",
      "torch.Size([64, 4, 29, 29])\n",
      "torch.Size([64, 4, 29, 29])\n",
      "torch.Size([64, 4, 29, 29])\n",
      "torch.Size([64, 4, 29, 29])\n",
      "torch.Size([64, 4, 29, 29])\n",
      "torch.Size([64, 4, 29, 29])\n",
      "torch.Size([64, 4, 29, 29])\n",
      "torch.Size([64, 4, 29, 29])\n",
      "torch.Size([64, 4, 29, 29])\n",
      "torch.Size([64, 4, 29, 29])\n",
      "torch.Size([64, 4, 29, 29])\n",
      "torch.Size([64, 4, 29, 29])\n",
      "torch.Size([64, 4, 29, 29])\n",
      "torch.Size([64, 4, 29, 29])\n",
      "torch.Size([64, 4, 29, 29])\n",
      "torch.Size([64, 4, 29, 29])\n",
      "torch.Size([64, 4, 29, 29])\n",
      "torch.Size([64, 4, 29, 29])\n",
      "torch.Size([64, 4, 29, 29])\n",
      "torch.Size([64, 4, 29, 29])\n",
      "torch.Size([64, 4, 29, 29])\n",
      "torch.Size([64, 4, 29, 29])\n",
      "torch.Size([64, 4, 29, 29])\n",
      "torch.Size([64, 4, 29, 29])\n",
      "torch.Size([64, 4, 29, 29])\n",
      "torch.Size([64, 4, 29, 29])\n",
      "torch.Size([64, 4, 29, 29])\n",
      "torch.Size([64, 4, 29, 29])\n",
      "torch.Size([64, 4, 29, 29])\n",
      "torch.Size([64, 4, 29, 29])\n",
      "torch.Size([64, 4, 29, 29])\n",
      "torch.Size([64, 4, 29, 29])\n",
      "torch.Size([64, 4, 29, 29])\n",
      "torch.Size([64, 4, 29, 29])\n",
      "torch.Size([64, 4, 29, 29])\n",
      "torch.Size([64, 4, 29, 29])\n",
      "torch.Size([64, 4, 29, 29])\n",
      "torch.Size([64, 4, 29, 29])\n",
      "torch.Size([64, 4, 29, 29])\n",
      "torch.Size([64, 4, 29, 29])\n",
      "torch.Size([64, 4, 29, 29])\n",
      "torch.Size([64, 4, 29, 29])\n",
      "torch.Size([64, 4, 29, 29])\n",
      "torch.Size([64, 4, 29, 29])\n",
      "torch.Size([64, 4, 29, 29])\n",
      "torch.Size([64, 4, 29, 29])\n",
      "torch.Size([64, 4, 29, 29])\n",
      "torch.Size([64, 4, 29, 29])\n",
      "torch.Size([64, 4, 29, 29])\n",
      "torch.Size([64, 4, 29, 29])\n",
      "torch.Size([64, 4, 29, 29])\n",
      "torch.Size([64, 4, 29, 29])\n",
      "torch.Size([64, 4, 29, 29])\n",
      "torch.Size([64, 4, 29, 29])\n",
      "torch.Size([64, 4, 29, 29])\n",
      "torch.Size([64, 4, 29, 29])\n",
      "torch.Size([64, 4, 29, 29])\n",
      "torch.Size([64, 4, 29, 29])\n",
      "torch.Size([64, 4, 29, 29])\n",
      "torch.Size([64, 4, 29, 29])\n",
      "torch.Size([64, 4, 29, 29])\n",
      "torch.Size([64, 4, 29, 29])\n",
      "torch.Size([64, 4, 29, 29])\n",
      "torch.Size([64, 4, 29, 29])\n",
      "torch.Size([64, 4, 29, 29])\n",
      "torch.Size([64, 4, 29, 29])\n",
      "torch.Size([48, 4, 29, 29])\n"
     ]
    },
    {
     "data": {
      "application/vnd.jupyter.widget-view+json": {
       "model_id": "0d8a940abbe440708db5c0c2abc5177d",
       "version_major": 2,
       "version_minor": 0
      },
      "text/plain": [
       "Validation: |          | 0/? [00:00<?, ?it/s]"
      ]
     },
     "metadata": {},
     "output_type": "display_data"
    },
    {
     "name": "stdout",
     "output_type": "stream",
     "text": [
      "torch.Size([64, 4, 29, 29])\n",
      "torch.Size([64, 4, 29, 29])\n",
      "torch.Size([64, 4, 29, 29])\n",
      "torch.Size([64, 4, 29, 29])\n",
      "torch.Size([64, 4, 29, 29])\n",
      "torch.Size([64, 4, 29, 29])\n",
      "torch.Size([64, 4, 29, 29])\n",
      "torch.Size([52, 4, 29, 29])\n",
      "torch.Size([64, 4, 29, 29])\n",
      "torch.Size([64, 4, 29, 29])\n",
      "torch.Size([64, 4, 29, 29])\n",
      "torch.Size([64, 4, 29, 29])\n",
      "torch.Size([64, 4, 29, 29])\n",
      "torch.Size([64, 4, 29, 29])\n",
      "torch.Size([64, 4, 29, 29])\n",
      "torch.Size([64, 4, 29, 29])\n",
      "torch.Size([64, 4, 29, 29])\n",
      "torch.Size([64, 4, 29, 29])\n",
      "torch.Size([64, 4, 29, 29])\n",
      "torch.Size([64, 4, 29, 29])\n",
      "torch.Size([64, 4, 29, 29])\n",
      "torch.Size([64, 4, 29, 29])\n",
      "torch.Size([64, 4, 29, 29])\n",
      "torch.Size([64, 4, 29, 29])\n",
      "torch.Size([64, 4, 29, 29])\n",
      "torch.Size([64, 4, 29, 29])\n",
      "torch.Size([64, 4, 29, 29])\n",
      "torch.Size([64, 4, 29, 29])\n",
      "torch.Size([64, 4, 29, 29])\n",
      "torch.Size([64, 4, 29, 29])\n",
      "torch.Size([64, 4, 29, 29])\n",
      "torch.Size([64, 4, 29, 29])\n",
      "torch.Size([64, 4, 29, 29])\n",
      "torch.Size([64, 4, 29, 29])\n",
      "torch.Size([64, 4, 29, 29])\n",
      "torch.Size([64, 4, 29, 29])\n",
      "torch.Size([64, 4, 29, 29])\n",
      "torch.Size([64, 4, 29, 29])\n",
      "torch.Size([64, 4, 29, 29])\n",
      "torch.Size([64, 4, 29, 29])\n",
      "torch.Size([64, 4, 29, 29])\n",
      "torch.Size([64, 4, 29, 29])\n",
      "torch.Size([64, 4, 29, 29])\n",
      "torch.Size([64, 4, 29, 29])\n",
      "torch.Size([64, 4, 29, 29])\n",
      "torch.Size([64, 4, 29, 29])\n",
      "torch.Size([64, 4, 29, 29])\n",
      "torch.Size([64, 4, 29, 29])\n",
      "torch.Size([64, 4, 29, 29])\n",
      "torch.Size([64, 4, 29, 29])\n",
      "torch.Size([64, 4, 29, 29])\n",
      "torch.Size([64, 4, 29, 29])\n",
      "torch.Size([64, 4, 29, 29])\n",
      "torch.Size([64, 4, 29, 29])\n",
      "torch.Size([64, 4, 29, 29])\n",
      "torch.Size([64, 4, 29, 29])\n",
      "torch.Size([64, 4, 29, 29])\n",
      "torch.Size([64, 4, 29, 29])\n",
      "torch.Size([64, 4, 29, 29])\n",
      "torch.Size([64, 4, 29, 29])\n",
      "torch.Size([64, 4, 29, 29])\n",
      "torch.Size([64, 4, 29, 29])\n",
      "torch.Size([64, 4, 29, 29])\n",
      "torch.Size([64, 4, 29, 29])\n",
      "torch.Size([64, 4, 29, 29])\n",
      "torch.Size([64, 4, 29, 29])\n",
      "torch.Size([64, 4, 29, 29])\n",
      "torch.Size([64, 4, 29, 29])\n",
      "torch.Size([64, 4, 29, 29])\n",
      "torch.Size([64, 4, 29, 29])\n",
      "torch.Size([64, 4, 29, 29])\n",
      "torch.Size([64, 4, 29, 29])\n",
      "torch.Size([64, 4, 29, 29])\n",
      "torch.Size([64, 4, 29, 29])\n",
      "torch.Size([64, 4, 29, 29])\n",
      "torch.Size([64, 4, 29, 29])\n",
      "torch.Size([64, 4, 29, 29])\n",
      "torch.Size([64, 4, 29, 29])\n",
      "torch.Size([64, 4, 29, 29])\n",
      "torch.Size([64, 4, 29, 29])\n",
      "torch.Size([64, 4, 29, 29])\n",
      "torch.Size([64, 4, 29, 29])\n",
      "torch.Size([64, 4, 29, 29])\n",
      "torch.Size([64, 4, 29, 29])\n",
      "torch.Size([64, 4, 29, 29])\n",
      "torch.Size([64, 4, 29, 29])\n",
      "torch.Size([64, 4, 29, 29])\n",
      "torch.Size([64, 4, 29, 29])\n",
      "torch.Size([64, 4, 29, 29])\n",
      "torch.Size([64, 4, 29, 29])\n",
      "torch.Size([64, 4, 29, 29])\n",
      "torch.Size([64, 4, 29, 29])\n",
      "torch.Size([64, 4, 29, 29])\n",
      "torch.Size([64, 4, 29, 29])\n",
      "torch.Size([64, 4, 29, 29])\n",
      "torch.Size([64, 4, 29, 29])\n",
      "torch.Size([64, 4, 29, 29])\n",
      "torch.Size([64, 4, 29, 29])\n",
      "torch.Size([64, 4, 29, 29])\n",
      "torch.Size([64, 4, 29, 29])\n",
      "torch.Size([64, 4, 29, 29])\n",
      "torch.Size([48, 4, 29, 29])\n"
     ]
    },
    {
     "data": {
      "application/vnd.jupyter.widget-view+json": {
       "model_id": "4765db6055984257abfa509a1a2a5fa6",
       "version_major": 2,
       "version_minor": 0
      },
      "text/plain": [
       "Validation: |          | 0/? [00:00<?, ?it/s]"
      ]
     },
     "metadata": {},
     "output_type": "display_data"
    },
    {
     "name": "stdout",
     "output_type": "stream",
     "text": [
      "torch.Size([64, 4, 29, 29])\n",
      "torch.Size([64, 4, 29, 29])\n",
      "torch.Size([64, 4, 29, 29])\n",
      "torch.Size([64, 4, 29, 29])\n",
      "torch.Size([64, 4, 29, 29])\n",
      "torch.Size([64, 4, 29, 29])\n",
      "torch.Size([64, 4, 29, 29])\n",
      "torch.Size([52, 4, 29, 29])\n",
      "torch.Size([64, 4, 29, 29])\n",
      "torch.Size([64, 4, 29, 29])\n",
      "torch.Size([64, 4, 29, 29])\n",
      "torch.Size([64, 4, 29, 29])\n",
      "torch.Size([64, 4, 29, 29])\n",
      "torch.Size([64, 4, 29, 29])\n",
      "torch.Size([64, 4, 29, 29])\n",
      "torch.Size([64, 4, 29, 29])\n",
      "torch.Size([64, 4, 29, 29])\n",
      "torch.Size([64, 4, 29, 29])\n",
      "torch.Size([64, 4, 29, 29])\n",
      "torch.Size([64, 4, 29, 29])\n",
      "torch.Size([64, 4, 29, 29])\n",
      "torch.Size([64, 4, 29, 29])\n",
      "torch.Size([64, 4, 29, 29])\n",
      "torch.Size([64, 4, 29, 29])\n",
      "torch.Size([64, 4, 29, 29])\n",
      "torch.Size([64, 4, 29, 29])\n",
      "torch.Size([64, 4, 29, 29])\n",
      "torch.Size([64, 4, 29, 29])\n",
      "torch.Size([64, 4, 29, 29])\n",
      "torch.Size([64, 4, 29, 29])\n",
      "torch.Size([64, 4, 29, 29])\n",
      "torch.Size([64, 4, 29, 29])\n",
      "torch.Size([64, 4, 29, 29])\n",
      "torch.Size([64, 4, 29, 29])\n",
      "torch.Size([64, 4, 29, 29])\n",
      "torch.Size([64, 4, 29, 29])\n",
      "torch.Size([64, 4, 29, 29])\n",
      "torch.Size([64, 4, 29, 29])\n",
      "torch.Size([64, 4, 29, 29])\n",
      "torch.Size([64, 4, 29, 29])\n",
      "torch.Size([64, 4, 29, 29])\n",
      "torch.Size([64, 4, 29, 29])\n",
      "torch.Size([64, 4, 29, 29])\n",
      "torch.Size([64, 4, 29, 29])\n",
      "torch.Size([64, 4, 29, 29])\n",
      "torch.Size([64, 4, 29, 29])\n",
      "torch.Size([64, 4, 29, 29])\n",
      "torch.Size([64, 4, 29, 29])\n",
      "torch.Size([64, 4, 29, 29])\n",
      "torch.Size([64, 4, 29, 29])\n",
      "torch.Size([64, 4, 29, 29])\n",
      "torch.Size([64, 4, 29, 29])\n",
      "torch.Size([64, 4, 29, 29])\n",
      "torch.Size([64, 4, 29, 29])\n",
      "torch.Size([64, 4, 29, 29])\n",
      "torch.Size([64, 4, 29, 29])\n",
      "torch.Size([64, 4, 29, 29])\n",
      "torch.Size([64, 4, 29, 29])\n",
      "torch.Size([64, 4, 29, 29])\n",
      "torch.Size([64, 4, 29, 29])\n",
      "torch.Size([64, 4, 29, 29])\n",
      "torch.Size([64, 4, 29, 29])\n",
      "torch.Size([64, 4, 29, 29])\n",
      "torch.Size([64, 4, 29, 29])\n",
      "torch.Size([64, 4, 29, 29])\n",
      "torch.Size([64, 4, 29, 29])\n",
      "torch.Size([64, 4, 29, 29])\n",
      "torch.Size([64, 4, 29, 29])\n",
      "torch.Size([64, 4, 29, 29])\n",
      "torch.Size([64, 4, 29, 29])\n",
      "torch.Size([64, 4, 29, 29])\n",
      "torch.Size([64, 4, 29, 29])\n",
      "torch.Size([64, 4, 29, 29])\n",
      "torch.Size([64, 4, 29, 29])\n",
      "torch.Size([64, 4, 29, 29])\n",
      "torch.Size([64, 4, 29, 29])\n",
      "torch.Size([64, 4, 29, 29])\n",
      "torch.Size([64, 4, 29, 29])\n",
      "torch.Size([64, 4, 29, 29])\n",
      "torch.Size([64, 4, 29, 29])\n",
      "torch.Size([64, 4, 29, 29])\n",
      "torch.Size([64, 4, 29, 29])\n",
      "torch.Size([64, 4, 29, 29])\n",
      "torch.Size([64, 4, 29, 29])\n",
      "torch.Size([64, 4, 29, 29])\n",
      "torch.Size([64, 4, 29, 29])\n",
      "torch.Size([64, 4, 29, 29])\n",
      "torch.Size([64, 4, 29, 29])\n",
      "torch.Size([64, 4, 29, 29])\n",
      "torch.Size([64, 4, 29, 29])\n",
      "torch.Size([64, 4, 29, 29])\n",
      "torch.Size([64, 4, 29, 29])\n",
      "torch.Size([64, 4, 29, 29])\n",
      "torch.Size([64, 4, 29, 29])\n",
      "torch.Size([64, 4, 29, 29])\n",
      "torch.Size([64, 4, 29, 29])\n",
      "torch.Size([64, 4, 29, 29])\n",
      "torch.Size([64, 4, 29, 29])\n",
      "torch.Size([64, 4, 29, 29])\n",
      "torch.Size([64, 4, 29, 29])\n",
      "torch.Size([64, 4, 29, 29])\n",
      "torch.Size([48, 4, 29, 29])\n"
     ]
    },
    {
     "data": {
      "application/vnd.jupyter.widget-view+json": {
       "model_id": "26014f1883864acfbb5a68e2f07529ca",
       "version_major": 2,
       "version_minor": 0
      },
      "text/plain": [
       "Validation: |          | 0/? [00:00<?, ?it/s]"
      ]
     },
     "metadata": {},
     "output_type": "display_data"
    },
    {
     "name": "stdout",
     "output_type": "stream",
     "text": [
      "torch.Size([64, 4, 29, 29])\n",
      "torch.Size([64, 4, 29, 29])\n",
      "torch.Size([64, 4, 29, 29])\n",
      "torch.Size([64, 4, 29, 29])\n",
      "torch.Size([64, 4, 29, 29])\n",
      "torch.Size([64, 4, 29, 29])\n",
      "torch.Size([64, 4, 29, 29])\n",
      "torch.Size([52, 4, 29, 29])\n",
      "torch.Size([64, 4, 29, 29])\n",
      "torch.Size([64, 4, 29, 29])\n",
      "torch.Size([64, 4, 29, 29])\n",
      "torch.Size([64, 4, 29, 29])\n",
      "torch.Size([64, 4, 29, 29])\n",
      "torch.Size([64, 4, 29, 29])\n",
      "torch.Size([64, 4, 29, 29])\n",
      "torch.Size([64, 4, 29, 29])\n",
      "torch.Size([64, 4, 29, 29])\n",
      "torch.Size([64, 4, 29, 29])\n",
      "torch.Size([64, 4, 29, 29])\n",
      "torch.Size([64, 4, 29, 29])\n",
      "torch.Size([64, 4, 29, 29])\n",
      "torch.Size([64, 4, 29, 29])\n",
      "torch.Size([64, 4, 29, 29])\n",
      "torch.Size([64, 4, 29, 29])\n",
      "torch.Size([64, 4, 29, 29])\n",
      "torch.Size([64, 4, 29, 29])\n",
      "torch.Size([64, 4, 29, 29])\n",
      "torch.Size([64, 4, 29, 29])\n",
      "torch.Size([64, 4, 29, 29])\n",
      "torch.Size([64, 4, 29, 29])\n",
      "torch.Size([64, 4, 29, 29])\n",
      "torch.Size([64, 4, 29, 29])\n",
      "torch.Size([64, 4, 29, 29])\n",
      "torch.Size([64, 4, 29, 29])\n",
      "torch.Size([64, 4, 29, 29])\n",
      "torch.Size([64, 4, 29, 29])\n",
      "torch.Size([64, 4, 29, 29])\n",
      "torch.Size([64, 4, 29, 29])\n",
      "torch.Size([64, 4, 29, 29])\n",
      "torch.Size([64, 4, 29, 29])\n",
      "torch.Size([64, 4, 29, 29])\n",
      "torch.Size([64, 4, 29, 29])\n",
      "torch.Size([64, 4, 29, 29])\n",
      "torch.Size([64, 4, 29, 29])\n",
      "torch.Size([64, 4, 29, 29])\n",
      "torch.Size([64, 4, 29, 29])\n",
      "torch.Size([64, 4, 29, 29])\n",
      "torch.Size([64, 4, 29, 29])\n",
      "torch.Size([64, 4, 29, 29])\n",
      "torch.Size([64, 4, 29, 29])\n",
      "torch.Size([64, 4, 29, 29])\n",
      "torch.Size([64, 4, 29, 29])\n",
      "torch.Size([64, 4, 29, 29])\n",
      "torch.Size([64, 4, 29, 29])\n",
      "torch.Size([64, 4, 29, 29])\n",
      "torch.Size([64, 4, 29, 29])\n",
      "torch.Size([64, 4, 29, 29])\n",
      "torch.Size([64, 4, 29, 29])\n",
      "torch.Size([64, 4, 29, 29])\n",
      "torch.Size([64, 4, 29, 29])\n",
      "torch.Size([64, 4, 29, 29])\n",
      "torch.Size([64, 4, 29, 29])\n",
      "torch.Size([64, 4, 29, 29])\n",
      "torch.Size([64, 4, 29, 29])\n",
      "torch.Size([64, 4, 29, 29])\n",
      "torch.Size([64, 4, 29, 29])\n",
      "torch.Size([64, 4, 29, 29])\n",
      "torch.Size([64, 4, 29, 29])\n",
      "torch.Size([64, 4, 29, 29])\n",
      "torch.Size([64, 4, 29, 29])\n",
      "torch.Size([64, 4, 29, 29])\n",
      "torch.Size([64, 4, 29, 29])\n",
      "torch.Size([64, 4, 29, 29])\n",
      "torch.Size([64, 4, 29, 29])\n",
      "torch.Size([64, 4, 29, 29])\n",
      "torch.Size([64, 4, 29, 29])\n",
      "torch.Size([64, 4, 29, 29])\n",
      "torch.Size([64, 4, 29, 29])\n",
      "torch.Size([64, 4, 29, 29])\n",
      "torch.Size([64, 4, 29, 29])\n",
      "torch.Size([64, 4, 29, 29])\n",
      "torch.Size([64, 4, 29, 29])\n",
      "torch.Size([64, 4, 29, 29])\n",
      "torch.Size([64, 4, 29, 29])\n",
      "torch.Size([64, 4, 29, 29])\n",
      "torch.Size([64, 4, 29, 29])\n",
      "torch.Size([64, 4, 29, 29])\n",
      "torch.Size([64, 4, 29, 29])\n",
      "torch.Size([64, 4, 29, 29])\n",
      "torch.Size([64, 4, 29, 29])\n",
      "torch.Size([64, 4, 29, 29])\n",
      "torch.Size([64, 4, 29, 29])\n",
      "torch.Size([64, 4, 29, 29])\n",
      "torch.Size([64, 4, 29, 29])\n",
      "torch.Size([64, 4, 29, 29])\n",
      "torch.Size([64, 4, 29, 29])\n",
      "torch.Size([64, 4, 29, 29])\n",
      "torch.Size([64, 4, 29, 29])\n",
      "torch.Size([64, 4, 29, 29])\n",
      "torch.Size([64, 4, 29, 29])\n",
      "torch.Size([64, 4, 29, 29])\n",
      "torch.Size([48, 4, 29, 29])\n"
     ]
    },
    {
     "data": {
      "application/vnd.jupyter.widget-view+json": {
       "model_id": "618d77fe93c7470dba01f94775a8006c",
       "version_major": 2,
       "version_minor": 0
      },
      "text/plain": [
       "Validation: |          | 0/? [00:00<?, ?it/s]"
      ]
     },
     "metadata": {},
     "output_type": "display_data"
    },
    {
     "name": "stdout",
     "output_type": "stream",
     "text": [
      "torch.Size([64, 4, 29, 29])\n",
      "torch.Size([64, 4, 29, 29])\n",
      "torch.Size([64, 4, 29, 29])\n",
      "torch.Size([64, 4, 29, 29])\n",
      "torch.Size([64, 4, 29, 29])\n",
      "torch.Size([64, 4, 29, 29])\n",
      "torch.Size([64, 4, 29, 29])\n",
      "torch.Size([52, 4, 29, 29])\n",
      "torch.Size([64, 4, 29, 29])\n",
      "torch.Size([64, 4, 29, 29])\n",
      "torch.Size([64, 4, 29, 29])\n",
      "torch.Size([64, 4, 29, 29])\n",
      "torch.Size([64, 4, 29, 29])\n",
      "torch.Size([64, 4, 29, 29])\n",
      "torch.Size([64, 4, 29, 29])\n",
      "torch.Size([64, 4, 29, 29])\n",
      "torch.Size([64, 4, 29, 29])\n",
      "torch.Size([64, 4, 29, 29])\n",
      "torch.Size([64, 4, 29, 29])\n",
      "torch.Size([64, 4, 29, 29])\n",
      "torch.Size([64, 4, 29, 29])\n",
      "torch.Size([64, 4, 29, 29])\n",
      "torch.Size([64, 4, 29, 29])\n",
      "torch.Size([64, 4, 29, 29])\n",
      "torch.Size([64, 4, 29, 29])\n",
      "torch.Size([64, 4, 29, 29])\n",
      "torch.Size([64, 4, 29, 29])\n",
      "torch.Size([64, 4, 29, 29])\n",
      "torch.Size([64, 4, 29, 29])\n",
      "torch.Size([64, 4, 29, 29])\n",
      "torch.Size([64, 4, 29, 29])\n",
      "torch.Size([64, 4, 29, 29])\n",
      "torch.Size([64, 4, 29, 29])\n",
      "torch.Size([64, 4, 29, 29])\n",
      "torch.Size([64, 4, 29, 29])\n",
      "torch.Size([64, 4, 29, 29])\n",
      "torch.Size([64, 4, 29, 29])\n",
      "torch.Size([64, 4, 29, 29])\n",
      "torch.Size([64, 4, 29, 29])\n",
      "torch.Size([64, 4, 29, 29])\n",
      "torch.Size([64, 4, 29, 29])\n",
      "torch.Size([64, 4, 29, 29])\n",
      "torch.Size([64, 4, 29, 29])\n",
      "torch.Size([64, 4, 29, 29])\n",
      "torch.Size([64, 4, 29, 29])\n",
      "torch.Size([64, 4, 29, 29])\n",
      "torch.Size([64, 4, 29, 29])\n",
      "torch.Size([64, 4, 29, 29])\n",
      "torch.Size([64, 4, 29, 29])\n",
      "torch.Size([64, 4, 29, 29])\n",
      "torch.Size([64, 4, 29, 29])\n",
      "torch.Size([64, 4, 29, 29])\n",
      "torch.Size([64, 4, 29, 29])\n",
      "torch.Size([64, 4, 29, 29])\n",
      "torch.Size([64, 4, 29, 29])\n",
      "torch.Size([64, 4, 29, 29])\n",
      "torch.Size([64, 4, 29, 29])\n",
      "torch.Size([64, 4, 29, 29])\n",
      "torch.Size([64, 4, 29, 29])\n",
      "torch.Size([64, 4, 29, 29])\n",
      "torch.Size([64, 4, 29, 29])\n",
      "torch.Size([64, 4, 29, 29])\n",
      "torch.Size([64, 4, 29, 29])\n",
      "torch.Size([64, 4, 29, 29])\n",
      "torch.Size([64, 4, 29, 29])\n",
      "torch.Size([64, 4, 29, 29])\n",
      "torch.Size([64, 4, 29, 29])\n",
      "torch.Size([64, 4, 29, 29])\n",
      "torch.Size([64, 4, 29, 29])\n",
      "torch.Size([64, 4, 29, 29])\n",
      "torch.Size([64, 4, 29, 29])\n",
      "torch.Size([64, 4, 29, 29])\n",
      "torch.Size([64, 4, 29, 29])\n",
      "torch.Size([64, 4, 29, 29])\n",
      "torch.Size([64, 4, 29, 29])\n",
      "torch.Size([64, 4, 29, 29])\n",
      "torch.Size([64, 4, 29, 29])\n",
      "torch.Size([64, 4, 29, 29])\n",
      "torch.Size([64, 4, 29, 29])\n",
      "torch.Size([64, 4, 29, 29])\n",
      "torch.Size([64, 4, 29, 29])\n",
      "torch.Size([64, 4, 29, 29])\n",
      "torch.Size([64, 4, 29, 29])\n",
      "torch.Size([64, 4, 29, 29])\n",
      "torch.Size([64, 4, 29, 29])\n",
      "torch.Size([64, 4, 29, 29])\n",
      "torch.Size([64, 4, 29, 29])\n",
      "torch.Size([64, 4, 29, 29])\n",
      "torch.Size([64, 4, 29, 29])\n",
      "torch.Size([64, 4, 29, 29])\n",
      "torch.Size([64, 4, 29, 29])\n",
      "torch.Size([64, 4, 29, 29])\n",
      "torch.Size([64, 4, 29, 29])\n",
      "torch.Size([64, 4, 29, 29])\n",
      "torch.Size([64, 4, 29, 29])\n",
      "torch.Size([64, 4, 29, 29])\n",
      "torch.Size([64, 4, 29, 29])\n",
      "torch.Size([64, 4, 29, 29])\n",
      "torch.Size([64, 4, 29, 29])\n",
      "torch.Size([64, 4, 29, 29])\n",
      "torch.Size([64, 4, 29, 29])\n",
      "torch.Size([48, 4, 29, 29])\n"
     ]
    },
    {
     "data": {
      "application/vnd.jupyter.widget-view+json": {
       "model_id": "0803ad20bfbe4a5a9f6cfb67e230fb9b",
       "version_major": 2,
       "version_minor": 0
      },
      "text/plain": [
       "Validation: |          | 0/? [00:00<?, ?it/s]"
      ]
     },
     "metadata": {},
     "output_type": "display_data"
    },
    {
     "name": "stdout",
     "output_type": "stream",
     "text": [
      "torch.Size([64, 4, 29, 29])\n",
      "torch.Size([64, 4, 29, 29])\n",
      "torch.Size([64, 4, 29, 29])\n",
      "torch.Size([64, 4, 29, 29])\n",
      "torch.Size([64, 4, 29, 29])\n",
      "torch.Size([64, 4, 29, 29])\n",
      "torch.Size([64, 4, 29, 29])\n",
      "torch.Size([52, 4, 29, 29])\n",
      "torch.Size([64, 4, 29, 29])\n",
      "torch.Size([64, 4, 29, 29])\n",
      "torch.Size([64, 4, 29, 29])\n",
      "torch.Size([64, 4, 29, 29])\n",
      "torch.Size([64, 4, 29, 29])\n",
      "torch.Size([64, 4, 29, 29])\n",
      "torch.Size([64, 4, 29, 29])\n",
      "torch.Size([64, 4, 29, 29])\n",
      "torch.Size([64, 4, 29, 29])\n",
      "torch.Size([64, 4, 29, 29])\n",
      "torch.Size([64, 4, 29, 29])\n",
      "torch.Size([64, 4, 29, 29])\n",
      "torch.Size([64, 4, 29, 29])\n",
      "torch.Size([64, 4, 29, 29])\n",
      "torch.Size([64, 4, 29, 29])\n",
      "torch.Size([64, 4, 29, 29])\n",
      "torch.Size([64, 4, 29, 29])\n",
      "torch.Size([64, 4, 29, 29])\n",
      "torch.Size([64, 4, 29, 29])\n",
      "torch.Size([64, 4, 29, 29])\n",
      "torch.Size([64, 4, 29, 29])\n",
      "torch.Size([64, 4, 29, 29])\n",
      "torch.Size([64, 4, 29, 29])\n",
      "torch.Size([64, 4, 29, 29])\n",
      "torch.Size([64, 4, 29, 29])\n",
      "torch.Size([64, 4, 29, 29])\n",
      "torch.Size([64, 4, 29, 29])\n",
      "torch.Size([64, 4, 29, 29])\n",
      "torch.Size([64, 4, 29, 29])\n",
      "torch.Size([64, 4, 29, 29])\n",
      "torch.Size([64, 4, 29, 29])\n",
      "torch.Size([64, 4, 29, 29])\n",
      "torch.Size([64, 4, 29, 29])\n",
      "torch.Size([64, 4, 29, 29])\n",
      "torch.Size([64, 4, 29, 29])\n",
      "torch.Size([64, 4, 29, 29])\n",
      "torch.Size([64, 4, 29, 29])\n",
      "torch.Size([64, 4, 29, 29])\n",
      "torch.Size([64, 4, 29, 29])\n",
      "torch.Size([64, 4, 29, 29])\n",
      "torch.Size([64, 4, 29, 29])\n",
      "torch.Size([64, 4, 29, 29])\n",
      "torch.Size([64, 4, 29, 29])\n",
      "torch.Size([64, 4, 29, 29])\n",
      "torch.Size([64, 4, 29, 29])\n",
      "torch.Size([64, 4, 29, 29])\n",
      "torch.Size([64, 4, 29, 29])\n",
      "torch.Size([64, 4, 29, 29])\n",
      "torch.Size([64, 4, 29, 29])\n",
      "torch.Size([64, 4, 29, 29])\n",
      "torch.Size([64, 4, 29, 29])\n",
      "torch.Size([64, 4, 29, 29])\n",
      "torch.Size([64, 4, 29, 29])\n",
      "torch.Size([64, 4, 29, 29])\n",
      "torch.Size([64, 4, 29, 29])\n",
      "torch.Size([64, 4, 29, 29])\n",
      "torch.Size([64, 4, 29, 29])\n",
      "torch.Size([64, 4, 29, 29])\n",
      "torch.Size([64, 4, 29, 29])\n",
      "torch.Size([64, 4, 29, 29])\n",
      "torch.Size([64, 4, 29, 29])\n",
      "torch.Size([64, 4, 29, 29])\n",
      "torch.Size([64, 4, 29, 29])\n",
      "torch.Size([64, 4, 29, 29])\n",
      "torch.Size([64, 4, 29, 29])\n",
      "torch.Size([64, 4, 29, 29])\n",
      "torch.Size([64, 4, 29, 29])\n",
      "torch.Size([64, 4, 29, 29])\n",
      "torch.Size([64, 4, 29, 29])\n",
      "torch.Size([64, 4, 29, 29])\n",
      "torch.Size([64, 4, 29, 29])\n",
      "torch.Size([64, 4, 29, 29])\n",
      "torch.Size([64, 4, 29, 29])\n",
      "torch.Size([64, 4, 29, 29])\n",
      "torch.Size([64, 4, 29, 29])\n",
      "torch.Size([64, 4, 29, 29])\n",
      "torch.Size([64, 4, 29, 29])\n",
      "torch.Size([64, 4, 29, 29])\n",
      "torch.Size([64, 4, 29, 29])\n",
      "torch.Size([64, 4, 29, 29])\n",
      "torch.Size([64, 4, 29, 29])\n",
      "torch.Size([64, 4, 29, 29])\n",
      "torch.Size([64, 4, 29, 29])\n",
      "torch.Size([64, 4, 29, 29])\n",
      "torch.Size([64, 4, 29, 29])\n",
      "torch.Size([64, 4, 29, 29])\n",
      "torch.Size([64, 4, 29, 29])\n",
      "torch.Size([64, 4, 29, 29])\n",
      "torch.Size([64, 4, 29, 29])\n",
      "torch.Size([64, 4, 29, 29])\n",
      "torch.Size([64, 4, 29, 29])\n",
      "torch.Size([64, 4, 29, 29])\n",
      "torch.Size([64, 4, 29, 29])\n",
      "torch.Size([48, 4, 29, 29])\n"
     ]
    },
    {
     "data": {
      "application/vnd.jupyter.widget-view+json": {
       "model_id": "0427a5dc700c41f695b2388b0068a807",
       "version_major": 2,
       "version_minor": 0
      },
      "text/plain": [
       "Validation: |          | 0/? [00:00<?, ?it/s]"
      ]
     },
     "metadata": {},
     "output_type": "display_data"
    },
    {
     "name": "stdout",
     "output_type": "stream",
     "text": [
      "torch.Size([64, 4, 29, 29])\n",
      "torch.Size([64, 4, 29, 29])\n",
      "torch.Size([64, 4, 29, 29])\n",
      "torch.Size([64, 4, 29, 29])\n",
      "torch.Size([64, 4, 29, 29])\n",
      "torch.Size([64, 4, 29, 29])\n",
      "torch.Size([64, 4, 29, 29])\n",
      "torch.Size([52, 4, 29, 29])\n",
      "torch.Size([64, 4, 29, 29])\n",
      "torch.Size([64, 4, 29, 29])\n",
      "torch.Size([64, 4, 29, 29])\n",
      "torch.Size([64, 4, 29, 29])\n",
      "torch.Size([64, 4, 29, 29])\n",
      "torch.Size([64, 4, 29, 29])\n",
      "torch.Size([64, 4, 29, 29])\n",
      "torch.Size([64, 4, 29, 29])\n",
      "torch.Size([64, 4, 29, 29])\n",
      "torch.Size([64, 4, 29, 29])\n",
      "torch.Size([64, 4, 29, 29])\n",
      "torch.Size([64, 4, 29, 29])\n",
      "torch.Size([64, 4, 29, 29])\n",
      "torch.Size([64, 4, 29, 29])\n",
      "torch.Size([64, 4, 29, 29])\n",
      "torch.Size([64, 4, 29, 29])\n",
      "torch.Size([64, 4, 29, 29])\n",
      "torch.Size([64, 4, 29, 29])\n",
      "torch.Size([64, 4, 29, 29])\n",
      "torch.Size([64, 4, 29, 29])\n",
      "torch.Size([64, 4, 29, 29])\n",
      "torch.Size([64, 4, 29, 29])\n",
      "torch.Size([64, 4, 29, 29])\n",
      "torch.Size([64, 4, 29, 29])\n",
      "torch.Size([64, 4, 29, 29])\n",
      "torch.Size([64, 4, 29, 29])\n",
      "torch.Size([64, 4, 29, 29])\n",
      "torch.Size([64, 4, 29, 29])\n",
      "torch.Size([64, 4, 29, 29])\n",
      "torch.Size([64, 4, 29, 29])\n",
      "torch.Size([64, 4, 29, 29])\n",
      "torch.Size([64, 4, 29, 29])\n",
      "torch.Size([64, 4, 29, 29])\n",
      "torch.Size([64, 4, 29, 29])\n",
      "torch.Size([64, 4, 29, 29])\n",
      "torch.Size([64, 4, 29, 29])\n",
      "torch.Size([64, 4, 29, 29])\n",
      "torch.Size([64, 4, 29, 29])\n",
      "torch.Size([64, 4, 29, 29])\n",
      "torch.Size([64, 4, 29, 29])\n",
      "torch.Size([64, 4, 29, 29])\n",
      "torch.Size([64, 4, 29, 29])\n",
      "torch.Size([64, 4, 29, 29])\n",
      "torch.Size([64, 4, 29, 29])\n",
      "torch.Size([64, 4, 29, 29])\n",
      "torch.Size([64, 4, 29, 29])\n",
      "torch.Size([64, 4, 29, 29])\n",
      "torch.Size([64, 4, 29, 29])\n",
      "torch.Size([64, 4, 29, 29])\n",
      "torch.Size([64, 4, 29, 29])\n",
      "torch.Size([64, 4, 29, 29])\n",
      "torch.Size([64, 4, 29, 29])\n",
      "torch.Size([64, 4, 29, 29])\n",
      "torch.Size([64, 4, 29, 29])\n",
      "torch.Size([64, 4, 29, 29])\n",
      "torch.Size([64, 4, 29, 29])\n",
      "torch.Size([64, 4, 29, 29])\n",
      "torch.Size([64, 4, 29, 29])\n",
      "torch.Size([64, 4, 29, 29])\n",
      "torch.Size([64, 4, 29, 29])\n",
      "torch.Size([64, 4, 29, 29])\n",
      "torch.Size([64, 4, 29, 29])\n",
      "torch.Size([64, 4, 29, 29])\n",
      "torch.Size([64, 4, 29, 29])\n",
      "torch.Size([64, 4, 29, 29])\n",
      "torch.Size([64, 4, 29, 29])\n",
      "torch.Size([64, 4, 29, 29])\n",
      "torch.Size([64, 4, 29, 29])\n",
      "torch.Size([64, 4, 29, 29])\n",
      "torch.Size([64, 4, 29, 29])\n",
      "torch.Size([64, 4, 29, 29])\n",
      "torch.Size([64, 4, 29, 29])\n",
      "torch.Size([64, 4, 29, 29])\n",
      "torch.Size([64, 4, 29, 29])\n",
      "torch.Size([64, 4, 29, 29])\n",
      "torch.Size([64, 4, 29, 29])\n",
      "torch.Size([64, 4, 29, 29])\n",
      "torch.Size([64, 4, 29, 29])\n",
      "torch.Size([64, 4, 29, 29])\n",
      "torch.Size([64, 4, 29, 29])\n",
      "torch.Size([64, 4, 29, 29])\n",
      "torch.Size([64, 4, 29, 29])\n",
      "torch.Size([64, 4, 29, 29])\n",
      "torch.Size([64, 4, 29, 29])\n",
      "torch.Size([64, 4, 29, 29])\n",
      "torch.Size([64, 4, 29, 29])\n",
      "torch.Size([64, 4, 29, 29])\n",
      "torch.Size([64, 4, 29, 29])\n",
      "torch.Size([64, 4, 29, 29])\n",
      "torch.Size([64, 4, 29, 29])\n",
      "torch.Size([64, 4, 29, 29])\n",
      "torch.Size([64, 4, 29, 29])\n",
      "torch.Size([64, 4, 29, 29])\n",
      "torch.Size([48, 4, 29, 29])\n"
     ]
    },
    {
     "data": {
      "application/vnd.jupyter.widget-view+json": {
       "model_id": "b57a2fba7ca54f6b9bf3077517a7f0dc",
       "version_major": 2,
       "version_minor": 0
      },
      "text/plain": [
       "Validation: |          | 0/? [00:00<?, ?it/s]"
      ]
     },
     "metadata": {},
     "output_type": "display_data"
    },
    {
     "name": "stdout",
     "output_type": "stream",
     "text": [
      "torch.Size([64, 4, 29, 29])\n",
      "torch.Size([64, 4, 29, 29])\n",
      "torch.Size([64, 4, 29, 29])\n",
      "torch.Size([64, 4, 29, 29])\n",
      "torch.Size([64, 4, 29, 29])\n",
      "torch.Size([64, 4, 29, 29])\n",
      "torch.Size([64, 4, 29, 29])\n",
      "torch.Size([52, 4, 29, 29])\n",
      "torch.Size([64, 4, 29, 29])\n",
      "torch.Size([64, 4, 29, 29])\n",
      "torch.Size([64, 4, 29, 29])\n",
      "torch.Size([64, 4, 29, 29])\n",
      "torch.Size([64, 4, 29, 29])\n",
      "torch.Size([64, 4, 29, 29])\n",
      "torch.Size([64, 4, 29, 29])\n",
      "torch.Size([64, 4, 29, 29])\n",
      "torch.Size([64, 4, 29, 29])\n",
      "torch.Size([64, 4, 29, 29])\n",
      "torch.Size([64, 4, 29, 29])\n",
      "torch.Size([64, 4, 29, 29])\n",
      "torch.Size([64, 4, 29, 29])\n",
      "torch.Size([64, 4, 29, 29])\n",
      "torch.Size([64, 4, 29, 29])\n",
      "torch.Size([64, 4, 29, 29])\n",
      "torch.Size([64, 4, 29, 29])\n",
      "torch.Size([64, 4, 29, 29])\n",
      "torch.Size([64, 4, 29, 29])\n",
      "torch.Size([64, 4, 29, 29])\n",
      "torch.Size([64, 4, 29, 29])\n",
      "torch.Size([64, 4, 29, 29])\n",
      "torch.Size([64, 4, 29, 29])\n",
      "torch.Size([64, 4, 29, 29])\n",
      "torch.Size([64, 4, 29, 29])\n",
      "torch.Size([64, 4, 29, 29])\n",
      "torch.Size([64, 4, 29, 29])\n",
      "torch.Size([64, 4, 29, 29])\n",
      "torch.Size([64, 4, 29, 29])\n",
      "torch.Size([64, 4, 29, 29])\n",
      "torch.Size([64, 4, 29, 29])\n",
      "torch.Size([64, 4, 29, 29])\n",
      "torch.Size([64, 4, 29, 29])\n",
      "torch.Size([64, 4, 29, 29])\n",
      "torch.Size([64, 4, 29, 29])\n",
      "torch.Size([64, 4, 29, 29])\n",
      "torch.Size([64, 4, 29, 29])\n",
      "torch.Size([64, 4, 29, 29])\n",
      "torch.Size([64, 4, 29, 29])\n",
      "torch.Size([64, 4, 29, 29])\n",
      "torch.Size([64, 4, 29, 29])\n",
      "torch.Size([64, 4, 29, 29])\n",
      "torch.Size([64, 4, 29, 29])\n",
      "torch.Size([64, 4, 29, 29])\n",
      "torch.Size([64, 4, 29, 29])\n",
      "torch.Size([64, 4, 29, 29])\n",
      "torch.Size([64, 4, 29, 29])\n",
      "torch.Size([64, 4, 29, 29])\n",
      "torch.Size([64, 4, 29, 29])\n",
      "torch.Size([64, 4, 29, 29])\n",
      "torch.Size([64, 4, 29, 29])\n",
      "torch.Size([64, 4, 29, 29])\n",
      "torch.Size([64, 4, 29, 29])\n",
      "torch.Size([64, 4, 29, 29])\n",
      "torch.Size([64, 4, 29, 29])\n",
      "torch.Size([64, 4, 29, 29])\n",
      "torch.Size([64, 4, 29, 29])\n",
      "torch.Size([64, 4, 29, 29])\n",
      "torch.Size([64, 4, 29, 29])\n",
      "torch.Size([64, 4, 29, 29])\n",
      "torch.Size([64, 4, 29, 29])\n",
      "torch.Size([64, 4, 29, 29])\n",
      "torch.Size([64, 4, 29, 29])\n",
      "torch.Size([64, 4, 29, 29])\n",
      "torch.Size([64, 4, 29, 29])\n",
      "torch.Size([64, 4, 29, 29])\n",
      "torch.Size([64, 4, 29, 29])\n",
      "torch.Size([64, 4, 29, 29])\n",
      "torch.Size([64, 4, 29, 29])\n",
      "torch.Size([64, 4, 29, 29])\n",
      "torch.Size([64, 4, 29, 29])\n",
      "torch.Size([64, 4, 29, 29])\n",
      "torch.Size([64, 4, 29, 29])\n",
      "torch.Size([64, 4, 29, 29])\n",
      "torch.Size([64, 4, 29, 29])\n",
      "torch.Size([64, 4, 29, 29])\n",
      "torch.Size([64, 4, 29, 29])\n",
      "torch.Size([64, 4, 29, 29])\n",
      "torch.Size([64, 4, 29, 29])\n",
      "torch.Size([64, 4, 29, 29])\n",
      "torch.Size([64, 4, 29, 29])\n",
      "torch.Size([64, 4, 29, 29])\n",
      "torch.Size([64, 4, 29, 29])\n",
      "torch.Size([64, 4, 29, 29])\n",
      "torch.Size([64, 4, 29, 29])\n",
      "torch.Size([64, 4, 29, 29])\n",
      "torch.Size([64, 4, 29, 29])\n",
      "torch.Size([64, 4, 29, 29])\n",
      "torch.Size([64, 4, 29, 29])\n",
      "torch.Size([64, 4, 29, 29])\n",
      "torch.Size([64, 4, 29, 29])\n",
      "torch.Size([64, 4, 29, 29])\n",
      "torch.Size([64, 4, 29, 29])\n",
      "torch.Size([48, 4, 29, 29])\n"
     ]
    },
    {
     "data": {
      "application/vnd.jupyter.widget-view+json": {
       "model_id": "7c1b35f9bf5b44ad89046c10b1d22210",
       "version_major": 2,
       "version_minor": 0
      },
      "text/plain": [
       "Validation: |          | 0/? [00:00<?, ?it/s]"
      ]
     },
     "metadata": {},
     "output_type": "display_data"
    },
    {
     "name": "stdout",
     "output_type": "stream",
     "text": [
      "torch.Size([64, 4, 29, 29])\n",
      "torch.Size([64, 4, 29, 29])\n",
      "torch.Size([64, 4, 29, 29])\n",
      "torch.Size([64, 4, 29, 29])\n",
      "torch.Size([64, 4, 29, 29])\n",
      "torch.Size([64, 4, 29, 29])\n",
      "torch.Size([64, 4, 29, 29])\n",
      "torch.Size([52, 4, 29, 29])\n",
      "torch.Size([64, 4, 29, 29])\n",
      "torch.Size([64, 4, 29, 29])\n",
      "torch.Size([64, 4, 29, 29])\n",
      "torch.Size([64, 4, 29, 29])\n",
      "torch.Size([64, 4, 29, 29])\n",
      "torch.Size([64, 4, 29, 29])\n",
      "torch.Size([64, 4, 29, 29])\n",
      "torch.Size([64, 4, 29, 29])\n",
      "torch.Size([64, 4, 29, 29])\n",
      "torch.Size([64, 4, 29, 29])\n",
      "torch.Size([64, 4, 29, 29])\n",
      "torch.Size([64, 4, 29, 29])\n",
      "torch.Size([64, 4, 29, 29])\n",
      "torch.Size([64, 4, 29, 29])\n",
      "torch.Size([64, 4, 29, 29])\n",
      "torch.Size([64, 4, 29, 29])\n",
      "torch.Size([64, 4, 29, 29])\n",
      "torch.Size([64, 4, 29, 29])\n",
      "torch.Size([64, 4, 29, 29])\n",
      "torch.Size([64, 4, 29, 29])\n",
      "torch.Size([64, 4, 29, 29])\n",
      "torch.Size([64, 4, 29, 29])\n",
      "torch.Size([64, 4, 29, 29])\n",
      "torch.Size([64, 4, 29, 29])\n",
      "torch.Size([64, 4, 29, 29])\n",
      "torch.Size([64, 4, 29, 29])\n",
      "torch.Size([64, 4, 29, 29])\n",
      "torch.Size([64, 4, 29, 29])\n",
      "torch.Size([64, 4, 29, 29])\n",
      "torch.Size([64, 4, 29, 29])\n",
      "torch.Size([64, 4, 29, 29])\n",
      "torch.Size([64, 4, 29, 29])\n",
      "torch.Size([64, 4, 29, 29])\n",
      "torch.Size([64, 4, 29, 29])\n",
      "torch.Size([64, 4, 29, 29])\n",
      "torch.Size([64, 4, 29, 29])\n",
      "torch.Size([64, 4, 29, 29])\n",
      "torch.Size([64, 4, 29, 29])\n",
      "torch.Size([64, 4, 29, 29])\n",
      "torch.Size([64, 4, 29, 29])\n",
      "torch.Size([64, 4, 29, 29])\n",
      "torch.Size([64, 4, 29, 29])\n",
      "torch.Size([64, 4, 29, 29])\n",
      "torch.Size([64, 4, 29, 29])\n",
      "torch.Size([64, 4, 29, 29])\n",
      "torch.Size([64, 4, 29, 29])\n",
      "torch.Size([64, 4, 29, 29])\n",
      "torch.Size([64, 4, 29, 29])\n",
      "torch.Size([64, 4, 29, 29])\n",
      "torch.Size([64, 4, 29, 29])\n",
      "torch.Size([64, 4, 29, 29])\n",
      "torch.Size([64, 4, 29, 29])\n",
      "torch.Size([64, 4, 29, 29])\n",
      "torch.Size([64, 4, 29, 29])\n",
      "torch.Size([64, 4, 29, 29])\n",
      "torch.Size([64, 4, 29, 29])\n",
      "torch.Size([64, 4, 29, 29])\n",
      "torch.Size([64, 4, 29, 29])\n",
      "torch.Size([64, 4, 29, 29])\n",
      "torch.Size([64, 4, 29, 29])\n",
      "torch.Size([64, 4, 29, 29])\n",
      "torch.Size([64, 4, 29, 29])\n",
      "torch.Size([64, 4, 29, 29])\n",
      "torch.Size([64, 4, 29, 29])\n",
      "torch.Size([64, 4, 29, 29])\n",
      "torch.Size([64, 4, 29, 29])\n",
      "torch.Size([64, 4, 29, 29])\n",
      "torch.Size([64, 4, 29, 29])\n",
      "torch.Size([64, 4, 29, 29])\n",
      "torch.Size([64, 4, 29, 29])\n",
      "torch.Size([64, 4, 29, 29])\n",
      "torch.Size([64, 4, 29, 29])\n",
      "torch.Size([64, 4, 29, 29])\n",
      "torch.Size([64, 4, 29, 29])\n",
      "torch.Size([64, 4, 29, 29])\n",
      "torch.Size([64, 4, 29, 29])\n",
      "torch.Size([64, 4, 29, 29])\n",
      "torch.Size([64, 4, 29, 29])\n",
      "torch.Size([64, 4, 29, 29])\n",
      "torch.Size([64, 4, 29, 29])\n",
      "torch.Size([64, 4, 29, 29])\n",
      "torch.Size([64, 4, 29, 29])\n",
      "torch.Size([64, 4, 29, 29])\n",
      "torch.Size([64, 4, 29, 29])\n",
      "torch.Size([64, 4, 29, 29])\n",
      "torch.Size([64, 4, 29, 29])\n",
      "torch.Size([64, 4, 29, 29])\n",
      "torch.Size([64, 4, 29, 29])\n",
      "torch.Size([64, 4, 29, 29])\n",
      "torch.Size([64, 4, 29, 29])\n",
      "torch.Size([64, 4, 29, 29])\n",
      "torch.Size([64, 4, 29, 29])\n",
      "torch.Size([64, 4, 29, 29])\n",
      "torch.Size([48, 4, 29, 29])\n"
     ]
    },
    {
     "data": {
      "application/vnd.jupyter.widget-view+json": {
       "model_id": "9c65225f132e4276bbd8e672e3744a6b",
       "version_major": 2,
       "version_minor": 0
      },
      "text/plain": [
       "Validation: |          | 0/? [00:00<?, ?it/s]"
      ]
     },
     "metadata": {},
     "output_type": "display_data"
    },
    {
     "name": "stdout",
     "output_type": "stream",
     "text": [
      "torch.Size([64, 4, 29, 29])\n",
      "torch.Size([64, 4, 29, 29])\n",
      "torch.Size([64, 4, 29, 29])\n",
      "torch.Size([64, 4, 29, 29])\n",
      "torch.Size([64, 4, 29, 29])\n",
      "torch.Size([64, 4, 29, 29])\n",
      "torch.Size([64, 4, 29, 29])\n",
      "torch.Size([52, 4, 29, 29])\n",
      "torch.Size([64, 4, 29, 29])\n",
      "torch.Size([64, 4, 29, 29])\n",
      "torch.Size([64, 4, 29, 29])\n",
      "torch.Size([64, 4, 29, 29])\n",
      "torch.Size([64, 4, 29, 29])\n",
      "torch.Size([64, 4, 29, 29])\n",
      "torch.Size([64, 4, 29, 29])\n",
      "torch.Size([64, 4, 29, 29])\n",
      "torch.Size([64, 4, 29, 29])\n",
      "torch.Size([64, 4, 29, 29])\n",
      "torch.Size([64, 4, 29, 29])\n",
      "torch.Size([64, 4, 29, 29])\n",
      "torch.Size([64, 4, 29, 29])\n",
      "torch.Size([64, 4, 29, 29])\n",
      "torch.Size([64, 4, 29, 29])\n",
      "torch.Size([64, 4, 29, 29])\n",
      "torch.Size([64, 4, 29, 29])\n",
      "torch.Size([64, 4, 29, 29])\n",
      "torch.Size([64, 4, 29, 29])\n",
      "torch.Size([64, 4, 29, 29])\n",
      "torch.Size([64, 4, 29, 29])\n",
      "torch.Size([64, 4, 29, 29])\n",
      "torch.Size([64, 4, 29, 29])\n",
      "torch.Size([64, 4, 29, 29])\n",
      "torch.Size([64, 4, 29, 29])\n",
      "torch.Size([64, 4, 29, 29])\n",
      "torch.Size([64, 4, 29, 29])\n",
      "torch.Size([64, 4, 29, 29])\n",
      "torch.Size([64, 4, 29, 29])\n",
      "torch.Size([64, 4, 29, 29])\n",
      "torch.Size([64, 4, 29, 29])\n",
      "torch.Size([64, 4, 29, 29])\n",
      "torch.Size([64, 4, 29, 29])\n",
      "torch.Size([64, 4, 29, 29])\n",
      "torch.Size([64, 4, 29, 29])\n",
      "torch.Size([64, 4, 29, 29])\n",
      "torch.Size([64, 4, 29, 29])\n",
      "torch.Size([64, 4, 29, 29])\n",
      "torch.Size([64, 4, 29, 29])\n",
      "torch.Size([64, 4, 29, 29])\n",
      "torch.Size([64, 4, 29, 29])\n",
      "torch.Size([64, 4, 29, 29])\n",
      "torch.Size([64, 4, 29, 29])\n"
     ]
    }
   ],
   "source": [
    "output_length = 3\n",
    "cnn_multi = CNN_multi(output_length = output_length)\n",
    "\n",
    "# Next, we define the NN training function, which is then applied to the CNN.\n",
    "trainer = pl.Trainer(max_epochs=1000, callbacks=[EarlyStopping(monitor=\"train_loss\", mode=\"min\", patience=10)])\n",
    "trainer.fit(cnn_multi)"
   ]
  },
  {
   "cell_type": "markdown",
   "metadata": {
    "id": "yxZaG0QRHOig"
   },
   "source": [
    " Let us check the final prediction accuracy, this time directly on the test data. We use the trained CNN model and input the Ym test data. The result below is the joint MSE over the 3 values we are predicting."
   ]
  },
  {
   "cell_type": "code",
   "execution_count": null,
   "metadata": {
    "colab": {
     "base_uri": "https://localhost:8080/"
    },
    "id": "W-5OTkrRoqUg",
    "outputId": "7352f4c6-4030-4c74-c6a8-1f1e02a3747f"
   },
   "outputs": [],
   "source": [
    "# Here we compute the MSE accuracy on the test set\n",
    "X_test = torch.Tensor(X_test).reshape(-1, 29, 29).unsqueeze(1).float()\n",
    "Ym_test = torch.Tensor(Ym_test).float()\n",
    "\n",
    "# Below we insert test set X and Ym to obtained the MSE (loss).\n",
    "loss, Ym_pred = cnn_multi(X_test, Ym_test)\n",
    "print(f\"Test loss {loss}\")"
   ]
  },
  {
   "cell_type": "markdown",
   "metadata": {
    "id": "PjLxX-GsH0Q3"
   },
   "source": [
    "**Compare the MSE when we predict 3 electronic levels to the previous one, where we predicted only 1 level. Are the results similar or very different?**\n",
    "\n",
    "Next, let us review the quality of predictions in a scatter plot. Because we predicted 3 levels simultaneously, **we need to build 3 different scatter plots**. How does this look?"
   ]
  },
  {
   "cell_type": "code",
   "execution_count": null,
   "metadata": {
    "colab": {
     "base_uri": "https://localhost:8080/",
     "height": 1000
    },
    "id": "XA81ixv8onDV",
    "outputId": "1c882184-328b-481f-add2-d96c714e93a6"
   },
   "outputs": [],
   "source": [
    "import matplotlib.pyplot as plt\n",
    "%matplotlib inline\n",
    "\n",
    "# Below we define the predicted values and the reference test values.\n",
    "ym_pred = Ym_pred.detach().numpy()\n",
    "ym_test = Ym_test.detach().numpy()\n",
    "\n",
    "plt.figure(1, figsize=(6,18))\n",
    "\n",
    "idx = 0 # This is for HOMO-2\n",
    "plt.subplot(311)\n",
    "plt.plot(ym_test[:, idx], ym_pred[:, idx], 'o')\n",
    "plt.plot([np.min(ym_test[:, idx]),np.max(ym_test[:, idx])], [np.min(ym_test[:, idx]),np.max(ym_test[:, idx])], '-')\n",
    "plt.xlabel(\"reference HOMO energy [eV]\")\n",
    "plt.ylabel(\"predicted HOMO energy [eV]\")\n",
    "plt.title(\"Energy Level : HOMO -2\")\n",
    "\n",
    "idx = 1 # This is for HOMO-1\n",
    "plt.subplot(312)\n",
    "plt.plot(ym_test[:, idx], ym_pred[:, idx], 'o')\n",
    "plt.plot([np.min(ym_test[:, idx]),np.max(ym_test[:, idx])], [np.min(ym_test[:, idx]),np.max(ym_test[:, idx])], '-')\n",
    "plt.xlabel(\"reference HOMO energy [eV]\")\n",
    "plt.ylabel(\"predicted HOMO energy [eV]\")\n",
    "plt.title(\"Energy Level : HOMO -1\")\n",
    "\n",
    "idx = 2 # This is for HOMO\n",
    "plt.subplot(313)\n",
    "plt.plot(ym_test[:, idx], ym_pred[:, idx], 'o')\n",
    "plt.plot([np.min(ym_test[:, idx]),np.max(ym_test[:, idx])], [np.min(ym_test[:, idx]),np.max(ym_test[:, idx])], '-')\n",
    "plt.xlabel(\"reference HOMO energy [eV]\")\n",
    "plt.ylabel(\"predicted HOMO energy [eV]\")\n",
    "plt.title(\"Energy Level : HOMO\")\n",
    "plt.tight_layout()\n",
    "plt.show()"
   ]
  },
  {
   "cell_type": "code",
   "execution_count": null,
   "metadata": {},
   "outputs": [],
   "source": []
  }
 ],
 "metadata": {
  "anaconda-cloud": {},
  "colab": {
   "provenance": []
  },
  "kernelspec": {
   "display_name": "Python 3 (ipykernel)",
   "language": "python",
   "name": "python3"
  },
  "language_info": {
   "codemirror_mode": {
    "name": "ipython",
    "version": 3
   },
   "file_extension": ".py",
   "mimetype": "text/x-python",
   "name": "python",
   "nbconvert_exporter": "python",
   "pygments_lexer": "ipython3",
   "version": "3.12.8"
  },
  "widgets": {
   "application/vnd.jupyter.widget-state+json": {
    "003a8948667b432c9628af7dbf496f9a": {
     "model_module": "@jupyter-widgets/controls",
     "model_module_version": "1.5.0",
     "model_name": "DescriptionStyleModel",
     "state": {
      "_model_module": "@jupyter-widgets/controls",
      "_model_module_version": "1.5.0",
      "_model_name": "DescriptionStyleModel",
      "_view_count": null,
      "_view_module": "@jupyter-widgets/base",
      "_view_module_version": "1.2.0",
      "_view_name": "StyleView",
      "description_width": ""
     }
    },
    "026211534885481e84f15e964b50b721": {
     "model_module": "@jupyter-widgets/base",
     "model_module_version": "1.2.0",
     "model_name": "LayoutModel",
     "state": {
      "_model_module": "@jupyter-widgets/base",
      "_model_module_version": "1.2.0",
      "_model_name": "LayoutModel",
      "_view_count": null,
      "_view_module": "@jupyter-widgets/base",
      "_view_module_version": "1.2.0",
      "_view_name": "LayoutView",
      "align_content": null,
      "align_items": null,
      "align_self": null,
      "border": null,
      "bottom": null,
      "display": "inline-flex",
      "flex": null,
      "flex_flow": "row wrap",
      "grid_area": null,
      "grid_auto_columns": null,
      "grid_auto_flow": null,
      "grid_auto_rows": null,
      "grid_column": null,
      "grid_gap": null,
      "grid_row": null,
      "grid_template_areas": null,
      "grid_template_columns": null,
      "grid_template_rows": null,
      "height": null,
      "justify_content": null,
      "justify_items": null,
      "left": null,
      "margin": null,
      "max_height": null,
      "max_width": null,
      "min_height": null,
      "min_width": null,
      "object_fit": null,
      "object_position": null,
      "order": null,
      "overflow": null,
      "overflow_x": null,
      "overflow_y": null,
      "padding": null,
      "right": null,
      "top": null,
      "visibility": "hidden",
      "width": "100%"
     }
    },
    "03d3aaf041934a3a909d95e52bf60470": {
     "model_module": "@jupyter-widgets/base",
     "model_module_version": "1.2.0",
     "model_name": "LayoutModel",
     "state": {
      "_model_module": "@jupyter-widgets/base",
      "_model_module_version": "1.2.0",
      "_model_name": "LayoutModel",
      "_view_count": null,
      "_view_module": "@jupyter-widgets/base",
      "_view_module_version": "1.2.0",
      "_view_name": "LayoutView",
      "align_content": null,
      "align_items": null,
      "align_self": null,
      "border": null,
      "bottom": null,
      "display": null,
      "flex": null,
      "flex_flow": null,
      "grid_area": null,
      "grid_auto_columns": null,
      "grid_auto_flow": null,
      "grid_auto_rows": null,
      "grid_column": null,
      "grid_gap": null,
      "grid_row": null,
      "grid_template_areas": null,
      "grid_template_columns": null,
      "grid_template_rows": null,
      "height": null,
      "justify_content": null,
      "justify_items": null,
      "left": null,
      "margin": null,
      "max_height": null,
      "max_width": null,
      "min_height": null,
      "min_width": null,
      "object_fit": null,
      "object_position": null,
      "order": null,
      "overflow": null,
      "overflow_x": null,
      "overflow_y": null,
      "padding": null,
      "right": null,
      "top": null,
      "visibility": null,
      "width": null
     }
    },
    "03ebc8a0006e402dad631dda51cc274e": {
     "model_module": "@jupyter-widgets/controls",
     "model_module_version": "1.5.0",
     "model_name": "ProgressStyleModel",
     "state": {
      "_model_module": "@jupyter-widgets/controls",
      "_model_module_version": "1.5.0",
      "_model_name": "ProgressStyleModel",
      "_view_count": null,
      "_view_module": "@jupyter-widgets/base",
      "_view_module_version": "1.2.0",
      "_view_name": "StyleView",
      "bar_color": null,
      "description_width": ""
     }
    },
    "0788e664cdf0410195d7c21be903e50b": {
     "model_module": "@jupyter-widgets/base",
     "model_module_version": "1.2.0",
     "model_name": "LayoutModel",
     "state": {
      "_model_module": "@jupyter-widgets/base",
      "_model_module_version": "1.2.0",
      "_model_name": "LayoutModel",
      "_view_count": null,
      "_view_module": "@jupyter-widgets/base",
      "_view_module_version": "1.2.0",
      "_view_name": "LayoutView",
      "align_content": null,
      "align_items": null,
      "align_self": null,
      "border": null,
      "bottom": null,
      "display": null,
      "flex": null,
      "flex_flow": null,
      "grid_area": null,
      "grid_auto_columns": null,
      "grid_auto_flow": null,
      "grid_auto_rows": null,
      "grid_column": null,
      "grid_gap": null,
      "grid_row": null,
      "grid_template_areas": null,
      "grid_template_columns": null,
      "grid_template_rows": null,
      "height": null,
      "justify_content": null,
      "justify_items": null,
      "left": null,
      "margin": null,
      "max_height": null,
      "max_width": null,
      "min_height": null,
      "min_width": null,
      "object_fit": null,
      "object_position": null,
      "order": null,
      "overflow": null,
      "overflow_x": null,
      "overflow_y": null,
      "padding": null,
      "right": null,
      "top": null,
      "visibility": null,
      "width": null
     }
    },
    "0a5c69b869304a53b8f3d86a7afceedf": {
     "model_module": "@jupyter-widgets/base",
     "model_module_version": "1.2.0",
     "model_name": "LayoutModel",
     "state": {
      "_model_module": "@jupyter-widgets/base",
      "_model_module_version": "1.2.0",
      "_model_name": "LayoutModel",
      "_view_count": null,
      "_view_module": "@jupyter-widgets/base",
      "_view_module_version": "1.2.0",
      "_view_name": "LayoutView",
      "align_content": null,
      "align_items": null,
      "align_self": null,
      "border": null,
      "bottom": null,
      "display": null,
      "flex": "2",
      "flex_flow": null,
      "grid_area": null,
      "grid_auto_columns": null,
      "grid_auto_flow": null,
      "grid_auto_rows": null,
      "grid_column": null,
      "grid_gap": null,
      "grid_row": null,
      "grid_template_areas": null,
      "grid_template_columns": null,
      "grid_template_rows": null,
      "height": null,
      "justify_content": null,
      "justify_items": null,
      "left": null,
      "margin": null,
      "max_height": null,
      "max_width": null,
      "min_height": null,
      "min_width": null,
      "object_fit": null,
      "object_position": null,
      "order": null,
      "overflow": null,
      "overflow_x": null,
      "overflow_y": null,
      "padding": null,
      "right": null,
      "top": null,
      "visibility": null,
      "width": null
     }
    },
    "0a61be0d43794a48a69bcc2029e3a133": {
     "model_module": "@jupyter-widgets/controls",
     "model_module_version": "1.5.0",
     "model_name": "DescriptionStyleModel",
     "state": {
      "_model_module": "@jupyter-widgets/controls",
      "_model_module_version": "1.5.0",
      "_model_name": "DescriptionStyleModel",
      "_view_count": null,
      "_view_module": "@jupyter-widgets/base",
      "_view_module_version": "1.2.0",
      "_view_name": "StyleView",
      "description_width": ""
     }
    },
    "0ae3535277634b56917f7903e67e8427": {
     "model_module": "@jupyter-widgets/controls",
     "model_module_version": "1.5.0",
     "model_name": "FloatProgressModel",
     "state": {
      "_dom_classes": [],
      "_model_module": "@jupyter-widgets/controls",
      "_model_module_version": "1.5.0",
      "_model_name": "FloatProgressModel",
      "_view_count": null,
      "_view_module": "@jupyter-widgets/controls",
      "_view_module_version": "1.5.0",
      "_view_name": "ProgressView",
      "bar_style": "",
      "description": "",
      "description_tooltip": null,
      "layout": "IPY_MODEL_a80599e4d05f4b728084ea8e737fb033",
      "max": 8,
      "min": 0,
      "orientation": "horizontal",
      "style": "IPY_MODEL_427c6612d3c3406e901679db86c1a54e",
      "value": 8
     }
    },
    "0b96038bd21f406eae39bace3b3c4f64": {
     "model_module": "@jupyter-widgets/controls",
     "model_module_version": "1.5.0",
     "model_name": "HBoxModel",
     "state": {
      "_dom_classes": [],
      "_model_module": "@jupyter-widgets/controls",
      "_model_module_version": "1.5.0",
      "_model_name": "HBoxModel",
      "_view_count": null,
      "_view_module": "@jupyter-widgets/controls",
      "_view_module_version": "1.5.0",
      "_view_name": "HBoxView",
      "box_style": "",
      "children": [
       "IPY_MODEL_5d9432ac3ce14761ba208d8b98484d01",
       "IPY_MODEL_0ae3535277634b56917f7903e67e8427",
       "IPY_MODEL_4a82a102189c48b2989867f67e21ae86"
      ],
      "layout": "IPY_MODEL_ab0edc8cb22b4209b7aa40ac948ef72d"
     }
    },
    "0c22a056569740548eb94f11d2003872": {
     "model_module": "@jupyter-widgets/base",
     "model_module_version": "1.2.0",
     "model_name": "LayoutModel",
     "state": {
      "_model_module": "@jupyter-widgets/base",
      "_model_module_version": "1.2.0",
      "_model_name": "LayoutModel",
      "_view_count": null,
      "_view_module": "@jupyter-widgets/base",
      "_view_module_version": "1.2.0",
      "_view_name": "LayoutView",
      "align_content": null,
      "align_items": null,
      "align_self": null,
      "border": null,
      "bottom": null,
      "display": null,
      "flex": null,
      "flex_flow": null,
      "grid_area": null,
      "grid_auto_columns": null,
      "grid_auto_flow": null,
      "grid_auto_rows": null,
      "grid_column": null,
      "grid_gap": null,
      "grid_row": null,
      "grid_template_areas": null,
      "grid_template_columns": null,
      "grid_template_rows": null,
      "height": null,
      "justify_content": null,
      "justify_items": null,
      "left": null,
      "margin": null,
      "max_height": null,
      "max_width": null,
      "min_height": null,
      "min_width": null,
      "object_fit": null,
      "object_position": null,
      "order": null,
      "overflow": null,
      "overflow_x": null,
      "overflow_y": null,
      "padding": null,
      "right": null,
      "top": null,
      "visibility": null,
      "width": null
     }
    },
    "0c6a2c50d87a42baa235ed313605dd3d": {
     "model_module": "@jupyter-widgets/controls",
     "model_module_version": "1.5.0",
     "model_name": "FloatProgressModel",
     "state": {
      "_dom_classes": [],
      "_model_module": "@jupyter-widgets/controls",
      "_model_module_version": "1.5.0",
      "_model_name": "FloatProgressModel",
      "_view_count": null,
      "_view_module": "@jupyter-widgets/controls",
      "_view_module_version": "1.5.0",
      "_view_name": "ProgressView",
      "bar_style": "",
      "description": "",
      "description_tooltip": null,
      "layout": "IPY_MODEL_b5b8a264354c40409eaec8e7fd2ccd92",
      "max": 8,
      "min": 0,
      "orientation": "horizontal",
      "style": "IPY_MODEL_d01e0c8a69a14578a2842c3949c721a3",
      "value": 8
     }
    },
    "10a566efd6fa45728eff83ae2829e19d": {
     "model_module": "@jupyter-widgets/controls",
     "model_module_version": "1.5.0",
     "model_name": "HTMLModel",
     "state": {
      "_dom_classes": [],
      "_model_module": "@jupyter-widgets/controls",
      "_model_module_version": "1.5.0",
      "_model_name": "HTMLModel",
      "_view_count": null,
      "_view_module": "@jupyter-widgets/controls",
      "_view_module_version": "1.5.0",
      "_view_name": "HTMLView",
      "description": "",
      "description_tooltip": null,
      "layout": "IPY_MODEL_c744451ee27642e8a5808092a0984a00",
      "placeholder": "​",
      "style": "IPY_MODEL_e4a9b6d66e9d4d289ff4170276f4ac0e",
      "value": "Epoch 5: 100%"
     }
    },
    "10dccb827e084abfb6542de89fbd96d2": {
     "model_module": "@jupyter-widgets/base",
     "model_module_version": "1.2.0",
     "model_name": "LayoutModel",
     "state": {
      "_model_module": "@jupyter-widgets/base",
      "_model_module_version": "1.2.0",
      "_model_name": "LayoutModel",
      "_view_count": null,
      "_view_module": "@jupyter-widgets/base",
      "_view_module_version": "1.2.0",
      "_view_name": "LayoutView",
      "align_content": null,
      "align_items": null,
      "align_self": null,
      "border": null,
      "bottom": null,
      "display": null,
      "flex": null,
      "flex_flow": null,
      "grid_area": null,
      "grid_auto_columns": null,
      "grid_auto_flow": null,
      "grid_auto_rows": null,
      "grid_column": null,
      "grid_gap": null,
      "grid_row": null,
      "grid_template_areas": null,
      "grid_template_columns": null,
      "grid_template_rows": null,
      "height": null,
      "justify_content": null,
      "justify_items": null,
      "left": null,
      "margin": null,
      "max_height": null,
      "max_width": null,
      "min_height": null,
      "min_width": null,
      "object_fit": null,
      "object_position": null,
      "order": null,
      "overflow": null,
      "overflow_x": null,
      "overflow_y": null,
      "padding": null,
      "right": null,
      "top": null,
      "visibility": null,
      "width": null
     }
    },
    "10fbfd9bb2f04e2385b7749a5b8dce6d": {
     "model_module": "@jupyter-widgets/controls",
     "model_module_version": "1.5.0",
     "model_name": "DescriptionStyleModel",
     "state": {
      "_model_module": "@jupyter-widgets/controls",
      "_model_module_version": "1.5.0",
      "_model_name": "DescriptionStyleModel",
      "_view_count": null,
      "_view_module": "@jupyter-widgets/base",
      "_view_module_version": "1.2.0",
      "_view_name": "StyleView",
      "description_width": ""
     }
    },
    "12e8aa6cbf0e4abd85670658211fd210": {
     "model_module": "@jupyter-widgets/controls",
     "model_module_version": "1.5.0",
     "model_name": "DescriptionStyleModel",
     "state": {
      "_model_module": "@jupyter-widgets/controls",
      "_model_module_version": "1.5.0",
      "_model_name": "DescriptionStyleModel",
      "_view_count": null,
      "_view_module": "@jupyter-widgets/base",
      "_view_module_version": "1.2.0",
      "_view_name": "StyleView",
      "description_width": ""
     }
    },
    "166732600df449b1846819c07b0083df": {
     "model_module": "@jupyter-widgets/controls",
     "model_module_version": "1.5.0",
     "model_name": "ProgressStyleModel",
     "state": {
      "_model_module": "@jupyter-widgets/controls",
      "_model_module_version": "1.5.0",
      "_model_name": "ProgressStyleModel",
      "_view_count": null,
      "_view_module": "@jupyter-widgets/base",
      "_view_module_version": "1.2.0",
      "_view_name": "StyleView",
      "bar_color": null,
      "description_width": ""
     }
    },
    "18985a6728ee408f9697635a149ac1d1": {
     "model_module": "@jupyter-widgets/controls",
     "model_module_version": "1.5.0",
     "model_name": "FloatProgressModel",
     "state": {
      "_dom_classes": [],
      "_model_module": "@jupyter-widgets/controls",
      "_model_module_version": "1.5.0",
      "_model_name": "FloatProgressModel",
      "_view_count": null,
      "_view_module": "@jupyter-widgets/controls",
      "_view_module_version": "1.5.0",
      "_view_name": "ProgressView",
      "bar_style": "",
      "description": "",
      "description_tooltip": null,
      "layout": "IPY_MODEL_a33f9442b8924314a94814c1a092fc7a",
      "max": 8,
      "min": 0,
      "orientation": "horizontal",
      "style": "IPY_MODEL_166732600df449b1846819c07b0083df",
      "value": 8
     }
    },
    "197953b173f848eebf0018c283ee670e": {
     "model_module": "@jupyter-widgets/controls",
     "model_module_version": "1.5.0",
     "model_name": "HTMLModel",
     "state": {
      "_dom_classes": [],
      "_model_module": "@jupyter-widgets/controls",
      "_model_module_version": "1.5.0",
      "_model_name": "HTMLModel",
      "_view_count": null,
      "_view_module": "@jupyter-widgets/controls",
      "_view_module_version": "1.5.0",
      "_view_name": "HTMLView",
      "description": "",
      "description_tooltip": null,
      "layout": "IPY_MODEL_54fd7fec530a4cce9ac1d7501b537a21",
      "placeholder": "​",
      "style": "IPY_MODEL_c799fa77ad5943fead003dd0e254b3af",
      "value": "Validation DataLoader 0: 100%"
     }
    },
    "19e87e7532d946dd8607ce2b67c49e56": {
     "model_module": "@jupyter-widgets/controls",
     "model_module_version": "1.5.0",
     "model_name": "HTMLModel",
     "state": {
      "_dom_classes": [],
      "_model_module": "@jupyter-widgets/controls",
      "_model_module_version": "1.5.0",
      "_model_name": "HTMLModel",
      "_view_count": null,
      "_view_module": "@jupyter-widgets/controls",
      "_view_module_version": "1.5.0",
      "_view_name": "HTMLView",
      "description": "",
      "description_tooltip": null,
      "layout": "IPY_MODEL_0788e664cdf0410195d7c21be903e50b",
      "placeholder": "​",
      "style": "IPY_MODEL_35404cb39f354f27b10975729ce263a5",
      "value": " 8/8 [00:00&lt;00:00, 20.06it/s]"
     }
    },
    "1a9e25f901944aca80a760412be1805e": {
     "model_module": "@jupyter-widgets/base",
     "model_module_version": "1.2.0",
     "model_name": "LayoutModel",
     "state": {
      "_model_module": "@jupyter-widgets/base",
      "_model_module_version": "1.2.0",
      "_model_name": "LayoutModel",
      "_view_count": null,
      "_view_module": "@jupyter-widgets/base",
      "_view_module_version": "1.2.0",
      "_view_name": "LayoutView",
      "align_content": null,
      "align_items": null,
      "align_self": null,
      "border": null,
      "bottom": null,
      "display": "inline-flex",
      "flex": null,
      "flex_flow": "row wrap",
      "grid_area": null,
      "grid_auto_columns": null,
      "grid_auto_flow": null,
      "grid_auto_rows": null,
      "grid_column": null,
      "grid_gap": null,
      "grid_row": null,
      "grid_template_areas": null,
      "grid_template_columns": null,
      "grid_template_rows": null,
      "height": null,
      "justify_content": null,
      "justify_items": null,
      "left": null,
      "margin": null,
      "max_height": null,
      "max_width": null,
      "min_height": null,
      "min_width": null,
      "object_fit": null,
      "object_position": null,
      "order": null,
      "overflow": null,
      "overflow_x": null,
      "overflow_y": null,
      "padding": null,
      "right": null,
      "top": null,
      "visibility": "hidden",
      "width": "100%"
     }
    },
    "1aab6a9472484f639445775299050bf5": {
     "model_module": "@jupyter-widgets/controls",
     "model_module_version": "1.5.0",
     "model_name": "HTMLModel",
     "state": {
      "_dom_classes": [],
      "_model_module": "@jupyter-widgets/controls",
      "_model_module_version": "1.5.0",
      "_model_name": "HTMLModel",
      "_view_count": null,
      "_view_module": "@jupyter-widgets/controls",
      "_view_module_version": "1.5.0",
      "_view_name": "HTMLView",
      "description": "",
      "description_tooltip": null,
      "layout": "IPY_MODEL_485523b5eafb4a0f9125d42ae43bed4c",
      "placeholder": "​",
      "style": "IPY_MODEL_61055d9ae4a84e3fb95a0ea38c5c55bb",
      "value": " 16/16 [00:02&lt;00:00,  7.16it/s, v_num=0, val_loss=1.530, train_loss=2.120]"
     }
    },
    "1c3dfaa8b98843d497af9784791265d8": {
     "model_module": "@jupyter-widgets/controls",
     "model_module_version": "1.5.0",
     "model_name": "HTMLModel",
     "state": {
      "_dom_classes": [],
      "_model_module": "@jupyter-widgets/controls",
      "_model_module_version": "1.5.0",
      "_model_name": "HTMLModel",
      "_view_count": null,
      "_view_module": "@jupyter-widgets/controls",
      "_view_module_version": "1.5.0",
      "_view_name": "HTMLView",
      "description": "",
      "description_tooltip": null,
      "layout": "IPY_MODEL_f9a4bc9e929e43c0b72483728b5fd580",
      "placeholder": "​",
      "style": "IPY_MODEL_6474fef2f28e42f79b969f6da1c19325",
      "value": "Sanity Checking DataLoader 0: 100%"
     }
    },
    "1f2af87e3c4e40468059745c3447e6d6": {
     "model_module": "@jupyter-widgets/base",
     "model_module_version": "1.2.0",
     "model_name": "LayoutModel",
     "state": {
      "_model_module": "@jupyter-widgets/base",
      "_model_module_version": "1.2.0",
      "_model_name": "LayoutModel",
      "_view_count": null,
      "_view_module": "@jupyter-widgets/base",
      "_view_module_version": "1.2.0",
      "_view_name": "LayoutView",
      "align_content": null,
      "align_items": null,
      "align_self": null,
      "border": null,
      "bottom": null,
      "display": null,
      "flex": null,
      "flex_flow": null,
      "grid_area": null,
      "grid_auto_columns": null,
      "grid_auto_flow": null,
      "grid_auto_rows": null,
      "grid_column": null,
      "grid_gap": null,
      "grid_row": null,
      "grid_template_areas": null,
      "grid_template_columns": null,
      "grid_template_rows": null,
      "height": null,
      "justify_content": null,
      "justify_items": null,
      "left": null,
      "margin": null,
      "max_height": null,
      "max_width": null,
      "min_height": null,
      "min_width": null,
      "object_fit": null,
      "object_position": null,
      "order": null,
      "overflow": null,
      "overflow_x": null,
      "overflow_y": null,
      "padding": null,
      "right": null,
      "top": null,
      "visibility": null,
      "width": null
     }
    },
    "2042bc6d5099477f8cedf3e2aed3ffb5": {
     "model_module": "@jupyter-widgets/controls",
     "model_module_version": "1.5.0",
     "model_name": "HTMLModel",
     "state": {
      "_dom_classes": [],
      "_model_module": "@jupyter-widgets/controls",
      "_model_module_version": "1.5.0",
      "_model_name": "HTMLModel",
      "_view_count": null,
      "_view_module": "@jupyter-widgets/controls",
      "_view_module_version": "1.5.0",
      "_view_name": "HTMLView",
      "description": "",
      "description_tooltip": null,
      "layout": "IPY_MODEL_6bed05e93d6846f8aa08fe6aed63cebe",
      "placeholder": "​",
      "style": "IPY_MODEL_e7bcfcdfde0741748237a3f462e707cb",
      "value": "Validation DataLoader 0: 100%"
     }
    },
    "2103d0f3105a40318b21c13ba5d30350": {
     "model_module": "@jupyter-widgets/base",
     "model_module_version": "1.2.0",
     "model_name": "LayoutModel",
     "state": {
      "_model_module": "@jupyter-widgets/base",
      "_model_module_version": "1.2.0",
      "_model_name": "LayoutModel",
      "_view_count": null,
      "_view_module": "@jupyter-widgets/base",
      "_view_module_version": "1.2.0",
      "_view_name": "LayoutView",
      "align_content": null,
      "align_items": null,
      "align_self": null,
      "border": null,
      "bottom": null,
      "display": null,
      "flex": null,
      "flex_flow": null,
      "grid_area": null,
      "grid_auto_columns": null,
      "grid_auto_flow": null,
      "grid_auto_rows": null,
      "grid_column": null,
      "grid_gap": null,
      "grid_row": null,
      "grid_template_areas": null,
      "grid_template_columns": null,
      "grid_template_rows": null,
      "height": null,
      "justify_content": null,
      "justify_items": null,
      "left": null,
      "margin": null,
      "max_height": null,
      "max_width": null,
      "min_height": null,
      "min_width": null,
      "object_fit": null,
      "object_position": null,
      "order": null,
      "overflow": null,
      "overflow_x": null,
      "overflow_y": null,
      "padding": null,
      "right": null,
      "top": null,
      "visibility": null,
      "width": null
     }
    },
    "214712b765b648238f6f41822a7b8904": {
     "model_module": "@jupyter-widgets/base",
     "model_module_version": "1.2.0",
     "model_name": "LayoutModel",
     "state": {
      "_model_module": "@jupyter-widgets/base",
      "_model_module_version": "1.2.0",
      "_model_name": "LayoutModel",
      "_view_count": null,
      "_view_module": "@jupyter-widgets/base",
      "_view_module_version": "1.2.0",
      "_view_name": "LayoutView",
      "align_content": null,
      "align_items": null,
      "align_self": null,
      "border": null,
      "bottom": null,
      "display": "inline-flex",
      "flex": null,
      "flex_flow": "row wrap",
      "grid_area": null,
      "grid_auto_columns": null,
      "grid_auto_flow": null,
      "grid_auto_rows": null,
      "grid_column": null,
      "grid_gap": null,
      "grid_row": null,
      "grid_template_areas": null,
      "grid_template_columns": null,
      "grid_template_rows": null,
      "height": null,
      "justify_content": null,
      "justify_items": null,
      "left": null,
      "margin": null,
      "max_height": null,
      "max_width": null,
      "min_height": null,
      "min_width": null,
      "object_fit": null,
      "object_position": null,
      "order": null,
      "overflow": null,
      "overflow_x": null,
      "overflow_y": null,
      "padding": null,
      "right": null,
      "top": null,
      "visibility": null,
      "width": "100%"
     }
    },
    "231bec6101c6413eb07b49bcfdb3dd2e": {
     "model_module": "@jupyter-widgets/controls",
     "model_module_version": "1.5.0",
     "model_name": "DescriptionStyleModel",
     "state": {
      "_model_module": "@jupyter-widgets/controls",
      "_model_module_version": "1.5.0",
      "_model_name": "DescriptionStyleModel",
      "_view_count": null,
      "_view_module": "@jupyter-widgets/base",
      "_view_module_version": "1.2.0",
      "_view_name": "StyleView",
      "description_width": ""
     }
    },
    "27bf7d08b8d24aa291adfb25e209164a": {
     "model_module": "@jupyter-widgets/controls",
     "model_module_version": "1.5.0",
     "model_name": "FloatProgressModel",
     "state": {
      "_dom_classes": [],
      "_model_module": "@jupyter-widgets/controls",
      "_model_module_version": "1.5.0",
      "_model_name": "FloatProgressModel",
      "_view_count": null,
      "_view_module": "@jupyter-widgets/controls",
      "_view_module_version": "1.5.0",
      "_view_name": "ProgressView",
      "bar_style": "",
      "description": "",
      "description_tooltip": null,
      "layout": "IPY_MODEL_8aaf784c7e1d4f159610468dafb94e3c",
      "max": 8,
      "min": 0,
      "orientation": "horizontal",
      "style": "IPY_MODEL_39e6413f1731470797eb8f38fda3397b",
      "value": 8
     }
    },
    "2f2b6e4878f54328817d92c60927028f": {
     "model_module": "@jupyter-widgets/controls",
     "model_module_version": "1.5.0",
     "model_name": "DescriptionStyleModel",
     "state": {
      "_model_module": "@jupyter-widgets/controls",
      "_model_module_version": "1.5.0",
      "_model_name": "DescriptionStyleModel",
      "_view_count": null,
      "_view_module": "@jupyter-widgets/base",
      "_view_module_version": "1.2.0",
      "_view_name": "StyleView",
      "description_width": ""
     }
    },
    "2ff92648053941678bb1735adae9fcbd": {
     "model_module": "@jupyter-widgets/controls",
     "model_module_version": "1.5.0",
     "model_name": "HTMLModel",
     "state": {
      "_dom_classes": [],
      "_model_module": "@jupyter-widgets/controls",
      "_model_module_version": "1.5.0",
      "_model_name": "HTMLModel",
      "_view_count": null,
      "_view_module": "@jupyter-widgets/controls",
      "_view_module_version": "1.5.0",
      "_view_name": "HTMLView",
      "description": "",
      "description_tooltip": null,
      "layout": "IPY_MODEL_6a0fb3c0a4504bb5a5a40d38e2ee1d87",
      "placeholder": "​",
      "style": "IPY_MODEL_ba098a25c6484ff68794f42dfc5986de",
      "value": "Validation DataLoader 0: 100%"
     }
    },
    "35404cb39f354f27b10975729ce263a5": {
     "model_module": "@jupyter-widgets/controls",
     "model_module_version": "1.5.0",
     "model_name": "DescriptionStyleModel",
     "state": {
      "_model_module": "@jupyter-widgets/controls",
      "_model_module_version": "1.5.0",
      "_model_name": "DescriptionStyleModel",
      "_view_count": null,
      "_view_module": "@jupyter-widgets/base",
      "_view_module_version": "1.2.0",
      "_view_name": "StyleView",
      "description_width": ""
     }
    },
    "3886a0016f4443729db27055144e20b7": {
     "model_module": "@jupyter-widgets/controls",
     "model_module_version": "1.5.0",
     "model_name": "DescriptionStyleModel",
     "state": {
      "_model_module": "@jupyter-widgets/controls",
      "_model_module_version": "1.5.0",
      "_model_name": "DescriptionStyleModel",
      "_view_count": null,
      "_view_module": "@jupyter-widgets/base",
      "_view_module_version": "1.2.0",
      "_view_name": "StyleView",
      "description_width": ""
     }
    },
    "39e6413f1731470797eb8f38fda3397b": {
     "model_module": "@jupyter-widgets/controls",
     "model_module_version": "1.5.0",
     "model_name": "ProgressStyleModel",
     "state": {
      "_model_module": "@jupyter-widgets/controls",
      "_model_module_version": "1.5.0",
      "_model_name": "ProgressStyleModel",
      "_view_count": null,
      "_view_module": "@jupyter-widgets/base",
      "_view_module_version": "1.2.0",
      "_view_name": "StyleView",
      "bar_color": null,
      "description_width": ""
     }
    },
    "3d9e07aa3a8a4ae4906686965b6c2f62": {
     "model_module": "@jupyter-widgets/controls",
     "model_module_version": "1.5.0",
     "model_name": "FloatProgressModel",
     "state": {
      "_dom_classes": [],
      "_model_module": "@jupyter-widgets/controls",
      "_model_module_version": "1.5.0",
      "_model_name": "FloatProgressModel",
      "_view_count": null,
      "_view_module": "@jupyter-widgets/controls",
      "_view_module_version": "1.5.0",
      "_view_name": "ProgressView",
      "bar_style": "",
      "description": "",
      "description_tooltip": null,
      "layout": "IPY_MODEL_cc0eece1320b4abab71281da175114ee",
      "max": 8,
      "min": 0,
      "orientation": "horizontal",
      "style": "IPY_MODEL_465ff3c5de1a4764914c05abe985baca",
      "value": 8
     }
    },
    "427c6612d3c3406e901679db86c1a54e": {
     "model_module": "@jupyter-widgets/controls",
     "model_module_version": "1.5.0",
     "model_name": "ProgressStyleModel",
     "state": {
      "_model_module": "@jupyter-widgets/controls",
      "_model_module_version": "1.5.0",
      "_model_name": "ProgressStyleModel",
      "_view_count": null,
      "_view_module": "@jupyter-widgets/base",
      "_view_module_version": "1.2.0",
      "_view_name": "StyleView",
      "bar_color": null,
      "description_width": ""
     }
    },
    "42b6fae4b8014185b88755e6f96033cc": {
     "model_module": "@jupyter-widgets/controls",
     "model_module_version": "1.5.0",
     "model_name": "FloatProgressModel",
     "state": {
      "_dom_classes": [],
      "_model_module": "@jupyter-widgets/controls",
      "_model_module_version": "1.5.0",
      "_model_name": "FloatProgressModel",
      "_view_count": null,
      "_view_module": "@jupyter-widgets/controls",
      "_view_module_version": "1.5.0",
      "_view_name": "ProgressView",
      "bar_style": "",
      "description": "",
      "description_tooltip": null,
      "layout": "IPY_MODEL_763dc665c5f649ce987aa6e32d0cb67f",
      "max": 2,
      "min": 0,
      "orientation": "horizontal",
      "style": "IPY_MODEL_e9c592e268014cb48e718dd86ec85c92",
      "value": 2
     }
    },
    "42beff0e6e724a2ea0a2c967fa178a92": {
     "model_module": "@jupyter-widgets/controls",
     "model_module_version": "1.5.0",
     "model_name": "HTMLModel",
     "state": {
      "_dom_classes": [],
      "_model_module": "@jupyter-widgets/controls",
      "_model_module_version": "1.5.0",
      "_model_name": "HTMLModel",
      "_view_count": null,
      "_view_module": "@jupyter-widgets/controls",
      "_view_module_version": "1.5.0",
      "_view_name": "HTMLView",
      "description": "",
      "description_tooltip": null,
      "layout": "IPY_MODEL_70597a77e1624e8cb63fccfa6c8fd322",
      "placeholder": "​",
      "style": "IPY_MODEL_5028aeb0a0e84b12a31092ff5908c297",
      "value": " 8/8 [00:00&lt;00:00, 20.38it/s]"
     }
    },
    "45ffb4066c054a629fd92b5a47204fea": {
     "model_module": "@jupyter-widgets/base",
     "model_module_version": "1.2.0",
     "model_name": "LayoutModel",
     "state": {
      "_model_module": "@jupyter-widgets/base",
      "_model_module_version": "1.2.0",
      "_model_name": "LayoutModel",
      "_view_count": null,
      "_view_module": "@jupyter-widgets/base",
      "_view_module_version": "1.2.0",
      "_view_name": "LayoutView",
      "align_content": null,
      "align_items": null,
      "align_self": null,
      "border": null,
      "bottom": null,
      "display": null,
      "flex": null,
      "flex_flow": null,
      "grid_area": null,
      "grid_auto_columns": null,
      "grid_auto_flow": null,
      "grid_auto_rows": null,
      "grid_column": null,
      "grid_gap": null,
      "grid_row": null,
      "grid_template_areas": null,
      "grid_template_columns": null,
      "grid_template_rows": null,
      "height": null,
      "justify_content": null,
      "justify_items": null,
      "left": null,
      "margin": null,
      "max_height": null,
      "max_width": null,
      "min_height": null,
      "min_width": null,
      "object_fit": null,
      "object_position": null,
      "order": null,
      "overflow": null,
      "overflow_x": null,
      "overflow_y": null,
      "padding": null,
      "right": null,
      "top": null,
      "visibility": null,
      "width": null
     }
    },
    "465ff3c5de1a4764914c05abe985baca": {
     "model_module": "@jupyter-widgets/controls",
     "model_module_version": "1.5.0",
     "model_name": "ProgressStyleModel",
     "state": {
      "_model_module": "@jupyter-widgets/controls",
      "_model_module_version": "1.5.0",
      "_model_name": "ProgressStyleModel",
      "_view_count": null,
      "_view_module": "@jupyter-widgets/base",
      "_view_module_version": "1.2.0",
      "_view_name": "StyleView",
      "bar_color": null,
      "description_width": ""
     }
    },
    "470be0e2612d4729a174e84369697e89": {
     "model_module": "@jupyter-widgets/controls",
     "model_module_version": "1.5.0",
     "model_name": "ProgressStyleModel",
     "state": {
      "_model_module": "@jupyter-widgets/controls",
      "_model_module_version": "1.5.0",
      "_model_name": "ProgressStyleModel",
      "_view_count": null,
      "_view_module": "@jupyter-widgets/base",
      "_view_module_version": "1.2.0",
      "_view_name": "StyleView",
      "bar_color": null,
      "description_width": ""
     }
    },
    "485523b5eafb4a0f9125d42ae43bed4c": {
     "model_module": "@jupyter-widgets/base",
     "model_module_version": "1.2.0",
     "model_name": "LayoutModel",
     "state": {
      "_model_module": "@jupyter-widgets/base",
      "_model_module_version": "1.2.0",
      "_model_name": "LayoutModel",
      "_view_count": null,
      "_view_module": "@jupyter-widgets/base",
      "_view_module_version": "1.2.0",
      "_view_name": "LayoutView",
      "align_content": null,
      "align_items": null,
      "align_self": null,
      "border": null,
      "bottom": null,
      "display": null,
      "flex": null,
      "flex_flow": null,
      "grid_area": null,
      "grid_auto_columns": null,
      "grid_auto_flow": null,
      "grid_auto_rows": null,
      "grid_column": null,
      "grid_gap": null,
      "grid_row": null,
      "grid_template_areas": null,
      "grid_template_columns": null,
      "grid_template_rows": null,
      "height": null,
      "justify_content": null,
      "justify_items": null,
      "left": null,
      "margin": null,
      "max_height": null,
      "max_width": null,
      "min_height": null,
      "min_width": null,
      "object_fit": null,
      "object_position": null,
      "order": null,
      "overflow": null,
      "overflow_x": null,
      "overflow_y": null,
      "padding": null,
      "right": null,
      "top": null,
      "visibility": null,
      "width": null
     }
    },
    "4a82a102189c48b2989867f67e21ae86": {
     "model_module": "@jupyter-widgets/controls",
     "model_module_version": "1.5.0",
     "model_name": "HTMLModel",
     "state": {
      "_dom_classes": [],
      "_model_module": "@jupyter-widgets/controls",
      "_model_module_version": "1.5.0",
      "_model_name": "HTMLModel",
      "_view_count": null,
      "_view_module": "@jupyter-widgets/controls",
      "_view_module_version": "1.5.0",
      "_view_name": "HTMLView",
      "description": "",
      "description_tooltip": null,
      "layout": "IPY_MODEL_45ffb4066c054a629fd92b5a47204fea",
      "placeholder": "​",
      "style": "IPY_MODEL_3886a0016f4443729db27055144e20b7",
      "value": " 8/8 [00:00&lt;00:00, 17.96it/s]"
     }
    },
    "4b85731ab57c4f42a33f9ecaa1194d29": {
     "model_module": "@jupyter-widgets/base",
     "model_module_version": "1.2.0",
     "model_name": "LayoutModel",
     "state": {
      "_model_module": "@jupyter-widgets/base",
      "_model_module_version": "1.2.0",
      "_model_name": "LayoutModel",
      "_view_count": null,
      "_view_module": "@jupyter-widgets/base",
      "_view_module_version": "1.2.0",
      "_view_name": "LayoutView",
      "align_content": null,
      "align_items": null,
      "align_self": null,
      "border": null,
      "bottom": null,
      "display": null,
      "flex": "2",
      "flex_flow": null,
      "grid_area": null,
      "grid_auto_columns": null,
      "grid_auto_flow": null,
      "grid_auto_rows": null,
      "grid_column": null,
      "grid_gap": null,
      "grid_row": null,
      "grid_template_areas": null,
      "grid_template_columns": null,
      "grid_template_rows": null,
      "height": null,
      "justify_content": null,
      "justify_items": null,
      "left": null,
      "margin": null,
      "max_height": null,
      "max_width": null,
      "min_height": null,
      "min_width": null,
      "object_fit": null,
      "object_position": null,
      "order": null,
      "overflow": null,
      "overflow_x": null,
      "overflow_y": null,
      "padding": null,
      "right": null,
      "top": null,
      "visibility": null,
      "width": null
     }
    },
    "4c57638349734cf29ce055df655fff7a": {
     "model_module": "@jupyter-widgets/controls",
     "model_module_version": "1.5.0",
     "model_name": "DescriptionStyleModel",
     "state": {
      "_model_module": "@jupyter-widgets/controls",
      "_model_module_version": "1.5.0",
      "_model_name": "DescriptionStyleModel",
      "_view_count": null,
      "_view_module": "@jupyter-widgets/base",
      "_view_module_version": "1.2.0",
      "_view_name": "StyleView",
      "description_width": ""
     }
    },
    "5028aeb0a0e84b12a31092ff5908c297": {
     "model_module": "@jupyter-widgets/controls",
     "model_module_version": "1.5.0",
     "model_name": "DescriptionStyleModel",
     "state": {
      "_model_module": "@jupyter-widgets/controls",
      "_model_module_version": "1.5.0",
      "_model_name": "DescriptionStyleModel",
      "_view_count": null,
      "_view_module": "@jupyter-widgets/base",
      "_view_module_version": "1.2.0",
      "_view_name": "StyleView",
      "description_width": ""
     }
    },
    "53c52b90ecf84293b7ab456fd4125546": {
     "model_module": "@jupyter-widgets/controls",
     "model_module_version": "1.5.0",
     "model_name": "DescriptionStyleModel",
     "state": {
      "_model_module": "@jupyter-widgets/controls",
      "_model_module_version": "1.5.0",
      "_model_name": "DescriptionStyleModel",
      "_view_count": null,
      "_view_module": "@jupyter-widgets/base",
      "_view_module_version": "1.2.0",
      "_view_name": "StyleView",
      "description_width": ""
     }
    },
    "54fd7fec530a4cce9ac1d7501b537a21": {
     "model_module": "@jupyter-widgets/base",
     "model_module_version": "1.2.0",
     "model_name": "LayoutModel",
     "state": {
      "_model_module": "@jupyter-widgets/base",
      "_model_module_version": "1.2.0",
      "_model_name": "LayoutModel",
      "_view_count": null,
      "_view_module": "@jupyter-widgets/base",
      "_view_module_version": "1.2.0",
      "_view_name": "LayoutView",
      "align_content": null,
      "align_items": null,
      "align_self": null,
      "border": null,
      "bottom": null,
      "display": null,
      "flex": null,
      "flex_flow": null,
      "grid_area": null,
      "grid_auto_columns": null,
      "grid_auto_flow": null,
      "grid_auto_rows": null,
      "grid_column": null,
      "grid_gap": null,
      "grid_row": null,
      "grid_template_areas": null,
      "grid_template_columns": null,
      "grid_template_rows": null,
      "height": null,
      "justify_content": null,
      "justify_items": null,
      "left": null,
      "margin": null,
      "max_height": null,
      "max_width": null,
      "min_height": null,
      "min_width": null,
      "object_fit": null,
      "object_position": null,
      "order": null,
      "overflow": null,
      "overflow_x": null,
      "overflow_y": null,
      "padding": null,
      "right": null,
      "top": null,
      "visibility": null,
      "width": null
     }
    },
    "56b6084139144319822795a1b7dad34f": {
     "model_module": "@jupyter-widgets/base",
     "model_module_version": "1.2.0",
     "model_name": "LayoutModel",
     "state": {
      "_model_module": "@jupyter-widgets/base",
      "_model_module_version": "1.2.0",
      "_model_name": "LayoutModel",
      "_view_count": null,
      "_view_module": "@jupyter-widgets/base",
      "_view_module_version": "1.2.0",
      "_view_name": "LayoutView",
      "align_content": null,
      "align_items": null,
      "align_self": null,
      "border": null,
      "bottom": null,
      "display": "inline-flex",
      "flex": null,
      "flex_flow": "row wrap",
      "grid_area": null,
      "grid_auto_columns": null,
      "grid_auto_flow": null,
      "grid_auto_rows": null,
      "grid_column": null,
      "grid_gap": null,
      "grid_row": null,
      "grid_template_areas": null,
      "grid_template_columns": null,
      "grid_template_rows": null,
      "height": null,
      "justify_content": null,
      "justify_items": null,
      "left": null,
      "margin": null,
      "max_height": null,
      "max_width": null,
      "min_height": null,
      "min_width": null,
      "object_fit": null,
      "object_position": null,
      "order": null,
      "overflow": null,
      "overflow_x": null,
      "overflow_y": null,
      "padding": null,
      "right": null,
      "top": null,
      "visibility": "hidden",
      "width": "100%"
     }
    },
    "5752a61d74474dd09c8311dc58fbef89": {
     "model_module": "@jupyter-widgets/controls",
     "model_module_version": "1.5.0",
     "model_name": "HTMLModel",
     "state": {
      "_dom_classes": [],
      "_model_module": "@jupyter-widgets/controls",
      "_model_module_version": "1.5.0",
      "_model_name": "HTMLModel",
      "_view_count": null,
      "_view_module": "@jupyter-widgets/controls",
      "_view_module_version": "1.5.0",
      "_view_name": "HTMLView",
      "description": "",
      "description_tooltip": null,
      "layout": "IPY_MODEL_da9094b51c674ca0ad74b5ea5c73dbed",
      "placeholder": "​",
      "style": "IPY_MODEL_231bec6101c6413eb07b49bcfdb3dd2e",
      "value": " 2/2 [00:00&lt;00:00,  2.16it/s]"
     }
    },
    "597c772be8b3427abfcd83bcbfc0ce20": {
     "model_module": "@jupyter-widgets/controls",
     "model_module_version": "1.5.0",
     "model_name": "FloatProgressModel",
     "state": {
      "_dom_classes": [],
      "_model_module": "@jupyter-widgets/controls",
      "_model_module_version": "1.5.0",
      "_model_name": "FloatProgressModel",
      "_view_count": null,
      "_view_module": "@jupyter-widgets/controls",
      "_view_module_version": "1.5.0",
      "_view_name": "ProgressView",
      "bar_style": "",
      "description": "",
      "description_tooltip": null,
      "layout": "IPY_MODEL_7ac62ebce09c434b88ccb36f432b005c",
      "max": 2,
      "min": 0,
      "orientation": "horizontal",
      "style": "IPY_MODEL_e18e1f2089874b62b52ecde47ac2694f",
      "value": 2
     }
    },
    "5ae6232f22404d9db4b903f21365a737": {
     "model_module": "@jupyter-widgets/controls",
     "model_module_version": "1.5.0",
     "model_name": "HTMLModel",
     "state": {
      "_dom_classes": [],
      "_model_module": "@jupyter-widgets/controls",
      "_model_module_version": "1.5.0",
      "_model_name": "HTMLModel",
      "_view_count": null,
      "_view_module": "@jupyter-widgets/controls",
      "_view_module_version": "1.5.0",
      "_view_name": "HTMLView",
      "description": "",
      "description_tooltip": null,
      "layout": "IPY_MODEL_d8a74f349dbe4f49bf98602029edc293",
      "placeholder": "​",
      "style": "IPY_MODEL_dce673f369364b8c8ff156fbcae3256d",
      "value": " 8/8 [00:00&lt;00:00, 15.27it/s]"
     }
    },
    "5c6eb390527743c8971fa9eab46c2740": {
     "model_module": "@jupyter-widgets/controls",
     "model_module_version": "1.5.0",
     "model_name": "HTMLModel",
     "state": {
      "_dom_classes": [],
      "_model_module": "@jupyter-widgets/controls",
      "_model_module_version": "1.5.0",
      "_model_name": "HTMLModel",
      "_view_count": null,
      "_view_module": "@jupyter-widgets/controls",
      "_view_module_version": "1.5.0",
      "_view_name": "HTMLView",
      "description": "",
      "description_tooltip": null,
      "layout": "IPY_MODEL_2103d0f3105a40318b21c13ba5d30350",
      "placeholder": "​",
      "style": "IPY_MODEL_956fe4894c234410a96b610e447007f1",
      "value": "Validation DataLoader 0: 100%"
     }
    },
    "5d9432ac3ce14761ba208d8b98484d01": {
     "model_module": "@jupyter-widgets/controls",
     "model_module_version": "1.5.0",
     "model_name": "HTMLModel",
     "state": {
      "_dom_classes": [],
      "_model_module": "@jupyter-widgets/controls",
      "_model_module_version": "1.5.0",
      "_model_name": "HTMLModel",
      "_view_count": null,
      "_view_module": "@jupyter-widgets/controls",
      "_view_module_version": "1.5.0",
      "_view_name": "HTMLView",
      "description": "",
      "description_tooltip": null,
      "layout": "IPY_MODEL_e01bb82a7c634c4b9d521138d9320130",
      "placeholder": "​",
      "style": "IPY_MODEL_003a8948667b432c9628af7dbf496f9a",
      "value": "Validation DataLoader 0: 100%"
     }
    },
    "5f6f23c8ab9c48798a88de84258952a6": {
     "model_module": "@jupyter-widgets/controls",
     "model_module_version": "1.5.0",
     "model_name": "HTMLModel",
     "state": {
      "_dom_classes": [],
      "_model_module": "@jupyter-widgets/controls",
      "_model_module_version": "1.5.0",
      "_model_name": "HTMLModel",
      "_view_count": null,
      "_view_module": "@jupyter-widgets/controls",
      "_view_module_version": "1.5.0",
      "_view_name": "HTMLView",
      "description": "",
      "description_tooltip": null,
      "layout": "IPY_MODEL_8f60bb11aa87452e84e815ebe6fbf45b",
      "placeholder": "​",
      "style": "IPY_MODEL_53c52b90ecf84293b7ab456fd4125546",
      "value": "Epoch 1: 100%"
     }
    },
    "61055d9ae4a84e3fb95a0ea38c5c55bb": {
     "model_module": "@jupyter-widgets/controls",
     "model_module_version": "1.5.0",
     "model_name": "DescriptionStyleModel",
     "state": {
      "_model_module": "@jupyter-widgets/controls",
      "_model_module_version": "1.5.0",
      "_model_name": "DescriptionStyleModel",
      "_view_count": null,
      "_view_module": "@jupyter-widgets/base",
      "_view_module_version": "1.2.0",
      "_view_name": "StyleView",
      "description_width": ""
     }
    },
    "62acb0de4dc84a85aece03fcd4c60085": {
     "model_module": "@jupyter-widgets/controls",
     "model_module_version": "1.5.0",
     "model_name": "DescriptionStyleModel",
     "state": {
      "_model_module": "@jupyter-widgets/controls",
      "_model_module_version": "1.5.0",
      "_model_name": "DescriptionStyleModel",
      "_view_count": null,
      "_view_module": "@jupyter-widgets/base",
      "_view_module_version": "1.2.0",
      "_view_name": "StyleView",
      "description_width": ""
     }
    },
    "633b5e6b12a7463a9f26e60a62279d69": {
     "model_module": "@jupyter-widgets/base",
     "model_module_version": "1.2.0",
     "model_name": "LayoutModel",
     "state": {
      "_model_module": "@jupyter-widgets/base",
      "_model_module_version": "1.2.0",
      "_model_name": "LayoutModel",
      "_view_count": null,
      "_view_module": "@jupyter-widgets/base",
      "_view_module_version": "1.2.0",
      "_view_name": "LayoutView",
      "align_content": null,
      "align_items": null,
      "align_self": null,
      "border": null,
      "bottom": null,
      "display": "inline-flex",
      "flex": null,
      "flex_flow": "row wrap",
      "grid_area": null,
      "grid_auto_columns": null,
      "grid_auto_flow": null,
      "grid_auto_rows": null,
      "grid_column": null,
      "grid_gap": null,
      "grid_row": null,
      "grid_template_areas": null,
      "grid_template_columns": null,
      "grid_template_rows": null,
      "height": null,
      "justify_content": null,
      "justify_items": null,
      "left": null,
      "margin": null,
      "max_height": null,
      "max_width": null,
      "min_height": null,
      "min_width": null,
      "object_fit": null,
      "object_position": null,
      "order": null,
      "overflow": null,
      "overflow_x": null,
      "overflow_y": null,
      "padding": null,
      "right": null,
      "top": null,
      "visibility": "hidden",
      "width": "100%"
     }
    },
    "6474fef2f28e42f79b969f6da1c19325": {
     "model_module": "@jupyter-widgets/controls",
     "model_module_version": "1.5.0",
     "model_name": "DescriptionStyleModel",
     "state": {
      "_model_module": "@jupyter-widgets/controls",
      "_model_module_version": "1.5.0",
      "_model_name": "DescriptionStyleModel",
      "_view_count": null,
      "_view_module": "@jupyter-widgets/base",
      "_view_module_version": "1.2.0",
      "_view_name": "StyleView",
      "description_width": ""
     }
    },
    "652e286be59f48418851e49f4ab193dd": {
     "model_module": "@jupyter-widgets/controls",
     "model_module_version": "1.5.0",
     "model_name": "HBoxModel",
     "state": {
      "_dom_classes": [],
      "_model_module": "@jupyter-widgets/controls",
      "_model_module_version": "1.5.0",
      "_model_name": "HBoxModel",
      "_view_count": null,
      "_view_module": "@jupyter-widgets/controls",
      "_view_module_version": "1.5.0",
      "_view_name": "HBoxView",
      "box_style": "",
      "children": [
       "IPY_MODEL_197953b173f848eebf0018c283ee670e",
       "IPY_MODEL_7f28c79cd41844b5afbf4e0aa0bd8165",
       "IPY_MODEL_42beff0e6e724a2ea0a2c967fa178a92"
      ],
      "layout": "IPY_MODEL_fd5fa00522e44d5e9fe00813658d957c"
     }
    },
    "66d65a1ea6b44abdaaef84fbadd9621e": {
     "model_module": "@jupyter-widgets/base",
     "model_module_version": "1.2.0",
     "model_name": "LayoutModel",
     "state": {
      "_model_module": "@jupyter-widgets/base",
      "_model_module_version": "1.2.0",
      "_model_name": "LayoutModel",
      "_view_count": null,
      "_view_module": "@jupyter-widgets/base",
      "_view_module_version": "1.2.0",
      "_view_name": "LayoutView",
      "align_content": null,
      "align_items": null,
      "align_self": null,
      "border": null,
      "bottom": null,
      "display": null,
      "flex": null,
      "flex_flow": null,
      "grid_area": null,
      "grid_auto_columns": null,
      "grid_auto_flow": null,
      "grid_auto_rows": null,
      "grid_column": null,
      "grid_gap": null,
      "grid_row": null,
      "grid_template_areas": null,
      "grid_template_columns": null,
      "grid_template_rows": null,
      "height": null,
      "justify_content": null,
      "justify_items": null,
      "left": null,
      "margin": null,
      "max_height": null,
      "max_width": null,
      "min_height": null,
      "min_width": null,
      "object_fit": null,
      "object_position": null,
      "order": null,
      "overflow": null,
      "overflow_x": null,
      "overflow_y": null,
      "padding": null,
      "right": null,
      "top": null,
      "visibility": null,
      "width": null
     }
    },
    "6a0fb3c0a4504bb5a5a40d38e2ee1d87": {
     "model_module": "@jupyter-widgets/base",
     "model_module_version": "1.2.0",
     "model_name": "LayoutModel",
     "state": {
      "_model_module": "@jupyter-widgets/base",
      "_model_module_version": "1.2.0",
      "_model_name": "LayoutModel",
      "_view_count": null,
      "_view_module": "@jupyter-widgets/base",
      "_view_module_version": "1.2.0",
      "_view_name": "LayoutView",
      "align_content": null,
      "align_items": null,
      "align_self": null,
      "border": null,
      "bottom": null,
      "display": null,
      "flex": null,
      "flex_flow": null,
      "grid_area": null,
      "grid_auto_columns": null,
      "grid_auto_flow": null,
      "grid_auto_rows": null,
      "grid_column": null,
      "grid_gap": null,
      "grid_row": null,
      "grid_template_areas": null,
      "grid_template_columns": null,
      "grid_template_rows": null,
      "height": null,
      "justify_content": null,
      "justify_items": null,
      "left": null,
      "margin": null,
      "max_height": null,
      "max_width": null,
      "min_height": null,
      "min_width": null,
      "object_fit": null,
      "object_position": null,
      "order": null,
      "overflow": null,
      "overflow_x": null,
      "overflow_y": null,
      "padding": null,
      "right": null,
      "top": null,
      "visibility": null,
      "width": null
     }
    },
    "6abe88317ac34650bf7641d5bc3b06ea": {
     "model_module": "@jupyter-widgets/controls",
     "model_module_version": "1.5.0",
     "model_name": "HTMLModel",
     "state": {
      "_dom_classes": [],
      "_model_module": "@jupyter-widgets/controls",
      "_model_module_version": "1.5.0",
      "_model_name": "HTMLModel",
      "_view_count": null,
      "_view_module": "@jupyter-widgets/controls",
      "_view_module_version": "1.5.0",
      "_view_name": "HTMLView",
      "description": "",
      "description_tooltip": null,
      "layout": "IPY_MODEL_1f2af87e3c4e40468059745c3447e6d6",
      "placeholder": "​",
      "style": "IPY_MODEL_2f2b6e4878f54328817d92c60927028f",
      "value": " 8/8 [00:00&lt;00:00, 17.33it/s]"
     }
    },
    "6bed05e93d6846f8aa08fe6aed63cebe": {
     "model_module": "@jupyter-widgets/base",
     "model_module_version": "1.2.0",
     "model_name": "LayoutModel",
     "state": {
      "_model_module": "@jupyter-widgets/base",
      "_model_module_version": "1.2.0",
      "_model_name": "LayoutModel",
      "_view_count": null,
      "_view_module": "@jupyter-widgets/base",
      "_view_module_version": "1.2.0",
      "_view_name": "LayoutView",
      "align_content": null,
      "align_items": null,
      "align_self": null,
      "border": null,
      "bottom": null,
      "display": null,
      "flex": null,
      "flex_flow": null,
      "grid_area": null,
      "grid_auto_columns": null,
      "grid_auto_flow": null,
      "grid_auto_rows": null,
      "grid_column": null,
      "grid_gap": null,
      "grid_row": null,
      "grid_template_areas": null,
      "grid_template_columns": null,
      "grid_template_rows": null,
      "height": null,
      "justify_content": null,
      "justify_items": null,
      "left": null,
      "margin": null,
      "max_height": null,
      "max_width": null,
      "min_height": null,
      "min_width": null,
      "object_fit": null,
      "object_position": null,
      "order": null,
      "overflow": null,
      "overflow_x": null,
      "overflow_y": null,
      "padding": null,
      "right": null,
      "top": null,
      "visibility": null,
      "width": null
     }
    },
    "70597a77e1624e8cb63fccfa6c8fd322": {
     "model_module": "@jupyter-widgets/base",
     "model_module_version": "1.2.0",
     "model_name": "LayoutModel",
     "state": {
      "_model_module": "@jupyter-widgets/base",
      "_model_module_version": "1.2.0",
      "_model_name": "LayoutModel",
      "_view_count": null,
      "_view_module": "@jupyter-widgets/base",
      "_view_module_version": "1.2.0",
      "_view_name": "LayoutView",
      "align_content": null,
      "align_items": null,
      "align_self": null,
      "border": null,
      "bottom": null,
      "display": null,
      "flex": null,
      "flex_flow": null,
      "grid_area": null,
      "grid_auto_columns": null,
      "grid_auto_flow": null,
      "grid_auto_rows": null,
      "grid_column": null,
      "grid_gap": null,
      "grid_row": null,
      "grid_template_areas": null,
      "grid_template_columns": null,
      "grid_template_rows": null,
      "height": null,
      "justify_content": null,
      "justify_items": null,
      "left": null,
      "margin": null,
      "max_height": null,
      "max_width": null,
      "min_height": null,
      "min_width": null,
      "object_fit": null,
      "object_position": null,
      "order": null,
      "overflow": null,
      "overflow_x": null,
      "overflow_y": null,
      "padding": null,
      "right": null,
      "top": null,
      "visibility": null,
      "width": null
     }
    },
    "72514c8dafb54895af899904d6790fe5": {
     "model_module": "@jupyter-widgets/base",
     "model_module_version": "1.2.0",
     "model_name": "LayoutModel",
     "state": {
      "_model_module": "@jupyter-widgets/base",
      "_model_module_version": "1.2.0",
      "_model_name": "LayoutModel",
      "_view_count": null,
      "_view_module": "@jupyter-widgets/base",
      "_view_module_version": "1.2.0",
      "_view_name": "LayoutView",
      "align_content": null,
      "align_items": null,
      "align_self": null,
      "border": null,
      "bottom": null,
      "display": null,
      "flex": null,
      "flex_flow": null,
      "grid_area": null,
      "grid_auto_columns": null,
      "grid_auto_flow": null,
      "grid_auto_rows": null,
      "grid_column": null,
      "grid_gap": null,
      "grid_row": null,
      "grid_template_areas": null,
      "grid_template_columns": null,
      "grid_template_rows": null,
      "height": null,
      "justify_content": null,
      "justify_items": null,
      "left": null,
      "margin": null,
      "max_height": null,
      "max_width": null,
      "min_height": null,
      "min_width": null,
      "object_fit": null,
      "object_position": null,
      "order": null,
      "overflow": null,
      "overflow_x": null,
      "overflow_y": null,
      "padding": null,
      "right": null,
      "top": null,
      "visibility": null,
      "width": null
     }
    },
    "73639011529f46e9aadd3909f0969162": {
     "model_module": "@jupyter-widgets/controls",
     "model_module_version": "1.5.0",
     "model_name": "DescriptionStyleModel",
     "state": {
      "_model_module": "@jupyter-widgets/controls",
      "_model_module_version": "1.5.0",
      "_model_name": "DescriptionStyleModel",
      "_view_count": null,
      "_view_module": "@jupyter-widgets/base",
      "_view_module_version": "1.2.0",
      "_view_name": "StyleView",
      "description_width": ""
     }
    },
    "7399ba6d4eaf42efa924520a28732219": {
     "model_module": "@jupyter-widgets/controls",
     "model_module_version": "1.5.0",
     "model_name": "ProgressStyleModel",
     "state": {
      "_model_module": "@jupyter-widgets/controls",
      "_model_module_version": "1.5.0",
      "_model_name": "ProgressStyleModel",
      "_view_count": null,
      "_view_module": "@jupyter-widgets/base",
      "_view_module_version": "1.2.0",
      "_view_name": "StyleView",
      "bar_color": null,
      "description_width": ""
     }
    },
    "75bc98e28417474d9c830bece56274b2": {
     "model_module": "@jupyter-widgets/base",
     "model_module_version": "1.2.0",
     "model_name": "LayoutModel",
     "state": {
      "_model_module": "@jupyter-widgets/base",
      "_model_module_version": "1.2.0",
      "_model_name": "LayoutModel",
      "_view_count": null,
      "_view_module": "@jupyter-widgets/base",
      "_view_module_version": "1.2.0",
      "_view_name": "LayoutView",
      "align_content": null,
      "align_items": null,
      "align_self": null,
      "border": null,
      "bottom": null,
      "display": null,
      "flex": null,
      "flex_flow": null,
      "grid_area": null,
      "grid_auto_columns": null,
      "grid_auto_flow": null,
      "grid_auto_rows": null,
      "grid_column": null,
      "grid_gap": null,
      "grid_row": null,
      "grid_template_areas": null,
      "grid_template_columns": null,
      "grid_template_rows": null,
      "height": null,
      "justify_content": null,
      "justify_items": null,
      "left": null,
      "margin": null,
      "max_height": null,
      "max_width": null,
      "min_height": null,
      "min_width": null,
      "object_fit": null,
      "object_position": null,
      "order": null,
      "overflow": null,
      "overflow_x": null,
      "overflow_y": null,
      "padding": null,
      "right": null,
      "top": null,
      "visibility": null,
      "width": null
     }
    },
    "763dc665c5f649ce987aa6e32d0cb67f": {
     "model_module": "@jupyter-widgets/base",
     "model_module_version": "1.2.0",
     "model_name": "LayoutModel",
     "state": {
      "_model_module": "@jupyter-widgets/base",
      "_model_module_version": "1.2.0",
      "_model_name": "LayoutModel",
      "_view_count": null,
      "_view_module": "@jupyter-widgets/base",
      "_view_module_version": "1.2.0",
      "_view_name": "LayoutView",
      "align_content": null,
      "align_items": null,
      "align_self": null,
      "border": null,
      "bottom": null,
      "display": null,
      "flex": "2",
      "flex_flow": null,
      "grid_area": null,
      "grid_auto_columns": null,
      "grid_auto_flow": null,
      "grid_auto_rows": null,
      "grid_column": null,
      "grid_gap": null,
      "grid_row": null,
      "grid_template_areas": null,
      "grid_template_columns": null,
      "grid_template_rows": null,
      "height": null,
      "justify_content": null,
      "justify_items": null,
      "left": null,
      "margin": null,
      "max_height": null,
      "max_width": null,
      "min_height": null,
      "min_width": null,
      "object_fit": null,
      "object_position": null,
      "order": null,
      "overflow": null,
      "overflow_x": null,
      "overflow_y": null,
      "padding": null,
      "right": null,
      "top": null,
      "visibility": null,
      "width": null
     }
    },
    "78fb634a86ce42799d1947d1476d3f37": {
     "model_module": "@jupyter-widgets/controls",
     "model_module_version": "1.5.0",
     "model_name": "HBoxModel",
     "state": {
      "_dom_classes": [],
      "_model_module": "@jupyter-widgets/controls",
      "_model_module_version": "1.5.0",
      "_model_name": "HBoxModel",
      "_view_count": null,
      "_view_module": "@jupyter-widgets/controls",
      "_view_module_version": "1.5.0",
      "_view_name": "HBoxView",
      "box_style": "",
      "children": [
       "IPY_MODEL_bc33054441024180afd3a7962b552cf6",
       "IPY_MODEL_27bf7d08b8d24aa291adfb25e209164a",
       "IPY_MODEL_19e87e7532d946dd8607ce2b67c49e56"
      ],
      "layout": "IPY_MODEL_56b6084139144319822795a1b7dad34f"
     }
    },
    "793d844467674e7dab1e16f31a74e2f8": {
     "model_module": "@jupyter-widgets/base",
     "model_module_version": "1.2.0",
     "model_name": "LayoutModel",
     "state": {
      "_model_module": "@jupyter-widgets/base",
      "_model_module_version": "1.2.0",
      "_model_name": "LayoutModel",
      "_view_count": null,
      "_view_module": "@jupyter-widgets/base",
      "_view_module_version": "1.2.0",
      "_view_name": "LayoutView",
      "align_content": null,
      "align_items": null,
      "align_self": null,
      "border": null,
      "bottom": null,
      "display": null,
      "flex": "2",
      "flex_flow": null,
      "grid_area": null,
      "grid_auto_columns": null,
      "grid_auto_flow": null,
      "grid_auto_rows": null,
      "grid_column": null,
      "grid_gap": null,
      "grid_row": null,
      "grid_template_areas": null,
      "grid_template_columns": null,
      "grid_template_rows": null,
      "height": null,
      "justify_content": null,
      "justify_items": null,
      "left": null,
      "margin": null,
      "max_height": null,
      "max_width": null,
      "min_height": null,
      "min_width": null,
      "object_fit": null,
      "object_position": null,
      "order": null,
      "overflow": null,
      "overflow_x": null,
      "overflow_y": null,
      "padding": null,
      "right": null,
      "top": null,
      "visibility": null,
      "width": null
     }
    },
    "7a64bcb673124948914e268bd6f1e97a": {
     "model_module": "@jupyter-widgets/controls",
     "model_module_version": "1.5.0",
     "model_name": "HTMLModel",
     "state": {
      "_dom_classes": [],
      "_model_module": "@jupyter-widgets/controls",
      "_model_module_version": "1.5.0",
      "_model_name": "HTMLModel",
      "_view_count": null,
      "_view_module": "@jupyter-widgets/controls",
      "_view_module_version": "1.5.0",
      "_view_name": "HTMLView",
      "description": "",
      "description_tooltip": null,
      "layout": "IPY_MODEL_72514c8dafb54895af899904d6790fe5",
      "placeholder": "​",
      "style": "IPY_MODEL_12e8aa6cbf0e4abd85670658211fd210",
      "value": " 16/16 [00:02&lt;00:00,  7.48it/s, v_num=1, val_loss=0.962, train_loss=1.060]"
     }
    },
    "7ac62ebce09c434b88ccb36f432b005c": {
     "model_module": "@jupyter-widgets/base",
     "model_module_version": "1.2.0",
     "model_name": "LayoutModel",
     "state": {
      "_model_module": "@jupyter-widgets/base",
      "_model_module_version": "1.2.0",
      "_model_name": "LayoutModel",
      "_view_count": null,
      "_view_module": "@jupyter-widgets/base",
      "_view_module_version": "1.2.0",
      "_view_name": "LayoutView",
      "align_content": null,
      "align_items": null,
      "align_self": null,
      "border": null,
      "bottom": null,
      "display": null,
      "flex": "2",
      "flex_flow": null,
      "grid_area": null,
      "grid_auto_columns": null,
      "grid_auto_flow": null,
      "grid_auto_rows": null,
      "grid_column": null,
      "grid_gap": null,
      "grid_row": null,
      "grid_template_areas": null,
      "grid_template_columns": null,
      "grid_template_rows": null,
      "height": null,
      "justify_content": null,
      "justify_items": null,
      "left": null,
      "margin": null,
      "max_height": null,
      "max_width": null,
      "min_height": null,
      "min_width": null,
      "object_fit": null,
      "object_position": null,
      "order": null,
      "overflow": null,
      "overflow_x": null,
      "overflow_y": null,
      "padding": null,
      "right": null,
      "top": null,
      "visibility": null,
      "width": null
     }
    },
    "7c30a5d2d64a404095e7a1472075c010": {
     "model_module": "@jupyter-widgets/controls",
     "model_module_version": "1.5.0",
     "model_name": "HBoxModel",
     "state": {
      "_dom_classes": [],
      "_model_module": "@jupyter-widgets/controls",
      "_model_module_version": "1.5.0",
      "_model_name": "HBoxModel",
      "_view_count": null,
      "_view_module": "@jupyter-widgets/controls",
      "_view_module_version": "1.5.0",
      "_view_name": "HBoxView",
      "box_style": "",
      "children": [
       "IPY_MODEL_88d74cd94ecd4f8f88361b838f7b1ea4",
       "IPY_MODEL_834dca8f67b14866af51e564b033d870",
       "IPY_MODEL_ede575ae6a6842a0a74010a13d1f1744"
      ],
      "layout": "IPY_MODEL_bb9940b6a9204382a35df3eb0f2009fc"
     }
    },
    "7c49c5c606304f20aaaaa10ffd4b15de": {
     "model_module": "@jupyter-widgets/controls",
     "model_module_version": "1.5.0",
     "model_name": "HBoxModel",
     "state": {
      "_dom_classes": [],
      "_model_module": "@jupyter-widgets/controls",
      "_model_module_version": "1.5.0",
      "_model_name": "HBoxModel",
      "_view_count": null,
      "_view_module": "@jupyter-widgets/controls",
      "_view_module_version": "1.5.0",
      "_view_name": "HBoxView",
      "box_style": "",
      "children": [
       "IPY_MODEL_d3eb64b4110d408b8335e84a65bf8213",
       "IPY_MODEL_597c772be8b3427abfcd83bcbfc0ce20",
       "IPY_MODEL_5752a61d74474dd09c8311dc58fbef89"
      ],
      "layout": "IPY_MODEL_dbd0b13e6d9f4b219d381db61cc1830a"
     }
    },
    "7f28c79cd41844b5afbf4e0aa0bd8165": {
     "model_module": "@jupyter-widgets/controls",
     "model_module_version": "1.5.0",
     "model_name": "FloatProgressModel",
     "state": {
      "_dom_classes": [],
      "_model_module": "@jupyter-widgets/controls",
      "_model_module_version": "1.5.0",
      "_model_name": "FloatProgressModel",
      "_view_count": null,
      "_view_module": "@jupyter-widgets/controls",
      "_view_module_version": "1.5.0",
      "_view_name": "ProgressView",
      "bar_style": "",
      "description": "",
      "description_tooltip": null,
      "layout": "IPY_MODEL_793d844467674e7dab1e16f31a74e2f8",
      "max": 8,
      "min": 0,
      "orientation": "horizontal",
      "style": "IPY_MODEL_470be0e2612d4729a174e84369697e89",
      "value": 8
     }
    },
    "7f7859e247e1415e8f38e1802f380672": {
     "model_module": "@jupyter-widgets/controls",
     "model_module_version": "1.5.0",
     "model_name": "HBoxModel",
     "state": {
      "_dom_classes": [],
      "_model_module": "@jupyter-widgets/controls",
      "_model_module_version": "1.5.0",
      "_model_name": "HBoxModel",
      "_view_count": null,
      "_view_module": "@jupyter-widgets/controls",
      "_view_module_version": "1.5.0",
      "_view_name": "HBoxView",
      "box_style": "",
      "children": [
       "IPY_MODEL_5f6f23c8ab9c48798a88de84258952a6",
       "IPY_MODEL_eb81bda48af94abbba6659c06001fbfa",
       "IPY_MODEL_1aab6a9472484f639445775299050bf5"
      ],
      "layout": "IPY_MODEL_214712b765b648238f6f41822a7b8904"
     }
    },
    "834dca8f67b14866af51e564b033d870": {
     "model_module": "@jupyter-widgets/controls",
     "model_module_version": "1.5.0",
     "model_name": "FloatProgressModel",
     "state": {
      "_dom_classes": [],
      "_model_module": "@jupyter-widgets/controls",
      "_model_module_version": "1.5.0",
      "_model_name": "FloatProgressModel",
      "_view_count": null,
      "_view_module": "@jupyter-widgets/controls",
      "_view_module_version": "1.5.0",
      "_view_name": "ProgressView",
      "bar_style": "",
      "description": "",
      "description_tooltip": null,
      "layout": "IPY_MODEL_ccba8ed94f46421a847ecf492fda9bf6",
      "max": 8,
      "min": 0,
      "orientation": "horizontal",
      "style": "IPY_MODEL_c72e6f4291144c02ae19f9f514619576",
      "value": 8
     }
    },
    "88d74cd94ecd4f8f88361b838f7b1ea4": {
     "model_module": "@jupyter-widgets/controls",
     "model_module_version": "1.5.0",
     "model_name": "HTMLModel",
     "state": {
      "_dom_classes": [],
      "_model_module": "@jupyter-widgets/controls",
      "_model_module_version": "1.5.0",
      "_model_name": "HTMLModel",
      "_view_count": null,
      "_view_module": "@jupyter-widgets/controls",
      "_view_module_version": "1.5.0",
      "_view_name": "HTMLView",
      "description": "",
      "description_tooltip": null,
      "layout": "IPY_MODEL_66d65a1ea6b44abdaaef84fbadd9621e",
      "placeholder": "​",
      "style": "IPY_MODEL_10fbfd9bb2f04e2385b7749a5b8dce6d",
      "value": "Validation DataLoader 0: 100%"
     }
    },
    "8aaf784c7e1d4f159610468dafb94e3c": {
     "model_module": "@jupyter-widgets/base",
     "model_module_version": "1.2.0",
     "model_name": "LayoutModel",
     "state": {
      "_model_module": "@jupyter-widgets/base",
      "_model_module_version": "1.2.0",
      "_model_name": "LayoutModel",
      "_view_count": null,
      "_view_module": "@jupyter-widgets/base",
      "_view_module_version": "1.2.0",
      "_view_name": "LayoutView",
      "align_content": null,
      "align_items": null,
      "align_self": null,
      "border": null,
      "bottom": null,
      "display": null,
      "flex": "2",
      "flex_flow": null,
      "grid_area": null,
      "grid_auto_columns": null,
      "grid_auto_flow": null,
      "grid_auto_rows": null,
      "grid_column": null,
      "grid_gap": null,
      "grid_row": null,
      "grid_template_areas": null,
      "grid_template_columns": null,
      "grid_template_rows": null,
      "height": null,
      "justify_content": null,
      "justify_items": null,
      "left": null,
      "margin": null,
      "max_height": null,
      "max_width": null,
      "min_height": null,
      "min_width": null,
      "object_fit": null,
      "object_position": null,
      "order": null,
      "overflow": null,
      "overflow_x": null,
      "overflow_y": null,
      "padding": null,
      "right": null,
      "top": null,
      "visibility": null,
      "width": null
     }
    },
    "8f60bb11aa87452e84e815ebe6fbf45b": {
     "model_module": "@jupyter-widgets/base",
     "model_module_version": "1.2.0",
     "model_name": "LayoutModel",
     "state": {
      "_model_module": "@jupyter-widgets/base",
      "_model_module_version": "1.2.0",
      "_model_name": "LayoutModel",
      "_view_count": null,
      "_view_module": "@jupyter-widgets/base",
      "_view_module_version": "1.2.0",
      "_view_name": "LayoutView",
      "align_content": null,
      "align_items": null,
      "align_self": null,
      "border": null,
      "bottom": null,
      "display": null,
      "flex": null,
      "flex_flow": null,
      "grid_area": null,
      "grid_auto_columns": null,
      "grid_auto_flow": null,
      "grid_auto_rows": null,
      "grid_column": null,
      "grid_gap": null,
      "grid_row": null,
      "grid_template_areas": null,
      "grid_template_columns": null,
      "grid_template_rows": null,
      "height": null,
      "justify_content": null,
      "justify_items": null,
      "left": null,
      "margin": null,
      "max_height": null,
      "max_width": null,
      "min_height": null,
      "min_width": null,
      "object_fit": null,
      "object_position": null,
      "order": null,
      "overflow": null,
      "overflow_x": null,
      "overflow_y": null,
      "padding": null,
      "right": null,
      "top": null,
      "visibility": null,
      "width": null
     }
    },
    "90a07cc4aab04b64b11e3029d72cd325": {
     "model_module": "@jupyter-widgets/base",
     "model_module_version": "1.2.0",
     "model_name": "LayoutModel",
     "state": {
      "_model_module": "@jupyter-widgets/base",
      "_model_module_version": "1.2.0",
      "_model_name": "LayoutModel",
      "_view_count": null,
      "_view_module": "@jupyter-widgets/base",
      "_view_module_version": "1.2.0",
      "_view_name": "LayoutView",
      "align_content": null,
      "align_items": null,
      "align_self": null,
      "border": null,
      "bottom": null,
      "display": null,
      "flex": "2",
      "flex_flow": null,
      "grid_area": null,
      "grid_auto_columns": null,
      "grid_auto_flow": null,
      "grid_auto_rows": null,
      "grid_column": null,
      "grid_gap": null,
      "grid_row": null,
      "grid_template_areas": null,
      "grid_template_columns": null,
      "grid_template_rows": null,
      "height": null,
      "justify_content": null,
      "justify_items": null,
      "left": null,
      "margin": null,
      "max_height": null,
      "max_width": null,
      "min_height": null,
      "min_width": null,
      "object_fit": null,
      "object_position": null,
      "order": null,
      "overflow": null,
      "overflow_x": null,
      "overflow_y": null,
      "padding": null,
      "right": null,
      "top": null,
      "visibility": null,
      "width": null
     }
    },
    "92216aaf90aa4dde9bd3f1719c7f447b": {
     "model_module": "@jupyter-widgets/controls",
     "model_module_version": "1.5.0",
     "model_name": "HBoxModel",
     "state": {
      "_dom_classes": [],
      "_model_module": "@jupyter-widgets/controls",
      "_model_module_version": "1.5.0",
      "_model_name": "HBoxModel",
      "_view_count": null,
      "_view_module": "@jupyter-widgets/controls",
      "_view_module_version": "1.5.0",
      "_view_name": "HBoxView",
      "box_style": "",
      "children": [
       "IPY_MODEL_f417a94d02e44ad383dfde329202c783",
       "IPY_MODEL_fe7f7ea2f2d9406d921509e2242ea9a4",
       "IPY_MODEL_f506b35860bb46798b7b9ff298b6d1ea"
      ],
      "layout": "IPY_MODEL_1a9e25f901944aca80a760412be1805e"
     }
    },
    "956fe4894c234410a96b610e447007f1": {
     "model_module": "@jupyter-widgets/controls",
     "model_module_version": "1.5.0",
     "model_name": "DescriptionStyleModel",
     "state": {
      "_model_module": "@jupyter-widgets/controls",
      "_model_module_version": "1.5.0",
      "_model_name": "DescriptionStyleModel",
      "_view_count": null,
      "_view_module": "@jupyter-widgets/base",
      "_view_module_version": "1.2.0",
      "_view_name": "StyleView",
      "description_width": ""
     }
    },
    "a1d1f94f3c934e70b8d022ddff2125e2": {
     "model_module": "@jupyter-widgets/controls",
     "model_module_version": "1.5.0",
     "model_name": "HTMLModel",
     "state": {
      "_dom_classes": [],
      "_model_module": "@jupyter-widgets/controls",
      "_model_module_version": "1.5.0",
      "_model_name": "HTMLModel",
      "_view_count": null,
      "_view_module": "@jupyter-widgets/controls",
      "_view_module_version": "1.5.0",
      "_view_name": "HTMLView",
      "description": "",
      "description_tooltip": null,
      "layout": "IPY_MODEL_75bc98e28417474d9c830bece56274b2",
      "placeholder": "​",
      "style": "IPY_MODEL_ed1ea11f016648b2bdfea5de3502072d",
      "value": " 8/8 [00:00&lt;00:00, 21.05it/s]"
     }
    },
    "a33f9442b8924314a94814c1a092fc7a": {
     "model_module": "@jupyter-widgets/base",
     "model_module_version": "1.2.0",
     "model_name": "LayoutModel",
     "state": {
      "_model_module": "@jupyter-widgets/base",
      "_model_module_version": "1.2.0",
      "_model_name": "LayoutModel",
      "_view_count": null,
      "_view_module": "@jupyter-widgets/base",
      "_view_module_version": "1.2.0",
      "_view_name": "LayoutView",
      "align_content": null,
      "align_items": null,
      "align_self": null,
      "border": null,
      "bottom": null,
      "display": null,
      "flex": "2",
      "flex_flow": null,
      "grid_area": null,
      "grid_auto_columns": null,
      "grid_auto_flow": null,
      "grid_auto_rows": null,
      "grid_column": null,
      "grid_gap": null,
      "grid_row": null,
      "grid_template_areas": null,
      "grid_template_columns": null,
      "grid_template_rows": null,
      "height": null,
      "justify_content": null,
      "justify_items": null,
      "left": null,
      "margin": null,
      "max_height": null,
      "max_width": null,
      "min_height": null,
      "min_width": null,
      "object_fit": null,
      "object_position": null,
      "order": null,
      "overflow": null,
      "overflow_x": null,
      "overflow_y": null,
      "padding": null,
      "right": null,
      "top": null,
      "visibility": null,
      "width": null
     }
    },
    "a7c82b545ea941cf89e5d73a394634b3": {
     "model_module": "@jupyter-widgets/controls",
     "model_module_version": "1.5.0",
     "model_name": "HBoxModel",
     "state": {
      "_dom_classes": [],
      "_model_module": "@jupyter-widgets/controls",
      "_model_module_version": "1.5.0",
      "_model_name": "HBoxModel",
      "_view_count": null,
      "_view_module": "@jupyter-widgets/controls",
      "_view_module_version": "1.5.0",
      "_view_name": "HBoxView",
      "box_style": "",
      "children": [
       "IPY_MODEL_2042bc6d5099477f8cedf3e2aed3ffb5",
       "IPY_MODEL_18985a6728ee408f9697635a149ac1d1",
       "IPY_MODEL_5ae6232f22404d9db4b903f21365a737"
      ],
      "layout": "IPY_MODEL_c1d5d603065546f38013d9dcb18509fa"
     }
    },
    "a80599e4d05f4b728084ea8e737fb033": {
     "model_module": "@jupyter-widgets/base",
     "model_module_version": "1.2.0",
     "model_name": "LayoutModel",
     "state": {
      "_model_module": "@jupyter-widgets/base",
      "_model_module_version": "1.2.0",
      "_model_name": "LayoutModel",
      "_view_count": null,
      "_view_module": "@jupyter-widgets/base",
      "_view_module_version": "1.2.0",
      "_view_name": "LayoutView",
      "align_content": null,
      "align_items": null,
      "align_self": null,
      "border": null,
      "bottom": null,
      "display": null,
      "flex": "2",
      "flex_flow": null,
      "grid_area": null,
      "grid_auto_columns": null,
      "grid_auto_flow": null,
      "grid_auto_rows": null,
      "grid_column": null,
      "grid_gap": null,
      "grid_row": null,
      "grid_template_areas": null,
      "grid_template_columns": null,
      "grid_template_rows": null,
      "height": null,
      "justify_content": null,
      "justify_items": null,
      "left": null,
      "margin": null,
      "max_height": null,
      "max_width": null,
      "min_height": null,
      "min_width": null,
      "object_fit": null,
      "object_position": null,
      "order": null,
      "overflow": null,
      "overflow_x": null,
      "overflow_y": null,
      "padding": null,
      "right": null,
      "top": null,
      "visibility": null,
      "width": null
     }
    },
    "ab0edc8cb22b4209b7aa40ac948ef72d": {
     "model_module": "@jupyter-widgets/base",
     "model_module_version": "1.2.0",
     "model_name": "LayoutModel",
     "state": {
      "_model_module": "@jupyter-widgets/base",
      "_model_module_version": "1.2.0",
      "_model_name": "LayoutModel",
      "_view_count": null,
      "_view_module": "@jupyter-widgets/base",
      "_view_module_version": "1.2.0",
      "_view_name": "LayoutView",
      "align_content": null,
      "align_items": null,
      "align_self": null,
      "border": null,
      "bottom": null,
      "display": "inline-flex",
      "flex": null,
      "flex_flow": "row wrap",
      "grid_area": null,
      "grid_auto_columns": null,
      "grid_auto_flow": null,
      "grid_auto_rows": null,
      "grid_column": null,
      "grid_gap": null,
      "grid_row": null,
      "grid_template_areas": null,
      "grid_template_columns": null,
      "grid_template_rows": null,
      "height": null,
      "justify_content": null,
      "justify_items": null,
      "left": null,
      "margin": null,
      "max_height": null,
      "max_width": null,
      "min_height": null,
      "min_width": null,
      "object_fit": null,
      "object_position": null,
      "order": null,
      "overflow": null,
      "overflow_x": null,
      "overflow_y": null,
      "padding": null,
      "right": null,
      "top": null,
      "visibility": "hidden",
      "width": "100%"
     }
    },
    "b5b8a264354c40409eaec8e7fd2ccd92": {
     "model_module": "@jupyter-widgets/base",
     "model_module_version": "1.2.0",
     "model_name": "LayoutModel",
     "state": {
      "_model_module": "@jupyter-widgets/base",
      "_model_module_version": "1.2.0",
      "_model_name": "LayoutModel",
      "_view_count": null,
      "_view_module": "@jupyter-widgets/base",
      "_view_module_version": "1.2.0",
      "_view_name": "LayoutView",
      "align_content": null,
      "align_items": null,
      "align_self": null,
      "border": null,
      "bottom": null,
      "display": null,
      "flex": "2",
      "flex_flow": null,
      "grid_area": null,
      "grid_auto_columns": null,
      "grid_auto_flow": null,
      "grid_auto_rows": null,
      "grid_column": null,
      "grid_gap": null,
      "grid_row": null,
      "grid_template_areas": null,
      "grid_template_columns": null,
      "grid_template_rows": null,
      "height": null,
      "justify_content": null,
      "justify_items": null,
      "left": null,
      "margin": null,
      "max_height": null,
      "max_width": null,
      "min_height": null,
      "min_width": null,
      "object_fit": null,
      "object_position": null,
      "order": null,
      "overflow": null,
      "overflow_x": null,
      "overflow_y": null,
      "padding": null,
      "right": null,
      "top": null,
      "visibility": null,
      "width": null
     }
    },
    "ba098a25c6484ff68794f42dfc5986de": {
     "model_module": "@jupyter-widgets/controls",
     "model_module_version": "1.5.0",
     "model_name": "DescriptionStyleModel",
     "state": {
      "_model_module": "@jupyter-widgets/controls",
      "_model_module_version": "1.5.0",
      "_model_name": "DescriptionStyleModel",
      "_view_count": null,
      "_view_module": "@jupyter-widgets/base",
      "_view_module_version": "1.2.0",
      "_view_name": "StyleView",
      "description_width": ""
     }
    },
    "bb9940b6a9204382a35df3eb0f2009fc": {
     "model_module": "@jupyter-widgets/base",
     "model_module_version": "1.2.0",
     "model_name": "LayoutModel",
     "state": {
      "_model_module": "@jupyter-widgets/base",
      "_model_module_version": "1.2.0",
      "_model_name": "LayoutModel",
      "_view_count": null,
      "_view_module": "@jupyter-widgets/base",
      "_view_module_version": "1.2.0",
      "_view_name": "LayoutView",
      "align_content": null,
      "align_items": null,
      "align_self": null,
      "border": null,
      "bottom": null,
      "display": "inline-flex",
      "flex": null,
      "flex_flow": "row wrap",
      "grid_area": null,
      "grid_auto_columns": null,
      "grid_auto_flow": null,
      "grid_auto_rows": null,
      "grid_column": null,
      "grid_gap": null,
      "grid_row": null,
      "grid_template_areas": null,
      "grid_template_columns": null,
      "grid_template_rows": null,
      "height": null,
      "justify_content": null,
      "justify_items": null,
      "left": null,
      "margin": null,
      "max_height": null,
      "max_width": null,
      "min_height": null,
      "min_width": null,
      "object_fit": null,
      "object_position": null,
      "order": null,
      "overflow": null,
      "overflow_x": null,
      "overflow_y": null,
      "padding": null,
      "right": null,
      "top": null,
      "visibility": "hidden",
      "width": "100%"
     }
    },
    "bc33054441024180afd3a7962b552cf6": {
     "model_module": "@jupyter-widgets/controls",
     "model_module_version": "1.5.0",
     "model_name": "HTMLModel",
     "state": {
      "_dom_classes": [],
      "_model_module": "@jupyter-widgets/controls",
      "_model_module_version": "1.5.0",
      "_model_name": "HTMLModel",
      "_view_count": null,
      "_view_module": "@jupyter-widgets/controls",
      "_view_module_version": "1.5.0",
      "_view_name": "HTMLView",
      "description": "",
      "description_tooltip": null,
      "layout": "IPY_MODEL_10dccb827e084abfb6542de89fbd96d2",
      "placeholder": "​",
      "style": "IPY_MODEL_4c57638349734cf29ce055df655fff7a",
      "value": "Validation DataLoader 0: 100%"
     }
    },
    "bf81c3dd0445454788170bb117c44a2c": {
     "model_module": "@jupyter-widgets/controls",
     "model_module_version": "1.5.0",
     "model_name": "DescriptionStyleModel",
     "state": {
      "_model_module": "@jupyter-widgets/controls",
      "_model_module_version": "1.5.0",
      "_model_name": "DescriptionStyleModel",
      "_view_count": null,
      "_view_module": "@jupyter-widgets/base",
      "_view_module_version": "1.2.0",
      "_view_name": "StyleView",
      "description_width": ""
     }
    },
    "c1d5d603065546f38013d9dcb18509fa": {
     "model_module": "@jupyter-widgets/base",
     "model_module_version": "1.2.0",
     "model_name": "LayoutModel",
     "state": {
      "_model_module": "@jupyter-widgets/base",
      "_model_module_version": "1.2.0",
      "_model_name": "LayoutModel",
      "_view_count": null,
      "_view_module": "@jupyter-widgets/base",
      "_view_module_version": "1.2.0",
      "_view_name": "LayoutView",
      "align_content": null,
      "align_items": null,
      "align_self": null,
      "border": null,
      "bottom": null,
      "display": "inline-flex",
      "flex": null,
      "flex_flow": "row wrap",
      "grid_area": null,
      "grid_auto_columns": null,
      "grid_auto_flow": null,
      "grid_auto_rows": null,
      "grid_column": null,
      "grid_gap": null,
      "grid_row": null,
      "grid_template_areas": null,
      "grid_template_columns": null,
      "grid_template_rows": null,
      "height": null,
      "justify_content": null,
      "justify_items": null,
      "left": null,
      "margin": null,
      "max_height": null,
      "max_width": null,
      "min_height": null,
      "min_width": null,
      "object_fit": null,
      "object_position": null,
      "order": null,
      "overflow": null,
      "overflow_x": null,
      "overflow_y": null,
      "padding": null,
      "right": null,
      "top": null,
      "visibility": "hidden",
      "width": "100%"
     }
    },
    "c72e6f4291144c02ae19f9f514619576": {
     "model_module": "@jupyter-widgets/controls",
     "model_module_version": "1.5.0",
     "model_name": "ProgressStyleModel",
     "state": {
      "_model_module": "@jupyter-widgets/controls",
      "_model_module_version": "1.5.0",
      "_model_name": "ProgressStyleModel",
      "_view_count": null,
      "_view_module": "@jupyter-widgets/base",
      "_view_module_version": "1.2.0",
      "_view_name": "StyleView",
      "bar_color": null,
      "description_width": ""
     }
    },
    "c744451ee27642e8a5808092a0984a00": {
     "model_module": "@jupyter-widgets/base",
     "model_module_version": "1.2.0",
     "model_name": "LayoutModel",
     "state": {
      "_model_module": "@jupyter-widgets/base",
      "_model_module_version": "1.2.0",
      "_model_name": "LayoutModel",
      "_view_count": null,
      "_view_module": "@jupyter-widgets/base",
      "_view_module_version": "1.2.0",
      "_view_name": "LayoutView",
      "align_content": null,
      "align_items": null,
      "align_self": null,
      "border": null,
      "bottom": null,
      "display": null,
      "flex": null,
      "flex_flow": null,
      "grid_area": null,
      "grid_auto_columns": null,
      "grid_auto_flow": null,
      "grid_auto_rows": null,
      "grid_column": null,
      "grid_gap": null,
      "grid_row": null,
      "grid_template_areas": null,
      "grid_template_columns": null,
      "grid_template_rows": null,
      "height": null,
      "justify_content": null,
      "justify_items": null,
      "left": null,
      "margin": null,
      "max_height": null,
      "max_width": null,
      "min_height": null,
      "min_width": null,
      "object_fit": null,
      "object_position": null,
      "order": null,
      "overflow": null,
      "overflow_x": null,
      "overflow_y": null,
      "padding": null,
      "right": null,
      "top": null,
      "visibility": null,
      "width": null
     }
    },
    "c799fa77ad5943fead003dd0e254b3af": {
     "model_module": "@jupyter-widgets/controls",
     "model_module_version": "1.5.0",
     "model_name": "DescriptionStyleModel",
     "state": {
      "_model_module": "@jupyter-widgets/controls",
      "_model_module_version": "1.5.0",
      "_model_name": "DescriptionStyleModel",
      "_view_count": null,
      "_view_module": "@jupyter-widgets/base",
      "_view_module_version": "1.2.0",
      "_view_name": "StyleView",
      "description_width": ""
     }
    },
    "c8e459e020044afe92775692022c0f75": {
     "model_module": "@jupyter-widgets/controls",
     "model_module_version": "1.5.0",
     "model_name": "DescriptionStyleModel",
     "state": {
      "_model_module": "@jupyter-widgets/controls",
      "_model_module_version": "1.5.0",
      "_model_name": "DescriptionStyleModel",
      "_view_count": null,
      "_view_module": "@jupyter-widgets/base",
      "_view_module_version": "1.2.0",
      "_view_name": "StyleView",
      "description_width": ""
     }
    },
    "c96a0950754f4390b6aa4ab34984df26": {
     "model_module": "@jupyter-widgets/base",
     "model_module_version": "1.2.0",
     "model_name": "LayoutModel",
     "state": {
      "_model_module": "@jupyter-widgets/base",
      "_model_module_version": "1.2.0",
      "_model_name": "LayoutModel",
      "_view_count": null,
      "_view_module": "@jupyter-widgets/base",
      "_view_module_version": "1.2.0",
      "_view_name": "LayoutView",
      "align_content": null,
      "align_items": null,
      "align_self": null,
      "border": null,
      "bottom": null,
      "display": "inline-flex",
      "flex": null,
      "flex_flow": "row wrap",
      "grid_area": null,
      "grid_auto_columns": null,
      "grid_auto_flow": null,
      "grid_auto_rows": null,
      "grid_column": null,
      "grid_gap": null,
      "grid_row": null,
      "grid_template_areas": null,
      "grid_template_columns": null,
      "grid_template_rows": null,
      "height": null,
      "justify_content": null,
      "justify_items": null,
      "left": null,
      "margin": null,
      "max_height": null,
      "max_width": null,
      "min_height": null,
      "min_width": null,
      "object_fit": null,
      "object_position": null,
      "order": null,
      "overflow": null,
      "overflow_x": null,
      "overflow_y": null,
      "padding": null,
      "right": null,
      "top": null,
      "visibility": "hidden",
      "width": "100%"
     }
    },
    "cc0eece1320b4abab71281da175114ee": {
     "model_module": "@jupyter-widgets/base",
     "model_module_version": "1.2.0",
     "model_name": "LayoutModel",
     "state": {
      "_model_module": "@jupyter-widgets/base",
      "_model_module_version": "1.2.0",
      "_model_name": "LayoutModel",
      "_view_count": null,
      "_view_module": "@jupyter-widgets/base",
      "_view_module_version": "1.2.0",
      "_view_name": "LayoutView",
      "align_content": null,
      "align_items": null,
      "align_self": null,
      "border": null,
      "bottom": null,
      "display": null,
      "flex": "2",
      "flex_flow": null,
      "grid_area": null,
      "grid_auto_columns": null,
      "grid_auto_flow": null,
      "grid_auto_rows": null,
      "grid_column": null,
      "grid_gap": null,
      "grid_row": null,
      "grid_template_areas": null,
      "grid_template_columns": null,
      "grid_template_rows": null,
      "height": null,
      "justify_content": null,
      "justify_items": null,
      "left": null,
      "margin": null,
      "max_height": null,
      "max_width": null,
      "min_height": null,
      "min_width": null,
      "object_fit": null,
      "object_position": null,
      "order": null,
      "overflow": null,
      "overflow_x": null,
      "overflow_y": null,
      "padding": null,
      "right": null,
      "top": null,
      "visibility": null,
      "width": null
     }
    },
    "cc20e816ea464f4d8f6683fc4709c306": {
     "model_module": "@jupyter-widgets/controls",
     "model_module_version": "1.5.0",
     "model_name": "ProgressStyleModel",
     "state": {
      "_model_module": "@jupyter-widgets/controls",
      "_model_module_version": "1.5.0",
      "_model_name": "ProgressStyleModel",
      "_view_count": null,
      "_view_module": "@jupyter-widgets/base",
      "_view_module_version": "1.2.0",
      "_view_name": "StyleView",
      "bar_color": null,
      "description_width": ""
     }
    },
    "ccba8ed94f46421a847ecf492fda9bf6": {
     "model_module": "@jupyter-widgets/base",
     "model_module_version": "1.2.0",
     "model_name": "LayoutModel",
     "state": {
      "_model_module": "@jupyter-widgets/base",
      "_model_module_version": "1.2.0",
      "_model_name": "LayoutModel",
      "_view_count": null,
      "_view_module": "@jupyter-widgets/base",
      "_view_module_version": "1.2.0",
      "_view_name": "LayoutView",
      "align_content": null,
      "align_items": null,
      "align_self": null,
      "border": null,
      "bottom": null,
      "display": null,
      "flex": "2",
      "flex_flow": null,
      "grid_area": null,
      "grid_auto_columns": null,
      "grid_auto_flow": null,
      "grid_auto_rows": null,
      "grid_column": null,
      "grid_gap": null,
      "grid_row": null,
      "grid_template_areas": null,
      "grid_template_columns": null,
      "grid_template_rows": null,
      "height": null,
      "justify_content": null,
      "justify_items": null,
      "left": null,
      "margin": null,
      "max_height": null,
      "max_width": null,
      "min_height": null,
      "min_width": null,
      "object_fit": null,
      "object_position": null,
      "order": null,
      "overflow": null,
      "overflow_x": null,
      "overflow_y": null,
      "padding": null,
      "right": null,
      "top": null,
      "visibility": null,
      "width": null
     }
    },
    "d01e0c8a69a14578a2842c3949c721a3": {
     "model_module": "@jupyter-widgets/controls",
     "model_module_version": "1.5.0",
     "model_name": "ProgressStyleModel",
     "state": {
      "_model_module": "@jupyter-widgets/controls",
      "_model_module_version": "1.5.0",
      "_model_name": "ProgressStyleModel",
      "_view_count": null,
      "_view_module": "@jupyter-widgets/base",
      "_view_module_version": "1.2.0",
      "_view_name": "StyleView",
      "bar_color": null,
      "description_width": ""
     }
    },
    "d3eb64b4110d408b8335e84a65bf8213": {
     "model_module": "@jupyter-widgets/controls",
     "model_module_version": "1.5.0",
     "model_name": "HTMLModel",
     "state": {
      "_dom_classes": [],
      "_model_module": "@jupyter-widgets/controls",
      "_model_module_version": "1.5.0",
      "_model_name": "HTMLModel",
      "_view_count": null,
      "_view_module": "@jupyter-widgets/controls",
      "_view_module_version": "1.5.0",
      "_view_name": "HTMLView",
      "description": "",
      "description_tooltip": null,
      "layout": "IPY_MODEL_dfcd6e17e63d4ffa9fbc6da32149f119",
      "placeholder": "​",
      "style": "IPY_MODEL_62acb0de4dc84a85aece03fcd4c60085",
      "value": "Sanity Checking DataLoader 0: 100%"
     }
    },
    "d8a0ffdb4b924cf9a3c891ad79884c00": {
     "model_module": "@jupyter-widgets/controls",
     "model_module_version": "1.5.0",
     "model_name": "HTMLModel",
     "state": {
      "_dom_classes": [],
      "_model_module": "@jupyter-widgets/controls",
      "_model_module_version": "1.5.0",
      "_model_name": "HTMLModel",
      "_view_count": null,
      "_view_module": "@jupyter-widgets/controls",
      "_view_module_version": "1.5.0",
      "_view_name": "HTMLView",
      "description": "",
      "description_tooltip": null,
      "layout": "IPY_MODEL_03d3aaf041934a3a909d95e52bf60470",
      "placeholder": "​",
      "style": "IPY_MODEL_c8e459e020044afe92775692022c0f75",
      "value": " 2/2 [00:00&lt;00:00, 17.63it/s]"
     }
    },
    "d8a74f349dbe4f49bf98602029edc293": {
     "model_module": "@jupyter-widgets/base",
     "model_module_version": "1.2.0",
     "model_name": "LayoutModel",
     "state": {
      "_model_module": "@jupyter-widgets/base",
      "_model_module_version": "1.2.0",
      "_model_name": "LayoutModel",
      "_view_count": null,
      "_view_module": "@jupyter-widgets/base",
      "_view_module_version": "1.2.0",
      "_view_name": "LayoutView",
      "align_content": null,
      "align_items": null,
      "align_self": null,
      "border": null,
      "bottom": null,
      "display": null,
      "flex": null,
      "flex_flow": null,
      "grid_area": null,
      "grid_auto_columns": null,
      "grid_auto_flow": null,
      "grid_auto_rows": null,
      "grid_column": null,
      "grid_gap": null,
      "grid_row": null,
      "grid_template_areas": null,
      "grid_template_columns": null,
      "grid_template_rows": null,
      "height": null,
      "justify_content": null,
      "justify_items": null,
      "left": null,
      "margin": null,
      "max_height": null,
      "max_width": null,
      "min_height": null,
      "min_width": null,
      "object_fit": null,
      "object_position": null,
      "order": null,
      "overflow": null,
      "overflow_x": null,
      "overflow_y": null,
      "padding": null,
      "right": null,
      "top": null,
      "visibility": null,
      "width": null
     }
    },
    "da19202d546040338698cd8021ad3d20": {
     "model_module": "@jupyter-widgets/controls",
     "model_module_version": "1.5.0",
     "model_name": "HBoxModel",
     "state": {
      "_dom_classes": [],
      "_model_module": "@jupyter-widgets/controls",
      "_model_module_version": "1.5.0",
      "_model_name": "HBoxModel",
      "_view_count": null,
      "_view_module": "@jupyter-widgets/controls",
      "_view_module_version": "1.5.0",
      "_view_name": "HBoxView",
      "box_style": "",
      "children": [
       "IPY_MODEL_1c3dfaa8b98843d497af9784791265d8",
       "IPY_MODEL_42b6fae4b8014185b88755e6f96033cc",
       "IPY_MODEL_d8a0ffdb4b924cf9a3c891ad79884c00"
      ],
      "layout": "IPY_MODEL_026211534885481e84f15e964b50b721"
     }
    },
    "da9094b51c674ca0ad74b5ea5c73dbed": {
     "model_module": "@jupyter-widgets/base",
     "model_module_version": "1.2.0",
     "model_name": "LayoutModel",
     "state": {
      "_model_module": "@jupyter-widgets/base",
      "_model_module_version": "1.2.0",
      "_model_name": "LayoutModel",
      "_view_count": null,
      "_view_module": "@jupyter-widgets/base",
      "_view_module_version": "1.2.0",
      "_view_name": "LayoutView",
      "align_content": null,
      "align_items": null,
      "align_self": null,
      "border": null,
      "bottom": null,
      "display": null,
      "flex": null,
      "flex_flow": null,
      "grid_area": null,
      "grid_auto_columns": null,
      "grid_auto_flow": null,
      "grid_auto_rows": null,
      "grid_column": null,
      "grid_gap": null,
      "grid_row": null,
      "grid_template_areas": null,
      "grid_template_columns": null,
      "grid_template_rows": null,
      "height": null,
      "justify_content": null,
      "justify_items": null,
      "left": null,
      "margin": null,
      "max_height": null,
      "max_width": null,
      "min_height": null,
      "min_width": null,
      "object_fit": null,
      "object_position": null,
      "order": null,
      "overflow": null,
      "overflow_x": null,
      "overflow_y": null,
      "padding": null,
      "right": null,
      "top": null,
      "visibility": null,
      "width": null
     }
    },
    "dbd0b13e6d9f4b219d381db61cc1830a": {
     "model_module": "@jupyter-widgets/base",
     "model_module_version": "1.2.0",
     "model_name": "LayoutModel",
     "state": {
      "_model_module": "@jupyter-widgets/base",
      "_model_module_version": "1.2.0",
      "_model_name": "LayoutModel",
      "_view_count": null,
      "_view_module": "@jupyter-widgets/base",
      "_view_module_version": "1.2.0",
      "_view_name": "LayoutView",
      "align_content": null,
      "align_items": null,
      "align_self": null,
      "border": null,
      "bottom": null,
      "display": "inline-flex",
      "flex": null,
      "flex_flow": "row wrap",
      "grid_area": null,
      "grid_auto_columns": null,
      "grid_auto_flow": null,
      "grid_auto_rows": null,
      "grid_column": null,
      "grid_gap": null,
      "grid_row": null,
      "grid_template_areas": null,
      "grid_template_columns": null,
      "grid_template_rows": null,
      "height": null,
      "justify_content": null,
      "justify_items": null,
      "left": null,
      "margin": null,
      "max_height": null,
      "max_width": null,
      "min_height": null,
      "min_width": null,
      "object_fit": null,
      "object_position": null,
      "order": null,
      "overflow": null,
      "overflow_x": null,
      "overflow_y": null,
      "padding": null,
      "right": null,
      "top": null,
      "visibility": "hidden",
      "width": "100%"
     }
    },
    "dce673f369364b8c8ff156fbcae3256d": {
     "model_module": "@jupyter-widgets/controls",
     "model_module_version": "1.5.0",
     "model_name": "DescriptionStyleModel",
     "state": {
      "_model_module": "@jupyter-widgets/controls",
      "_model_module_version": "1.5.0",
      "_model_name": "DescriptionStyleModel",
      "_view_count": null,
      "_view_module": "@jupyter-widgets/base",
      "_view_module_version": "1.2.0",
      "_view_name": "StyleView",
      "description_width": ""
     }
    },
    "dcef895547634494aa43c289222047aa": {
     "model_module": "@jupyter-widgets/base",
     "model_module_version": "1.2.0",
     "model_name": "LayoutModel",
     "state": {
      "_model_module": "@jupyter-widgets/base",
      "_model_module_version": "1.2.0",
      "_model_name": "LayoutModel",
      "_view_count": null,
      "_view_module": "@jupyter-widgets/base",
      "_view_module_version": "1.2.0",
      "_view_name": "LayoutView",
      "align_content": null,
      "align_items": null,
      "align_self": null,
      "border": null,
      "bottom": null,
      "display": null,
      "flex": null,
      "flex_flow": null,
      "grid_area": null,
      "grid_auto_columns": null,
      "grid_auto_flow": null,
      "grid_auto_rows": null,
      "grid_column": null,
      "grid_gap": null,
      "grid_row": null,
      "grid_template_areas": null,
      "grid_template_columns": null,
      "grid_template_rows": null,
      "height": null,
      "justify_content": null,
      "justify_items": null,
      "left": null,
      "margin": null,
      "max_height": null,
      "max_width": null,
      "min_height": null,
      "min_width": null,
      "object_fit": null,
      "object_position": null,
      "order": null,
      "overflow": null,
      "overflow_x": null,
      "overflow_y": null,
      "padding": null,
      "right": null,
      "top": null,
      "visibility": null,
      "width": null
     }
    },
    "dfcd6e17e63d4ffa9fbc6da32149f119": {
     "model_module": "@jupyter-widgets/base",
     "model_module_version": "1.2.0",
     "model_name": "LayoutModel",
     "state": {
      "_model_module": "@jupyter-widgets/base",
      "_model_module_version": "1.2.0",
      "_model_name": "LayoutModel",
      "_view_count": null,
      "_view_module": "@jupyter-widgets/base",
      "_view_module_version": "1.2.0",
      "_view_name": "LayoutView",
      "align_content": null,
      "align_items": null,
      "align_self": null,
      "border": null,
      "bottom": null,
      "display": null,
      "flex": null,
      "flex_flow": null,
      "grid_area": null,
      "grid_auto_columns": null,
      "grid_auto_flow": null,
      "grid_auto_rows": null,
      "grid_column": null,
      "grid_gap": null,
      "grid_row": null,
      "grid_template_areas": null,
      "grid_template_columns": null,
      "grid_template_rows": null,
      "height": null,
      "justify_content": null,
      "justify_items": null,
      "left": null,
      "margin": null,
      "max_height": null,
      "max_width": null,
      "min_height": null,
      "min_width": null,
      "object_fit": null,
      "object_position": null,
      "order": null,
      "overflow": null,
      "overflow_x": null,
      "overflow_y": null,
      "padding": null,
      "right": null,
      "top": null,
      "visibility": null,
      "width": null
     }
    },
    "e01bb82a7c634c4b9d521138d9320130": {
     "model_module": "@jupyter-widgets/base",
     "model_module_version": "1.2.0",
     "model_name": "LayoutModel",
     "state": {
      "_model_module": "@jupyter-widgets/base",
      "_model_module_version": "1.2.0",
      "_model_name": "LayoutModel",
      "_view_count": null,
      "_view_module": "@jupyter-widgets/base",
      "_view_module_version": "1.2.0",
      "_view_name": "LayoutView",
      "align_content": null,
      "align_items": null,
      "align_self": null,
      "border": null,
      "bottom": null,
      "display": null,
      "flex": null,
      "flex_flow": null,
      "grid_area": null,
      "grid_auto_columns": null,
      "grid_auto_flow": null,
      "grid_auto_rows": null,
      "grid_column": null,
      "grid_gap": null,
      "grid_row": null,
      "grid_template_areas": null,
      "grid_template_columns": null,
      "grid_template_rows": null,
      "height": null,
      "justify_content": null,
      "justify_items": null,
      "left": null,
      "margin": null,
      "max_height": null,
      "max_width": null,
      "min_height": null,
      "min_width": null,
      "object_fit": null,
      "object_position": null,
      "order": null,
      "overflow": null,
      "overflow_x": null,
      "overflow_y": null,
      "padding": null,
      "right": null,
      "top": null,
      "visibility": null,
      "width": null
     }
    },
    "e18e1f2089874b62b52ecde47ac2694f": {
     "model_module": "@jupyter-widgets/controls",
     "model_module_version": "1.5.0",
     "model_name": "ProgressStyleModel",
     "state": {
      "_model_module": "@jupyter-widgets/controls",
      "_model_module_version": "1.5.0",
      "_model_name": "ProgressStyleModel",
      "_view_count": null,
      "_view_module": "@jupyter-widgets/base",
      "_view_module_version": "1.2.0",
      "_view_name": "StyleView",
      "bar_color": null,
      "description_width": ""
     }
    },
    "e43c788feaf641ca9299d10c70529b00": {
     "model_module": "@jupyter-widgets/base",
     "model_module_version": "1.2.0",
     "model_name": "LayoutModel",
     "state": {
      "_model_module": "@jupyter-widgets/base",
      "_model_module_version": "1.2.0",
      "_model_name": "LayoutModel",
      "_view_count": null,
      "_view_module": "@jupyter-widgets/base",
      "_view_module_version": "1.2.0",
      "_view_name": "LayoutView",
      "align_content": null,
      "align_items": null,
      "align_self": null,
      "border": null,
      "bottom": null,
      "display": null,
      "flex": null,
      "flex_flow": null,
      "grid_area": null,
      "grid_auto_columns": null,
      "grid_auto_flow": null,
      "grid_auto_rows": null,
      "grid_column": null,
      "grid_gap": null,
      "grid_row": null,
      "grid_template_areas": null,
      "grid_template_columns": null,
      "grid_template_rows": null,
      "height": null,
      "justify_content": null,
      "justify_items": null,
      "left": null,
      "margin": null,
      "max_height": null,
      "max_width": null,
      "min_height": null,
      "min_width": null,
      "object_fit": null,
      "object_position": null,
      "order": null,
      "overflow": null,
      "overflow_x": null,
      "overflow_y": null,
      "padding": null,
      "right": null,
      "top": null,
      "visibility": null,
      "width": null
     }
    },
    "e4a9b6d66e9d4d289ff4170276f4ac0e": {
     "model_module": "@jupyter-widgets/controls",
     "model_module_version": "1.5.0",
     "model_name": "DescriptionStyleModel",
     "state": {
      "_model_module": "@jupyter-widgets/controls",
      "_model_module_version": "1.5.0",
      "_model_name": "DescriptionStyleModel",
      "_view_count": null,
      "_view_module": "@jupyter-widgets/base",
      "_view_module_version": "1.2.0",
      "_view_name": "StyleView",
      "description_width": ""
     }
    },
    "e7bcfcdfde0741748237a3f462e707cb": {
     "model_module": "@jupyter-widgets/controls",
     "model_module_version": "1.5.0",
     "model_name": "DescriptionStyleModel",
     "state": {
      "_model_module": "@jupyter-widgets/controls",
      "_model_module_version": "1.5.0",
      "_model_name": "DescriptionStyleModel",
      "_view_count": null,
      "_view_module": "@jupyter-widgets/base",
      "_view_module_version": "1.2.0",
      "_view_name": "StyleView",
      "description_width": ""
     }
    },
    "e81f09fb5f4944a1acf2351282593794": {
     "model_module": "@jupyter-widgets/controls",
     "model_module_version": "1.5.0",
     "model_name": "HBoxModel",
     "state": {
      "_dom_classes": [],
      "_model_module": "@jupyter-widgets/controls",
      "_model_module_version": "1.5.0",
      "_model_name": "HBoxModel",
      "_view_count": null,
      "_view_module": "@jupyter-widgets/controls",
      "_view_module_version": "1.5.0",
      "_view_name": "HBoxView",
      "box_style": "",
      "children": [
       "IPY_MODEL_2ff92648053941678bb1735adae9fcbd",
       "IPY_MODEL_3d9e07aa3a8a4ae4906686965b6c2f62",
       "IPY_MODEL_a1d1f94f3c934e70b8d022ddff2125e2"
      ],
      "layout": "IPY_MODEL_633b5e6b12a7463a9f26e60a62279d69"
     }
    },
    "e9c592e268014cb48e718dd86ec85c92": {
     "model_module": "@jupyter-widgets/controls",
     "model_module_version": "1.5.0",
     "model_name": "ProgressStyleModel",
     "state": {
      "_model_module": "@jupyter-widgets/controls",
      "_model_module_version": "1.5.0",
      "_model_name": "ProgressStyleModel",
      "_view_count": null,
      "_view_module": "@jupyter-widgets/base",
      "_view_module_version": "1.2.0",
      "_view_name": "StyleView",
      "bar_color": null,
      "description_width": ""
     }
    },
    "eb81bda48af94abbba6659c06001fbfa": {
     "model_module": "@jupyter-widgets/controls",
     "model_module_version": "1.5.0",
     "model_name": "FloatProgressModel",
     "state": {
      "_dom_classes": [],
      "_model_module": "@jupyter-widgets/controls",
      "_model_module_version": "1.5.0",
      "_model_name": "FloatProgressModel",
      "_view_count": null,
      "_view_module": "@jupyter-widgets/controls",
      "_view_module_version": "1.5.0",
      "_view_name": "ProgressView",
      "bar_style": "success",
      "description": "",
      "description_tooltip": null,
      "layout": "IPY_MODEL_90a07cc4aab04b64b11e3029d72cd325",
      "max": 16,
      "min": 0,
      "orientation": "horizontal",
      "style": "IPY_MODEL_03ebc8a0006e402dad631dda51cc274e",
      "value": 16
     }
    },
    "ed1ea11f016648b2bdfea5de3502072d": {
     "model_module": "@jupyter-widgets/controls",
     "model_module_version": "1.5.0",
     "model_name": "DescriptionStyleModel",
     "state": {
      "_model_module": "@jupyter-widgets/controls",
      "_model_module_version": "1.5.0",
      "_model_name": "DescriptionStyleModel",
      "_view_count": null,
      "_view_module": "@jupyter-widgets/base",
      "_view_module_version": "1.2.0",
      "_view_name": "StyleView",
      "description_width": ""
     }
    },
    "ede575ae6a6842a0a74010a13d1f1744": {
     "model_module": "@jupyter-widgets/controls",
     "model_module_version": "1.5.0",
     "model_name": "HTMLModel",
     "state": {
      "_dom_classes": [],
      "_model_module": "@jupyter-widgets/controls",
      "_model_module_version": "1.5.0",
      "_model_name": "HTMLModel",
      "_view_count": null,
      "_view_module": "@jupyter-widgets/controls",
      "_view_module_version": "1.5.0",
      "_view_name": "HTMLView",
      "description": "",
      "description_tooltip": null,
      "layout": "IPY_MODEL_dcef895547634494aa43c289222047aa",
      "placeholder": "​",
      "style": "IPY_MODEL_73639011529f46e9aadd3909f0969162",
      "value": " 8/8 [00:00&lt;00:00, 20.48it/s]"
     }
    },
    "f20c8011eccb47e284aae7a8fc9bbaa6": {
     "model_module": "@jupyter-widgets/controls",
     "model_module_version": "1.5.0",
     "model_name": "HBoxModel",
     "state": {
      "_dom_classes": [],
      "_model_module": "@jupyter-widgets/controls",
      "_model_module_version": "1.5.0",
      "_model_name": "HBoxModel",
      "_view_count": null,
      "_view_module": "@jupyter-widgets/controls",
      "_view_module_version": "1.5.0",
      "_view_name": "HBoxView",
      "box_style": "",
      "children": [
       "IPY_MODEL_5c6eb390527743c8971fa9eab46c2740",
       "IPY_MODEL_0c6a2c50d87a42baa235ed313605dd3d",
       "IPY_MODEL_6abe88317ac34650bf7641d5bc3b06ea"
      ],
      "layout": "IPY_MODEL_c96a0950754f4390b6aa4ab34984df26"
     }
    },
    "f417a94d02e44ad383dfde329202c783": {
     "model_module": "@jupyter-widgets/controls",
     "model_module_version": "1.5.0",
     "model_name": "HTMLModel",
     "state": {
      "_dom_classes": [],
      "_model_module": "@jupyter-widgets/controls",
      "_model_module_version": "1.5.0",
      "_model_name": "HTMLModel",
      "_view_count": null,
      "_view_module": "@jupyter-widgets/controls",
      "_view_module_version": "1.5.0",
      "_view_name": "HTMLView",
      "description": "",
      "description_tooltip": null,
      "layout": "IPY_MODEL_e43c788feaf641ca9299d10c70529b00",
      "placeholder": "​",
      "style": "IPY_MODEL_0a61be0d43794a48a69bcc2029e3a133",
      "value": "Validation DataLoader 0: 100%"
     }
    },
    "f506b35860bb46798b7b9ff298b6d1ea": {
     "model_module": "@jupyter-widgets/controls",
     "model_module_version": "1.5.0",
     "model_name": "HTMLModel",
     "state": {
      "_dom_classes": [],
      "_model_module": "@jupyter-widgets/controls",
      "_model_module_version": "1.5.0",
      "_model_name": "HTMLModel",
      "_view_count": null,
      "_view_module": "@jupyter-widgets/controls",
      "_view_module_version": "1.5.0",
      "_view_name": "HTMLView",
      "description": "",
      "description_tooltip": null,
      "layout": "IPY_MODEL_0c22a056569740548eb94f11d2003872",
      "placeholder": "​",
      "style": "IPY_MODEL_bf81c3dd0445454788170bb117c44a2c",
      "value": " 8/8 [00:00&lt;00:00, 21.04it/s]"
     }
    },
    "f592da6864df4478bf323d8b94a63478": {
     "model_module": "@jupyter-widgets/base",
     "model_module_version": "1.2.0",
     "model_name": "LayoutModel",
     "state": {
      "_model_module": "@jupyter-widgets/base",
      "_model_module_version": "1.2.0",
      "_model_name": "LayoutModel",
      "_view_count": null,
      "_view_module": "@jupyter-widgets/base",
      "_view_module_version": "1.2.0",
      "_view_name": "LayoutView",
      "align_content": null,
      "align_items": null,
      "align_self": null,
      "border": null,
      "bottom": null,
      "display": "inline-flex",
      "flex": null,
      "flex_flow": "row wrap",
      "grid_area": null,
      "grid_auto_columns": null,
      "grid_auto_flow": null,
      "grid_auto_rows": null,
      "grid_column": null,
      "grid_gap": null,
      "grid_row": null,
      "grid_template_areas": null,
      "grid_template_columns": null,
      "grid_template_rows": null,
      "height": null,
      "justify_content": null,
      "justify_items": null,
      "left": null,
      "margin": null,
      "max_height": null,
      "max_width": null,
      "min_height": null,
      "min_width": null,
      "object_fit": null,
      "object_position": null,
      "order": null,
      "overflow": null,
      "overflow_x": null,
      "overflow_y": null,
      "padding": null,
      "right": null,
      "top": null,
      "visibility": null,
      "width": "100%"
     }
    },
    "f9a4bc9e929e43c0b72483728b5fd580": {
     "model_module": "@jupyter-widgets/base",
     "model_module_version": "1.2.0",
     "model_name": "LayoutModel",
     "state": {
      "_model_module": "@jupyter-widgets/base",
      "_model_module_version": "1.2.0",
      "_model_name": "LayoutModel",
      "_view_count": null,
      "_view_module": "@jupyter-widgets/base",
      "_view_module_version": "1.2.0",
      "_view_name": "LayoutView",
      "align_content": null,
      "align_items": null,
      "align_self": null,
      "border": null,
      "bottom": null,
      "display": null,
      "flex": null,
      "flex_flow": null,
      "grid_area": null,
      "grid_auto_columns": null,
      "grid_auto_flow": null,
      "grid_auto_rows": null,
      "grid_column": null,
      "grid_gap": null,
      "grid_row": null,
      "grid_template_areas": null,
      "grid_template_columns": null,
      "grid_template_rows": null,
      "height": null,
      "justify_content": null,
      "justify_items": null,
      "left": null,
      "margin": null,
      "max_height": null,
      "max_width": null,
      "min_height": null,
      "min_width": null,
      "object_fit": null,
      "object_position": null,
      "order": null,
      "overflow": null,
      "overflow_x": null,
      "overflow_y": null,
      "padding": null,
      "right": null,
      "top": null,
      "visibility": null,
      "width": null
     }
    },
    "fbaaf71f2b0940299a8ac7ef09c1339b": {
     "model_module": "@jupyter-widgets/controls",
     "model_module_version": "1.5.0",
     "model_name": "FloatProgressModel",
     "state": {
      "_dom_classes": [],
      "_model_module": "@jupyter-widgets/controls",
      "_model_module_version": "1.5.0",
      "_model_name": "FloatProgressModel",
      "_view_count": null,
      "_view_module": "@jupyter-widgets/controls",
      "_view_module_version": "1.5.0",
      "_view_name": "ProgressView",
      "bar_style": "success",
      "description": "",
      "description_tooltip": null,
      "layout": "IPY_MODEL_4b85731ab57c4f42a33f9ecaa1194d29",
      "max": 16,
      "min": 0,
      "orientation": "horizontal",
      "style": "IPY_MODEL_7399ba6d4eaf42efa924520a28732219",
      "value": 16
     }
    },
    "fd5fa00522e44d5e9fe00813658d957c": {
     "model_module": "@jupyter-widgets/base",
     "model_module_version": "1.2.0",
     "model_name": "LayoutModel",
     "state": {
      "_model_module": "@jupyter-widgets/base",
      "_model_module_version": "1.2.0",
      "_model_name": "LayoutModel",
      "_view_count": null,
      "_view_module": "@jupyter-widgets/base",
      "_view_module_version": "1.2.0",
      "_view_name": "LayoutView",
      "align_content": null,
      "align_items": null,
      "align_self": null,
      "border": null,
      "bottom": null,
      "display": "inline-flex",
      "flex": null,
      "flex_flow": "row wrap",
      "grid_area": null,
      "grid_auto_columns": null,
      "grid_auto_flow": null,
      "grid_auto_rows": null,
      "grid_column": null,
      "grid_gap": null,
      "grid_row": null,
      "grid_template_areas": null,
      "grid_template_columns": null,
      "grid_template_rows": null,
      "height": null,
      "justify_content": null,
      "justify_items": null,
      "left": null,
      "margin": null,
      "max_height": null,
      "max_width": null,
      "min_height": null,
      "min_width": null,
      "object_fit": null,
      "object_position": null,
      "order": null,
      "overflow": null,
      "overflow_x": null,
      "overflow_y": null,
      "padding": null,
      "right": null,
      "top": null,
      "visibility": "hidden",
      "width": "100%"
     }
    },
    "fd98f467b9e54cb5a17857c8407e8ed5": {
     "model_module": "@jupyter-widgets/controls",
     "model_module_version": "1.5.0",
     "model_name": "HBoxModel",
     "state": {
      "_dom_classes": [],
      "_model_module": "@jupyter-widgets/controls",
      "_model_module_version": "1.5.0",
      "_model_name": "HBoxModel",
      "_view_count": null,
      "_view_module": "@jupyter-widgets/controls",
      "_view_module_version": "1.5.0",
      "_view_name": "HBoxView",
      "box_style": "",
      "children": [
       "IPY_MODEL_10a566efd6fa45728eff83ae2829e19d",
       "IPY_MODEL_fbaaf71f2b0940299a8ac7ef09c1339b",
       "IPY_MODEL_7a64bcb673124948914e268bd6f1e97a"
      ],
      "layout": "IPY_MODEL_f592da6864df4478bf323d8b94a63478"
     }
    },
    "fe7f7ea2f2d9406d921509e2242ea9a4": {
     "model_module": "@jupyter-widgets/controls",
     "model_module_version": "1.5.0",
     "model_name": "FloatProgressModel",
     "state": {
      "_dom_classes": [],
      "_model_module": "@jupyter-widgets/controls",
      "_model_module_version": "1.5.0",
      "_model_name": "FloatProgressModel",
      "_view_count": null,
      "_view_module": "@jupyter-widgets/controls",
      "_view_module_version": "1.5.0",
      "_view_name": "ProgressView",
      "bar_style": "",
      "description": "",
      "description_tooltip": null,
      "layout": "IPY_MODEL_0a5c69b869304a53b8f3d86a7afceedf",
      "max": 8,
      "min": 0,
      "orientation": "horizontal",
      "style": "IPY_MODEL_cc20e816ea464f4d8f6683fc4709c306",
      "value": 8
     }
    }
   }
  }
 },
 "nbformat": 4,
 "nbformat_minor": 4
}
